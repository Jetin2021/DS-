{
 "cells": [
  {
   "cell_type": "code",
   "execution_count": 2,
   "id": "e7eadd36",
   "metadata": {},
   "outputs": [
    {
     "name": "stdout",
     "output_type": "stream",
     "text": [
      "Requirement already satisfied: selenium in c:\\users\\divya rekha\\anaconda3\\lib\\site-packages (4.18.1)\n",
      "Requirement already satisfied: urllib3[socks]<3,>=1.26 in c:\\users\\divya rekha\\anaconda3\\lib\\site-packages (from selenium) (1.26.16)\n",
      "Requirement already satisfied: trio~=0.17 in c:\\users\\divya rekha\\anaconda3\\lib\\site-packages (from selenium) (0.24.0)\n",
      "Requirement already satisfied: trio-websocket~=0.9 in c:\\users\\divya rekha\\anaconda3\\lib\\site-packages (from selenium) (0.11.1)\n",
      "Requirement already satisfied: certifi>=2021.10.8 in c:\\users\\divya rekha\\anaconda3\\lib\\site-packages (from selenium) (2023.7.22)\n",
      "Requirement already satisfied: typing_extensions>=4.9.0 in c:\\users\\divya rekha\\anaconda3\\lib\\site-packages (from selenium) (4.10.0)\n",
      "Requirement already satisfied: attrs>=20.1.0 in c:\\users\\divya rekha\\anaconda3\\lib\\site-packages (from trio~=0.17->selenium) (22.1.0)\n",
      "Requirement already satisfied: sortedcontainers in c:\\users\\divya rekha\\anaconda3\\lib\\site-packages (from trio~=0.17->selenium) (2.4.0)\n",
      "Requirement already satisfied: idna in c:\\users\\divya rekha\\anaconda3\\lib\\site-packages (from trio~=0.17->selenium) (3.4)\n",
      "Requirement already satisfied: outcome in c:\\users\\divya rekha\\anaconda3\\lib\\site-packages (from trio~=0.17->selenium) (1.3.0.post0)\n",
      "Requirement already satisfied: sniffio>=1.3.0 in c:\\users\\divya rekha\\anaconda3\\lib\\site-packages (from trio~=0.17->selenium) (1.3.1)\n",
      "Requirement already satisfied: cffi>=1.14 in c:\\users\\divya rekha\\anaconda3\\lib\\site-packages (from trio~=0.17->selenium) (1.15.1)\n",
      "Requirement already satisfied: wsproto>=0.14 in c:\\users\\divya rekha\\anaconda3\\lib\\site-packages (from trio-websocket~=0.9->selenium) (1.2.0)\n",
      "Requirement already satisfied: PySocks!=1.5.7,<2.0,>=1.5.6 in c:\\users\\divya rekha\\anaconda3\\lib\\site-packages (from urllib3[socks]<3,>=1.26->selenium) (1.7.1)\n",
      "Requirement already satisfied: pycparser in c:\\users\\divya rekha\\anaconda3\\lib\\site-packages (from cffi>=1.14->trio~=0.17->selenium) (2.21)\n",
      "Requirement already satisfied: h11<1,>=0.9.0 in c:\\users\\divya rekha\\anaconda3\\lib\\site-packages (from wsproto>=0.14->trio-websocket~=0.9->selenium) (0.14.0)\n"
     ]
    }
   ],
   "source": [
    "!pip install selenium"
   ]
  },
  {
   "cell_type": "code",
   "execution_count": 3,
   "id": "3a71bfb1",
   "metadata": {},
   "outputs": [],
   "source": [
    "import selenium\n",
    "import pandas as pd\n",
    "from selenium import webdriver\n",
    "import warnings\n",
    "warnings.filterwarnings('ignore')\n",
    "from selenium.webdriver.common.by import By"
   ]
  },
  {
   "cell_type": "code",
   "execution_count": 4,
   "id": "89d66ff5",
   "metadata": {},
   "outputs": [],
   "source": [
    "driver = webdriver.Chrome()"
   ]
  },
  {
   "cell_type": "code",
   "execution_count": 5,
   "id": "317f69e5",
   "metadata": {},
   "outputs": [],
   "source": [
    "driver.get (\"https://www.flipkart.com/apple-iphone-11-black-64-gb/product-reviews/itm4e5041ba101fd?pid=MOBFWQ6BXGJCEYNY&lid=LSTMOBFWQ6BXGJCEYNYZXSHRJ&marketplace=FLIPKART\")\n"
   ]
  },
  {
   "cell_type": "code",
   "execution_count": 6,
   "id": "2e7ac4fa",
   "metadata": {},
   "outputs": [],
   "source": [
    "R_Rating=[]\n",
    "Review_summary=[]\n",
    "Full_review=[]"
   ]
  },
  {
   "cell_type": "code",
   "execution_count": 7,
   "id": "0e3c83eb",
   "metadata": {},
   "outputs": [],
   "source": [
    "R_Rating_tags=driver.find_elements(By.XPATH, '//div[@class=\"_3LWZlK _1BLPMq\"]')\n",
    "for i in R_Rating_tags:\n",
    "    Rating=i.text\n",
    "    R_Rating.append(Rating)\n"
   ]
  },
  {
   "cell_type": "code",
   "execution_count": 8,
   "id": "ad0ef312",
   "metadata": {},
   "outputs": [
    {
     "data": {
      "text/plain": [
       "['5', '5', '5', '5', '5', '5', '5', '5', '5', '5']"
      ]
     },
     "execution_count": 8,
     "metadata": {},
     "output_type": "execute_result"
    }
   ],
   "source": [
    "R_Rating"
   ]
  },
  {
   "cell_type": "code",
   "execution_count": 9,
   "id": "b4a54d77",
   "metadata": {},
   "outputs": [],
   "source": [
    "Review_summary_tags=driver.find_elements(By.XPATH, '//p[@class=\"_2-N8zT\"]')\n",
    "for i in Review_summary_tags:\n",
    "    Review=i.text\n",
    "    Review_summary.append(Review)"
   ]
  },
  {
   "cell_type": "code",
   "execution_count": 10,
   "id": "8cef99d9",
   "metadata": {},
   "outputs": [
    {
     "data": {
      "text/plain": [
       "['Worth every penny',\n",
       " 'Best in the market!',\n",
       " 'Terrific',\n",
       " 'Classy product',\n",
       " 'Terrific purchase',\n",
       " 'Brilliant',\n",
       " 'Perfect product!',\n",
       " 'Just wow!',\n",
       " 'Wonderful',\n",
       " 'Fabulous!']"
      ]
     },
     "execution_count": 10,
     "metadata": {},
     "output_type": "execute_result"
    }
   ],
   "source": [
    "Review_summary"
   ]
  },
  {
   "cell_type": "code",
   "execution_count": 11,
   "id": "f69666f9",
   "metadata": {},
   "outputs": [],
   "source": [
    "Full_review_tags=driver.find_elements(By.XPATH, '//div[@class=\"t-ZTKy\"]')\n",
    "for i in Full_review_tags:\n",
    "    full=i.text\n",
    "    Full_review.append(full)"
   ]
  },
  {
   "cell_type": "code",
   "execution_count": 12,
   "id": "38ebc02c",
   "metadata": {},
   "outputs": [
    {
     "data": {
      "text/plain": [
       "['Feeling awesome after getting the delivery of my phone. Dual speakers makes the sound quality very loud. Amazing!!',\n",
       " 'Good Camera',\n",
       " 'Very very good',\n",
       " 'Camera is awesome\\nBest battery backup\\nA performer 👌🏻\\nIt will be a real value for money if they provide charger and earphone inbox!',\n",
       " 'Value for money 😍',\n",
       " 'very good camera quality',\n",
       " 'Photos super',\n",
       " 'Perfect Product!!',\n",
       " 'This is amazing at all',\n",
       " 'Super🔥 and good performance 👌❤️']"
      ]
     },
     "execution_count": 12,
     "metadata": {},
     "output_type": "execute_result"
    }
   ],
   "source": [
    "Full_review"
   ]
  },
  {
   "cell_type": "code",
   "execution_count": 17,
   "id": "af4ffce2",
   "metadata": {},
   "outputs": [
    {
     "name": "stdout",
     "output_type": "stream",
     "text": [
      "10\n",
      "10\n",
      "10\n"
     ]
    },
    {
     "data": {
      "text/plain": [
       "(None, None, None)"
      ]
     },
     "execution_count": 17,
     "metadata": {},
     "output_type": "execute_result"
    }
   ],
   "source": [
    "print(len(R_Rating[:100])),print(len(Review_summary[:100])),print(len(Full_review[:100]))"
   ]
  },
  {
   "cell_type": "code",
   "execution_count": 18,
   "id": "d24b8229",
   "metadata": {},
   "outputs": [],
   "source": [
    "import pandas as pd\n",
    "df=pd.DataFrame({'R_Rating':R_Rating[:100], 'Review_summary': Review_summary[:100], 'Full_review': Full_review[:100]})"
   ]
  },
  {
   "cell_type": "code",
   "execution_count": 16,
   "id": "21260a61",
   "metadata": {},
   "outputs": [
    {
     "data": {
      "text/html": [
       "<div>\n",
       "<style scoped>\n",
       "    .dataframe tbody tr th:only-of-type {\n",
       "        vertical-align: middle;\n",
       "    }\n",
       "\n",
       "    .dataframe tbody tr th {\n",
       "        vertical-align: top;\n",
       "    }\n",
       "\n",
       "    .dataframe thead th {\n",
       "        text-align: right;\n",
       "    }\n",
       "</style>\n",
       "<table border=\"1\" class=\"dataframe\">\n",
       "  <thead>\n",
       "    <tr style=\"text-align: right;\">\n",
       "      <th></th>\n",
       "      <th>R_Rating</th>\n",
       "      <th>Review_summary</th>\n",
       "      <th>Full_review</th>\n",
       "    </tr>\n",
       "  </thead>\n",
       "  <tbody>\n",
       "    <tr>\n",
       "      <th>0</th>\n",
       "      <td>5</td>\n",
       "      <td>Worth every penny</td>\n",
       "      <td>Feeling awesome after getting the delivery of ...</td>\n",
       "    </tr>\n",
       "    <tr>\n",
       "      <th>1</th>\n",
       "      <td>5</td>\n",
       "      <td>Best in the market!</td>\n",
       "      <td>Good Camera</td>\n",
       "    </tr>\n",
       "    <tr>\n",
       "      <th>2</th>\n",
       "      <td>5</td>\n",
       "      <td>Terrific</td>\n",
       "      <td>Very very good</td>\n",
       "    </tr>\n",
       "    <tr>\n",
       "      <th>3</th>\n",
       "      <td>5</td>\n",
       "      <td>Classy product</td>\n",
       "      <td>Camera is awesome\\nBest battery backup\\nA perf...</td>\n",
       "    </tr>\n",
       "    <tr>\n",
       "      <th>4</th>\n",
       "      <td>5</td>\n",
       "      <td>Terrific purchase</td>\n",
       "      <td>Value for money 😍</td>\n",
       "    </tr>\n",
       "    <tr>\n",
       "      <th>5</th>\n",
       "      <td>5</td>\n",
       "      <td>Brilliant</td>\n",
       "      <td>very good camera quality</td>\n",
       "    </tr>\n",
       "    <tr>\n",
       "      <th>6</th>\n",
       "      <td>5</td>\n",
       "      <td>Perfect product!</td>\n",
       "      <td>Photos super</td>\n",
       "    </tr>\n",
       "    <tr>\n",
       "      <th>7</th>\n",
       "      <td>5</td>\n",
       "      <td>Just wow!</td>\n",
       "      <td>Perfect Product!!</td>\n",
       "    </tr>\n",
       "    <tr>\n",
       "      <th>8</th>\n",
       "      <td>5</td>\n",
       "      <td>Wonderful</td>\n",
       "      <td>This is amazing at all</td>\n",
       "    </tr>\n",
       "    <tr>\n",
       "      <th>9</th>\n",
       "      <td>5</td>\n",
       "      <td>Fabulous!</td>\n",
       "      <td>Super🔥 and good performance 👌❤️</td>\n",
       "    </tr>\n",
       "  </tbody>\n",
       "</table>\n",
       "</div>"
      ],
      "text/plain": [
       "  R_Rating       Review_summary  \\\n",
       "0        5    Worth every penny   \n",
       "1        5  Best in the market!   \n",
       "2        5             Terrific   \n",
       "3        5       Classy product   \n",
       "4        5    Terrific purchase   \n",
       "5        5            Brilliant   \n",
       "6        5     Perfect product!   \n",
       "7        5            Just wow!   \n",
       "8        5            Wonderful   \n",
       "9        5            Fabulous!   \n",
       "\n",
       "                                         Full_review  \n",
       "0  Feeling awesome after getting the delivery of ...  \n",
       "1                                        Good Camera  \n",
       "2                                     Very very good  \n",
       "3  Camera is awesome\\nBest battery backup\\nA perf...  \n",
       "4                                  Value for money 😍  \n",
       "5                           very good camera quality  \n",
       "6                                       Photos super  \n",
       "7                                  Perfect Product!!  \n",
       "8                             This is amazing at all  \n",
       "9                    Super🔥 and good performance 👌❤️  "
      ]
     },
     "execution_count": 16,
     "metadata": {},
     "output_type": "execute_result"
    }
   ],
   "source": [
    "df"
   ]
  },
  {
   "cell_type": "code",
   "execution_count": null,
   "id": "deba598a",
   "metadata": {},
   "outputs": [],
   "source": []
  }
 ],
 "metadata": {
  "kernelspec": {
   "display_name": "Python 3 (ipykernel)",
   "language": "python",
   "name": "python3"
  },
  "language_info": {
   "codemirror_mode": {
    "name": "ipython",
    "version": 3
   },
   "file_extension": ".py",
   "mimetype": "text/x-python",
   "name": "python",
   "nbconvert_exporter": "python",
   "pygments_lexer": "ipython3",
   "version": "3.11.4"
  }
 },
 "nbformat": 4,
 "nbformat_minor": 5
}
