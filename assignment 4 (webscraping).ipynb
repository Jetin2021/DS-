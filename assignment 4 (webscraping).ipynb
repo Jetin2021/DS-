{
 "cells": [
  {
   "cell_type": "markdown",
   "id": "ea8cbd28",
   "metadata": {},
   "source": [
    "# Scrape the details of most viewed videos on YouTube from Wikipedia. Url\n",
    "= https://en.wikipedia.org/wiki/List_of_most-viewed_YouTube_videos You need to find following details: \n",
    "A) Rank\n",
    "B) Name\n",
    "C) Artist\n",
    "D) Upload date\n",
    "E) Views "
   ]
  },
  {
   "cell_type": "code",
   "execution_count": 1,
   "id": "d6f7f5cb",
   "metadata": {},
   "outputs": [],
   "source": [
    "import selenium\n",
    "import pandas as pd\n",
    "import time\n",
    "from bs4 import BeautifulSoup\n",
    "\n",
    "from selenium import webdriver\n",
    "from selenium.common.exceptions import StaleElementReferenceException, NoSuchElementException\n",
    "import requests\n",
    "\n",
    "from selenium.webdriver.common.by import By\n",
    "import re"
   ]
  },
  {
   "cell_type": "code",
   "execution_count": 2,
   "id": "7b47554b",
   "metadata": {},
   "outputs": [],
   "source": [
    "driver=webdriver.Chrome()\n",
    "driver.get(\"https://en.wikipedia.org/wiki/List_of_most-viewed_YouTube_videos\")"
   ]
  },
  {
   "cell_type": "code",
   "execution_count": 3,
   "id": "13593530",
   "metadata": {},
   "outputs": [],
   "source": [
    "Rank=[]\n",
    "Name=[]\n",
    "Artist=[]\n",
    "upload_date=[]\n",
    "views=[]"
   ]
  },
  {
   "cell_type": "code",
   "execution_count": 4,
   "id": "07d12900",
   "metadata": {},
   "outputs": [],
   "source": [
    "rk=driver.find_elements(By.XPATH, '//table[@class=\"sortable wikitable sticky-header static-row-numbers sort-under col3center col4right jquery-tablesorter\"]/tbody/tr')\n",
    "for i in rk:\n",
    "    if i.text is None:\n",
    "        Rank.append(\"--\")\n",
    "    else:\n",
    "            Rank.append(i.text)"
   ]
  },
  {
   "cell_type": "code",
   "execution_count": 5,
   "id": "f72f2658",
   "metadata": {},
   "outputs": [
    {
     "data": {
      "text/plain": [
       "30"
      ]
     },
     "execution_count": 5,
     "metadata": {},
     "output_type": "execute_result"
    }
   ],
   "source": [
    "len(Rank)"
   ]
  },
  {
   "cell_type": "code",
   "execution_count": 7,
   "id": "cced2627",
   "metadata": {},
   "outputs": [],
   "source": [
    "nm=driver.find_elements(By.XPATH, '//table[@class=\"sortable wikitable sticky-header static-row-numbers sort-under col3center col4right jquery-tablesorter\"]/tbody/tr/td[1]')          \n",
    "for i in nm:\n",
    "    if i.text is None:\n",
    "        Name.append(\"--\")\n",
    "    else:\n",
    "            Name.append(i.text)"
   ]
  },
  {
   "cell_type": "code",
   "execution_count": 8,
   "id": "bc78011c",
   "metadata": {},
   "outputs": [
    {
     "data": {
      "text/plain": [
       "30"
      ]
     },
     "execution_count": 8,
     "metadata": {},
     "output_type": "execute_result"
    }
   ],
   "source": [
    "len(Name)"
   ]
  },
  {
   "cell_type": "code",
   "execution_count": 10,
   "id": "39f95da5",
   "metadata": {},
   "outputs": [],
   "source": [
    "Ar=driver.find_elements(By.XPATH, '//table[@class=\"sortable wikitable sticky-header static-row-numbers sort-under col3center col4right jquery-tablesorter\"]/tbody/tr/td[2]')          \n",
    "for i in Ar:\n",
    "    if i.text is None:\n",
    "        Artist.append(\"--\")\n",
    "    else:\n",
    "            Artist.append(i.text)"
   ]
  },
  {
   "cell_type": "code",
   "execution_count": 11,
   "id": "fc7931cb",
   "metadata": {},
   "outputs": [
    {
     "data": {
      "text/plain": [
       "30"
      ]
     },
     "execution_count": 11,
     "metadata": {},
     "output_type": "execute_result"
    }
   ],
   "source": [
    "len(Artist)"
   ]
  },
  {
   "cell_type": "code",
   "execution_count": 13,
   "id": "e1573b67",
   "metadata": {},
   "outputs": [],
   "source": [
    "Vw=driver.find_elements(By.XPATH, '//table[@class=\"sortable wikitable sticky-header static-row-numbers sort-under col3center col4right jquery-tablesorter\"]/tbody/tr/td[3]')          \n",
    "for i in Vw:\n",
    "    if i.text is None:\n",
    "        views.append(\"--\")\n",
    "    else:\n",
    "            views.append(i.text)"
   ]
  },
  {
   "cell_type": "code",
   "execution_count": 14,
   "id": "7a68476d",
   "metadata": {},
   "outputs": [
    {
     "data": {
      "text/plain": [
       "30"
      ]
     },
     "execution_count": 14,
     "metadata": {},
     "output_type": "execute_result"
    }
   ],
   "source": [
    "len(views)"
   ]
  },
  {
   "cell_type": "code",
   "execution_count": 16,
   "id": "7ed58a5c",
   "metadata": {},
   "outputs": [],
   "source": [
    "ud=driver.find_elements(By.XPATH, '//table[@class=\"sortable wikitable sticky-header static-row-numbers sort-under col3center col4right jquery-tablesorter\"]/tbody/tr/td[4]')          \n",
    "for i in ud:\n",
    "    if i.text is None:\n",
    "        upload_date.append(\"--\")\n",
    "    else:\n",
    "            upload_date.append(i.text)\n"
   ]
  },
  {
   "cell_type": "code",
   "execution_count": 17,
   "id": "7aaf2042",
   "metadata": {},
   "outputs": [
    {
     "data": {
      "text/plain": [
       "30"
      ]
     },
     "execution_count": 17,
     "metadata": {},
     "output_type": "execute_result"
    }
   ],
   "source": [
    "len(upload_date)"
   ]
  },
  {
   "cell_type": "code",
   "execution_count": 19,
   "id": "3955044e",
   "metadata": {},
   "outputs": [],
   "source": [
    "df=pd.DataFrame({'Rank':Rank, 'video Name': Name, 'Artist': Artist, 'views in billion': views, 'upload_date': upload_date})\n",
    "\n"
   ]
  },
  {
   "cell_type": "code",
   "execution_count": 20,
   "id": "833279b0",
   "metadata": {},
   "outputs": [
    {
     "data": {
      "text/html": [
       "<div>\n",
       "<style scoped>\n",
       "    .dataframe tbody tr th:only-of-type {\n",
       "        vertical-align: middle;\n",
       "    }\n",
       "\n",
       "    .dataframe tbody tr th {\n",
       "        vertical-align: top;\n",
       "    }\n",
       "\n",
       "    .dataframe thead th {\n",
       "        text-align: right;\n",
       "    }\n",
       "</style>\n",
       "<table border=\"1\" class=\"dataframe\">\n",
       "  <thead>\n",
       "    <tr style=\"text-align: right;\">\n",
       "      <th></th>\n",
       "      <th>Rank</th>\n",
       "      <th>video Name</th>\n",
       "      <th>Artist</th>\n",
       "      <th>views in billion</th>\n",
       "      <th>upload_date</th>\n",
       "    </tr>\n",
       "  </thead>\n",
       "  <tbody>\n",
       "    <tr>\n",
       "      <th>0</th>\n",
       "      <td>\"Baby Shark Dance\"[7] Pinkfong Baby Shark - Ki...</td>\n",
       "      <td>\"Baby Shark Dance\"[7]</td>\n",
       "      <td>Pinkfong Baby Shark - Kids' Songs &amp; Stories</td>\n",
       "      <td>14.22</td>\n",
       "      <td>June 17, 2016</td>\n",
       "    </tr>\n",
       "    <tr>\n",
       "      <th>1</th>\n",
       "      <td>\"Despacito\"[10] Luis Fonsi 8.40 January 12, 20...</td>\n",
       "      <td>\"Despacito\"[10]</td>\n",
       "      <td>Luis Fonsi</td>\n",
       "      <td>8.40</td>\n",
       "      <td>January 12, 2017</td>\n",
       "    </tr>\n",
       "    <tr>\n",
       "      <th>2</th>\n",
       "      <td>\"Johny Johny Yes Papa\"[18] LooLoo Kids - Nurse...</td>\n",
       "      <td>\"Johny Johny Yes Papa\"[18]</td>\n",
       "      <td>LooLoo Kids - Nursery Rhymes and Children's Songs</td>\n",
       "      <td>6.88</td>\n",
       "      <td>October 8, 2016</td>\n",
       "    </tr>\n",
       "    <tr>\n",
       "      <th>3</th>\n",
       "      <td>\"Bath Song\"[19] Cocomelon - Nursery Rhymes 6.6...</td>\n",
       "      <td>\"Bath Song\"[19]</td>\n",
       "      <td>Cocomelon - Nursery Rhymes</td>\n",
       "      <td>6.65</td>\n",
       "      <td>May 2, 2018</td>\n",
       "    </tr>\n",
       "    <tr>\n",
       "      <th>4</th>\n",
       "      <td>\"Shape of You\"[20] Ed Sheeran 6.22 January 30,...</td>\n",
       "      <td>\"Shape of You\"[20]</td>\n",
       "      <td>Ed Sheeran</td>\n",
       "      <td>6.22</td>\n",
       "      <td>January 30, 2017</td>\n",
       "    </tr>\n",
       "    <tr>\n",
       "      <th>5</th>\n",
       "      <td>\"See You Again\"[23] Wiz Khalifa 6.20 April 6, ...</td>\n",
       "      <td>\"See You Again\"[23]</td>\n",
       "      <td>Wiz Khalifa</td>\n",
       "      <td>6.20</td>\n",
       "      <td>April 6, 2015</td>\n",
       "    </tr>\n",
       "    <tr>\n",
       "      <th>6</th>\n",
       "      <td>\"Wheels on the Bus\"[28] Cocomelon - Nursery Rh...</td>\n",
       "      <td>\"Wheels on the Bus\"[28]</td>\n",
       "      <td>Cocomelon - Nursery Rhymes</td>\n",
       "      <td>5.95</td>\n",
       "      <td>May 24, 2018</td>\n",
       "    </tr>\n",
       "    <tr>\n",
       "      <th>7</th>\n",
       "      <td>\"Phonics Song with Two Words\"[29] ChuChu TV Nu...</td>\n",
       "      <td>\"Phonics Song with Two Words\"[29]</td>\n",
       "      <td>ChuChu TV Nursery Rhymes &amp; Kids Songs</td>\n",
       "      <td>5.73</td>\n",
       "      <td>March 6, 2014</td>\n",
       "    </tr>\n",
       "    <tr>\n",
       "      <th>8</th>\n",
       "      <td>\"Uptown Funk\"[30] Mark Ronson 5.17 November 19...</td>\n",
       "      <td>\"Uptown Funk\"[30]</td>\n",
       "      <td>Mark Ronson</td>\n",
       "      <td>5.17</td>\n",
       "      <td>November 19, 2014</td>\n",
       "    </tr>\n",
       "    <tr>\n",
       "      <th>9</th>\n",
       "      <td>\"Gangnam Style\"[31] Psy 5.09 July 15, 2012 [E]</td>\n",
       "      <td>\"Gangnam Style\"[31]</td>\n",
       "      <td>Psy</td>\n",
       "      <td>5.09</td>\n",
       "      <td>July 15, 2012</td>\n",
       "    </tr>\n",
       "    <tr>\n",
       "      <th>10</th>\n",
       "      <td>\"Learning Colors – Colorful Eggs on a Farm\"[36...</td>\n",
       "      <td>\"Learning Colors – Colorful Eggs on a Farm\"[36]</td>\n",
       "      <td>Miroshka TV</td>\n",
       "      <td>5.08</td>\n",
       "      <td>February 27, 2018</td>\n",
       "    </tr>\n",
       "    <tr>\n",
       "      <th>11</th>\n",
       "      <td>\"Masha and the Bear – Recipe for Disaster\"[37]...</td>\n",
       "      <td>\"Masha and the Bear – Recipe for Disaster\"[37]</td>\n",
       "      <td>Get Movies</td>\n",
       "      <td>4.58</td>\n",
       "      <td>January 31, 2012</td>\n",
       "    </tr>\n",
       "    <tr>\n",
       "      <th>12</th>\n",
       "      <td>\"Dame Tu Cosita\"[38] Ultra Records 4.57 April ...</td>\n",
       "      <td>\"Dame Tu Cosita\"[38]</td>\n",
       "      <td>Ultra Records</td>\n",
       "      <td>4.57</td>\n",
       "      <td>April 5, 2018</td>\n",
       "    </tr>\n",
       "    <tr>\n",
       "      <th>13</th>\n",
       "      <td>\"Axel F\"[39] Crazy Frog 4.40 June 16, 2009</td>\n",
       "      <td>\"Axel F\"[39]</td>\n",
       "      <td>Crazy Frog</td>\n",
       "      <td>4.40</td>\n",
       "      <td>June 16, 2009</td>\n",
       "    </tr>\n",
       "    <tr>\n",
       "      <th>14</th>\n",
       "      <td>\"Sugar\"[40] Maroon 5 4.02 January 14, 2015</td>\n",
       "      <td>\"Sugar\"[40]</td>\n",
       "      <td>Maroon 5</td>\n",
       "      <td>4.02</td>\n",
       "      <td>January 14, 2015</td>\n",
       "    </tr>\n",
       "    <tr>\n",
       "      <th>15</th>\n",
       "      <td>\"Baa Baa Black Sheep\"[41] Cocomelon - Nursery ...</td>\n",
       "      <td>\"Baa Baa Black Sheep\"[41]</td>\n",
       "      <td>Cocomelon - Nursery Rhymes</td>\n",
       "      <td>3.99</td>\n",
       "      <td>June 25, 2018</td>\n",
       "    </tr>\n",
       "    <tr>\n",
       "      <th>16</th>\n",
       "      <td>\"Counting Stars\"[42] OneRepublic 3.99 May 31, ...</td>\n",
       "      <td>\"Counting Stars\"[42]</td>\n",
       "      <td>OneRepublic</td>\n",
       "      <td>3.99</td>\n",
       "      <td>May 31, 2013</td>\n",
       "    </tr>\n",
       "    <tr>\n",
       "      <th>17</th>\n",
       "      <td>\"Roar\"[43] Katy Perry 3.97 September 5, 2013</td>\n",
       "      <td>\"Roar\"[43]</td>\n",
       "      <td>Katy Perry</td>\n",
       "      <td>3.97</td>\n",
       "      <td>September 5, 2013</td>\n",
       "    </tr>\n",
       "    <tr>\n",
       "      <th>18</th>\n",
       "      <td>\"Lakdi Ki Kathi\"[44] Jingle Toons 3.95 June 14...</td>\n",
       "      <td>\"Lakdi Ki Kathi\"[44]</td>\n",
       "      <td>Jingle Toons</td>\n",
       "      <td>3.95</td>\n",
       "      <td>June 14, 2018</td>\n",
       "    </tr>\n",
       "    <tr>\n",
       "      <th>19</th>\n",
       "      <td>\"Waka Waka (This Time for Africa)\"[45] Shakira...</td>\n",
       "      <td>\"Waka Waka (This Time for Africa)\"[45]</td>\n",
       "      <td>Shakira</td>\n",
       "      <td>3.88</td>\n",
       "      <td>June 4, 2010</td>\n",
       "    </tr>\n",
       "    <tr>\n",
       "      <th>20</th>\n",
       "      <td>\"Sorry\"[46] Justin Bieber 3.78 October 22, 2015</td>\n",
       "      <td>\"Sorry\"[46]</td>\n",
       "      <td>Justin Bieber</td>\n",
       "      <td>3.78</td>\n",
       "      <td>October 22, 2015</td>\n",
       "    </tr>\n",
       "    <tr>\n",
       "      <th>21</th>\n",
       "      <td>\"Humpty the train on a fruits ride\"[47] Kiddie...</td>\n",
       "      <td>\"Humpty the train on a fruits ride\"[47]</td>\n",
       "      <td>Kiddiestv Hindi - Nursery Rhymes &amp; Kids Songs</td>\n",
       "      <td>3.75</td>\n",
       "      <td>January 26, 2018</td>\n",
       "    </tr>\n",
       "    <tr>\n",
       "      <th>22</th>\n",
       "      <td>\"Thinking Out Loud\"[48] Ed Sheeran 3.74 Octobe...</td>\n",
       "      <td>\"Thinking Out Loud\"[48]</td>\n",
       "      <td>Ed Sheeran</td>\n",
       "      <td>3.74</td>\n",
       "      <td>October 7, 2014</td>\n",
       "    </tr>\n",
       "    <tr>\n",
       "      <th>23</th>\n",
       "      <td>\"Shree Hanuman Chalisa\"[49] T-Series Bhakti Sa...</td>\n",
       "      <td>\"Shree Hanuman Chalisa\"[49]</td>\n",
       "      <td>T-Series Bhakti Sagar</td>\n",
       "      <td>3.74</td>\n",
       "      <td>May 10, 2011</td>\n",
       "    </tr>\n",
       "    <tr>\n",
       "      <th>24</th>\n",
       "      <td>\"Perfect\"[50] Ed Sheeran 3.69 November 9, 2017</td>\n",
       "      <td>\"Perfect\"[50]</td>\n",
       "      <td>Ed Sheeran</td>\n",
       "      <td>3.69</td>\n",
       "      <td>November 9, 2017</td>\n",
       "    </tr>\n",
       "    <tr>\n",
       "      <th>25</th>\n",
       "      <td>\"Dark Horse\"[51] Katy Perry 3.69 February 20, ...</td>\n",
       "      <td>\"Dark Horse\"[51]</td>\n",
       "      <td>Katy Perry</td>\n",
       "      <td>3.69</td>\n",
       "      <td>February 20, 2014</td>\n",
       "    </tr>\n",
       "    <tr>\n",
       "      <th>26</th>\n",
       "      <td>\"Let Her Go\"[52] Passenger 3.63 July 25, 2012</td>\n",
       "      <td>\"Let Her Go\"[52]</td>\n",
       "      <td>Passenger</td>\n",
       "      <td>3.63</td>\n",
       "      <td>July 25, 2012</td>\n",
       "    </tr>\n",
       "    <tr>\n",
       "      <th>27</th>\n",
       "      <td>\"Faded\"[53] Alan Walker 3.60 December 3, 2015</td>\n",
       "      <td>\"Faded\"[53]</td>\n",
       "      <td>Alan Walker</td>\n",
       "      <td>3.60</td>\n",
       "      <td>December 3, 2015</td>\n",
       "    </tr>\n",
       "    <tr>\n",
       "      <th>28</th>\n",
       "      <td>\"Girls Like You\"[54] Maroon 5 3.57 May 31, 2018</td>\n",
       "      <td>\"Girls Like You\"[54]</td>\n",
       "      <td>Maroon 5</td>\n",
       "      <td>3.57</td>\n",
       "      <td>May 31, 2018</td>\n",
       "    </tr>\n",
       "    <tr>\n",
       "      <th>29</th>\n",
       "      <td>\"Lean On\"[55] Major Lazer Official 3.56 March ...</td>\n",
       "      <td>\"Lean On\"[55]</td>\n",
       "      <td>Major Lazer Official</td>\n",
       "      <td>3.56</td>\n",
       "      <td>March 22, 2015</td>\n",
       "    </tr>\n",
       "  </tbody>\n",
       "</table>\n",
       "</div>"
      ],
      "text/plain": [
       "                                                 Rank  \\\n",
       "0   \"Baby Shark Dance\"[7] Pinkfong Baby Shark - Ki...   \n",
       "1   \"Despacito\"[10] Luis Fonsi 8.40 January 12, 20...   \n",
       "2   \"Johny Johny Yes Papa\"[18] LooLoo Kids - Nurse...   \n",
       "3   \"Bath Song\"[19] Cocomelon - Nursery Rhymes 6.6...   \n",
       "4   \"Shape of You\"[20] Ed Sheeran 6.22 January 30,...   \n",
       "5   \"See You Again\"[23] Wiz Khalifa 6.20 April 6, ...   \n",
       "6   \"Wheels on the Bus\"[28] Cocomelon - Nursery Rh...   \n",
       "7   \"Phonics Song with Two Words\"[29] ChuChu TV Nu...   \n",
       "8   \"Uptown Funk\"[30] Mark Ronson 5.17 November 19...   \n",
       "9      \"Gangnam Style\"[31] Psy 5.09 July 15, 2012 [E]   \n",
       "10  \"Learning Colors – Colorful Eggs on a Farm\"[36...   \n",
       "11  \"Masha and the Bear – Recipe for Disaster\"[37]...   \n",
       "12  \"Dame Tu Cosita\"[38] Ultra Records 4.57 April ...   \n",
       "13         \"Axel F\"[39] Crazy Frog 4.40 June 16, 2009   \n",
       "14         \"Sugar\"[40] Maroon 5 4.02 January 14, 2015   \n",
       "15  \"Baa Baa Black Sheep\"[41] Cocomelon - Nursery ...   \n",
       "16  \"Counting Stars\"[42] OneRepublic 3.99 May 31, ...   \n",
       "17       \"Roar\"[43] Katy Perry 3.97 September 5, 2013   \n",
       "18  \"Lakdi Ki Kathi\"[44] Jingle Toons 3.95 June 14...   \n",
       "19  \"Waka Waka (This Time for Africa)\"[45] Shakira...   \n",
       "20    \"Sorry\"[46] Justin Bieber 3.78 October 22, 2015   \n",
       "21  \"Humpty the train on a fruits ride\"[47] Kiddie...   \n",
       "22  \"Thinking Out Loud\"[48] Ed Sheeran 3.74 Octobe...   \n",
       "23  \"Shree Hanuman Chalisa\"[49] T-Series Bhakti Sa...   \n",
       "24     \"Perfect\"[50] Ed Sheeran 3.69 November 9, 2017   \n",
       "25  \"Dark Horse\"[51] Katy Perry 3.69 February 20, ...   \n",
       "26      \"Let Her Go\"[52] Passenger 3.63 July 25, 2012   \n",
       "27      \"Faded\"[53] Alan Walker 3.60 December 3, 2015   \n",
       "28    \"Girls Like You\"[54] Maroon 5 3.57 May 31, 2018   \n",
       "29  \"Lean On\"[55] Major Lazer Official 3.56 March ...   \n",
       "\n",
       "                                         video Name  \\\n",
       "0                             \"Baby Shark Dance\"[7]   \n",
       "1                                   \"Despacito\"[10]   \n",
       "2                        \"Johny Johny Yes Papa\"[18]   \n",
       "3                                   \"Bath Song\"[19]   \n",
       "4                                \"Shape of You\"[20]   \n",
       "5                               \"See You Again\"[23]   \n",
       "6                           \"Wheels on the Bus\"[28]   \n",
       "7                 \"Phonics Song with Two Words\"[29]   \n",
       "8                                 \"Uptown Funk\"[30]   \n",
       "9                               \"Gangnam Style\"[31]   \n",
       "10  \"Learning Colors – Colorful Eggs on a Farm\"[36]   \n",
       "11   \"Masha and the Bear – Recipe for Disaster\"[37]   \n",
       "12                             \"Dame Tu Cosita\"[38]   \n",
       "13                                     \"Axel F\"[39]   \n",
       "14                                      \"Sugar\"[40]   \n",
       "15                        \"Baa Baa Black Sheep\"[41]   \n",
       "16                             \"Counting Stars\"[42]   \n",
       "17                                       \"Roar\"[43]   \n",
       "18                             \"Lakdi Ki Kathi\"[44]   \n",
       "19           \"Waka Waka (This Time for Africa)\"[45]   \n",
       "20                                      \"Sorry\"[46]   \n",
       "21          \"Humpty the train on a fruits ride\"[47]   \n",
       "22                          \"Thinking Out Loud\"[48]   \n",
       "23                      \"Shree Hanuman Chalisa\"[49]   \n",
       "24                                    \"Perfect\"[50]   \n",
       "25                                 \"Dark Horse\"[51]   \n",
       "26                                 \"Let Her Go\"[52]   \n",
       "27                                      \"Faded\"[53]   \n",
       "28                             \"Girls Like You\"[54]   \n",
       "29                                    \"Lean On\"[55]   \n",
       "\n",
       "                                               Artist views in billion  \\\n",
       "0         Pinkfong Baby Shark - Kids' Songs & Stories            14.22   \n",
       "1                                          Luis Fonsi             8.40   \n",
       "2   LooLoo Kids - Nursery Rhymes and Children's Songs             6.88   \n",
       "3                          Cocomelon - Nursery Rhymes             6.65   \n",
       "4                                          Ed Sheeran             6.22   \n",
       "5                                         Wiz Khalifa             6.20   \n",
       "6                          Cocomelon - Nursery Rhymes             5.95   \n",
       "7               ChuChu TV Nursery Rhymes & Kids Songs             5.73   \n",
       "8                                         Mark Ronson             5.17   \n",
       "9                                                 Psy             5.09   \n",
       "10                                        Miroshka TV             5.08   \n",
       "11                                         Get Movies             4.58   \n",
       "12                                      Ultra Records             4.57   \n",
       "13                                         Crazy Frog             4.40   \n",
       "14                                           Maroon 5             4.02   \n",
       "15                         Cocomelon - Nursery Rhymes             3.99   \n",
       "16                                        OneRepublic             3.99   \n",
       "17                                         Katy Perry             3.97   \n",
       "18                                       Jingle Toons             3.95   \n",
       "19                                            Shakira             3.88   \n",
       "20                                      Justin Bieber             3.78   \n",
       "21      Kiddiestv Hindi - Nursery Rhymes & Kids Songs             3.75   \n",
       "22                                         Ed Sheeran             3.74   \n",
       "23                              T-Series Bhakti Sagar             3.74   \n",
       "24                                         Ed Sheeran             3.69   \n",
       "25                                         Katy Perry             3.69   \n",
       "26                                          Passenger             3.63   \n",
       "27                                        Alan Walker             3.60   \n",
       "28                                           Maroon 5             3.57   \n",
       "29                               Major Lazer Official             3.56   \n",
       "\n",
       "          upload_date  \n",
       "0       June 17, 2016  \n",
       "1    January 12, 2017  \n",
       "2     October 8, 2016  \n",
       "3         May 2, 2018  \n",
       "4    January 30, 2017  \n",
       "5       April 6, 2015  \n",
       "6        May 24, 2018  \n",
       "7       March 6, 2014  \n",
       "8   November 19, 2014  \n",
       "9       July 15, 2012  \n",
       "10  February 27, 2018  \n",
       "11   January 31, 2012  \n",
       "12      April 5, 2018  \n",
       "13      June 16, 2009  \n",
       "14   January 14, 2015  \n",
       "15      June 25, 2018  \n",
       "16       May 31, 2013  \n",
       "17  September 5, 2013  \n",
       "18      June 14, 2018  \n",
       "19       June 4, 2010  \n",
       "20   October 22, 2015  \n",
       "21   January 26, 2018  \n",
       "22    October 7, 2014  \n",
       "23       May 10, 2011  \n",
       "24   November 9, 2017  \n",
       "25  February 20, 2014  \n",
       "26      July 25, 2012  \n",
       "27   December 3, 2015  \n",
       "28       May 31, 2018  \n",
       "29     March 22, 2015  "
      ]
     },
     "execution_count": 20,
     "metadata": {},
     "output_type": "execute_result"
    }
   ],
   "source": [
    "df"
   ]
  },
  {
   "cell_type": "code",
   "execution_count": null,
   "id": "bc13ecec",
   "metadata": {},
   "outputs": [],
   "source": []
  },
  {
   "cell_type": "markdown",
   "id": "7955eae8",
   "metadata": {},
   "source": [
    "# . Scrape the details team India’s international fixtures from bcci.tv.\n",
    "Url = https://www.bcci.tv/.\n",
    "You need to find following details:\n",
    "A) Series\n",
    "B) Place\n",
    "C) Date\n",
    "D) Time\n",
    "Note: - From bcci.tv home page you have reach to the international fixture page through code. \n"
   ]
  },
  {
   "cell_type": "code",
   "execution_count": 3,
   "id": "4ec19480",
   "metadata": {},
   "outputs": [],
   "source": [
    "driver=webdriver.Chrome()\n",
    "driver.get(\"https://www.bcci.tv/\")"
   ]
  },
  {
   "cell_type": "code",
   "execution_count": 4,
   "id": "f25007f2",
   "metadata": {},
   "outputs": [],
   "source": [
    "search=driver.find_element(By.XPATH,'/html/body/header/div[3]/div[2]/ul/div[1]/a[2]')\n",
    "search.click()\n"
   ]
  },
  {
   "cell_type": "code",
   "execution_count": 5,
   "id": "865e14b0",
   "metadata": {},
   "outputs": [],
   "source": [
    "Series=[]\n",
    "Place=[]\n",
    "Date=[]\n",
    "time=[]\n"
   ]
  },
  {
   "cell_type": "code",
   "execution_count": 7,
   "id": "a7e705b1",
   "metadata": {},
   "outputs": [],
   "source": [
    "ser=driver.find_elements(By.XPATH, '//span[@class=\"matchOrderText ng-binding ng-scope t20-tag\"]')\n",
    "for i in ser:\n",
    "    if i.text is None:\n",
    "        Series.append(\"--\")\n",
    "    else:\n",
    "            Series.append(i.text)"
   ]
  },
  {
   "cell_type": "code",
   "execution_count": 9,
   "id": "66b6d406",
   "metadata": {},
   "outputs": [
    {
     "data": {
      "text/plain": [
       "9"
      ]
     },
     "execution_count": 9,
     "metadata": {},
     "output_type": "execute_result"
    }
   ],
   "source": [
    "len(Series)"
   ]
  },
  {
   "cell_type": "code",
   "execution_count": 10,
   "id": "6377ff48",
   "metadata": {
    "scrolled": true
   },
   "outputs": [
    {
     "data": {
      "text/plain": [
       "['1st T20I',\n",
       " '2nd T20I',\n",
       " '3rd T20I',\n",
       " '4th T20I',\n",
       " '1st T20I',\n",
       " '2nd T20I',\n",
       " '3rd T20I',\n",
       " '4th T20I',\n",
       " '5th T20I']"
      ]
     },
     "execution_count": 10,
     "metadata": {},
     "output_type": "execute_result"
    }
   ],
   "source": [
    "Series"
   ]
  },
  {
   "cell_type": "code",
   "execution_count": 11,
   "id": "3c770f8b",
   "metadata": {},
   "outputs": [],
   "source": [
    "Pl=driver.find_elements(By.XPATH, '//span[@class=\"ng-binding ng-scope\"]')\n",
    "for i in Pl:\n",
    "    if i.text is None:\n",
    "        Place.append(\"--\")\n",
    "    else:\n",
    "            Place.append(i.text)"
   ]
  },
  {
   "cell_type": "code",
   "execution_count": 12,
   "id": "7eeaee29",
   "metadata": {},
   "outputs": [
    {
     "data": {
      "text/plain": [
       "['Nassau County International Cricket Stadium,',\n",
       " 'Nassau County International Cricket Stadium,',\n",
       " 'Nassau County International Cricket Stadium,',\n",
       " 'Central Broward Park & Broward County Stadium, Lauderhill,',\n",
       " 'Harare Sports Club,',\n",
       " 'Harare Sports Club,',\n",
       " 'Harare Sports Club,',\n",
       " 'Harare Sports Club,',\n",
       " 'Harare Sports Club,']"
      ]
     },
     "execution_count": 12,
     "metadata": {},
     "output_type": "execute_result"
    }
   ],
   "source": [
    "Place"
   ]
  },
  {
   "cell_type": "code",
   "execution_count": 13,
   "id": "4fd372e6",
   "metadata": {},
   "outputs": [],
   "source": [
    "Dt=driver.find_elements(By.XPATH, '//div[@class=\"match-dates ng-binding\"]')\n",
    "for i in Dt:\n",
    "    if i.text is None:\n",
    "        Date.append(\"--\")\n",
    "    else:\n",
    "            Date.append(i.text)"
   ]
  },
  {
   "cell_type": "code",
   "execution_count": 14,
   "id": "2a84bd76",
   "metadata": {},
   "outputs": [
    {
     "data": {
      "text/plain": [
       "['5 JUNE, 2024',\n",
       " '9 JUNE, 2024',\n",
       " '12 JUNE, 2024',\n",
       " '15 JUNE, 2024',\n",
       " '6 JULY, 2024',\n",
       " '7 JULY, 2024',\n",
       " '10 JULY, 2024',\n",
       " '13 JULY, 2024',\n",
       " '14 JULY, 2024']"
      ]
     },
     "execution_count": 14,
     "metadata": {},
     "output_type": "execute_result"
    }
   ],
   "source": [
    "Date"
   ]
  },
  {
   "cell_type": "code",
   "execution_count": 15,
   "id": "987bac76",
   "metadata": {},
   "outputs": [],
   "source": [
    "Tm=driver.find_elements(By.XPATH, '//div[@class=\"match-time no-margin ng-binding\"]')\n",
    "for i in Tm:\n",
    "    if i.text is None:\n",
    "        time.append(\"--\")\n",
    "    else:\n",
    "            time.append(i.text)"
   ]
  },
  {
   "cell_type": "code",
   "execution_count": 16,
   "id": "e75ddfff",
   "metadata": {},
   "outputs": [
    {
     "data": {
      "text/plain": [
       "['8:00 PM IST',\n",
       " '8:00 PM IST',\n",
       " '8:00 PM IST',\n",
       " '8:00 PM IST',\n",
       " '8:00 PM IST',\n",
       " '8:00 PM IST',\n",
       " '8:00 PM IST',\n",
       " '8:00 PM IST',\n",
       " '8:00 PM IST']"
      ]
     },
     "execution_count": 16,
     "metadata": {},
     "output_type": "execute_result"
    }
   ],
   "source": [
    "time"
   ]
  },
  {
   "cell_type": "code",
   "execution_count": 19,
   "id": "5a999216",
   "metadata": {},
   "outputs": [],
   "source": [
    "df=pd.DataFrame({'Series':Series, 'Place of the match': Place, 'Date': Date, 'Time': time })"
   ]
  },
  {
   "cell_type": "code",
   "execution_count": 20,
   "id": "26f8cae2",
   "metadata": {},
   "outputs": [
    {
     "data": {
      "text/html": [
       "<div>\n",
       "<style scoped>\n",
       "    .dataframe tbody tr th:only-of-type {\n",
       "        vertical-align: middle;\n",
       "    }\n",
       "\n",
       "    .dataframe tbody tr th {\n",
       "        vertical-align: top;\n",
       "    }\n",
       "\n",
       "    .dataframe thead th {\n",
       "        text-align: right;\n",
       "    }\n",
       "</style>\n",
       "<table border=\"1\" class=\"dataframe\">\n",
       "  <thead>\n",
       "    <tr style=\"text-align: right;\">\n",
       "      <th></th>\n",
       "      <th>Series</th>\n",
       "      <th>Place of the match</th>\n",
       "      <th>Date</th>\n",
       "      <th>Time</th>\n",
       "    </tr>\n",
       "  </thead>\n",
       "  <tbody>\n",
       "    <tr>\n",
       "      <th>0</th>\n",
       "      <td>1st T20I</td>\n",
       "      <td>Nassau County International Cricket Stadium,</td>\n",
       "      <td>5 JUNE, 2024</td>\n",
       "      <td>8:00 PM IST</td>\n",
       "    </tr>\n",
       "    <tr>\n",
       "      <th>1</th>\n",
       "      <td>2nd T20I</td>\n",
       "      <td>Nassau County International Cricket Stadium,</td>\n",
       "      <td>9 JUNE, 2024</td>\n",
       "      <td>8:00 PM IST</td>\n",
       "    </tr>\n",
       "    <tr>\n",
       "      <th>2</th>\n",
       "      <td>3rd T20I</td>\n",
       "      <td>Nassau County International Cricket Stadium,</td>\n",
       "      <td>12 JUNE, 2024</td>\n",
       "      <td>8:00 PM IST</td>\n",
       "    </tr>\n",
       "    <tr>\n",
       "      <th>3</th>\n",
       "      <td>4th T20I</td>\n",
       "      <td>Central Broward Park &amp; Broward County Stadium,...</td>\n",
       "      <td>15 JUNE, 2024</td>\n",
       "      <td>8:00 PM IST</td>\n",
       "    </tr>\n",
       "    <tr>\n",
       "      <th>4</th>\n",
       "      <td>1st T20I</td>\n",
       "      <td>Harare Sports Club,</td>\n",
       "      <td>6 JULY, 2024</td>\n",
       "      <td>8:00 PM IST</td>\n",
       "    </tr>\n",
       "    <tr>\n",
       "      <th>5</th>\n",
       "      <td>2nd T20I</td>\n",
       "      <td>Harare Sports Club,</td>\n",
       "      <td>7 JULY, 2024</td>\n",
       "      <td>8:00 PM IST</td>\n",
       "    </tr>\n",
       "    <tr>\n",
       "      <th>6</th>\n",
       "      <td>3rd T20I</td>\n",
       "      <td>Harare Sports Club,</td>\n",
       "      <td>10 JULY, 2024</td>\n",
       "      <td>8:00 PM IST</td>\n",
       "    </tr>\n",
       "    <tr>\n",
       "      <th>7</th>\n",
       "      <td>4th T20I</td>\n",
       "      <td>Harare Sports Club,</td>\n",
       "      <td>13 JULY, 2024</td>\n",
       "      <td>8:00 PM IST</td>\n",
       "    </tr>\n",
       "    <tr>\n",
       "      <th>8</th>\n",
       "      <td>5th T20I</td>\n",
       "      <td>Harare Sports Club,</td>\n",
       "      <td>14 JULY, 2024</td>\n",
       "      <td>8:00 PM IST</td>\n",
       "    </tr>\n",
       "  </tbody>\n",
       "</table>\n",
       "</div>"
      ],
      "text/plain": [
       "     Series                                 Place of the match           Date  \\\n",
       "0  1st T20I       Nassau County International Cricket Stadium,   5 JUNE, 2024   \n",
       "1  2nd T20I       Nassau County International Cricket Stadium,   9 JUNE, 2024   \n",
       "2  3rd T20I       Nassau County International Cricket Stadium,  12 JUNE, 2024   \n",
       "3  4th T20I  Central Broward Park & Broward County Stadium,...  15 JUNE, 2024   \n",
       "4  1st T20I                                Harare Sports Club,   6 JULY, 2024   \n",
       "5  2nd T20I                                Harare Sports Club,   7 JULY, 2024   \n",
       "6  3rd T20I                                Harare Sports Club,  10 JULY, 2024   \n",
       "7  4th T20I                                Harare Sports Club,  13 JULY, 2024   \n",
       "8  5th T20I                                Harare Sports Club,  14 JULY, 2024   \n",
       "\n",
       "          Time  \n",
       "0  8:00 PM IST  \n",
       "1  8:00 PM IST  \n",
       "2  8:00 PM IST  \n",
       "3  8:00 PM IST  \n",
       "4  8:00 PM IST  \n",
       "5  8:00 PM IST  \n",
       "6  8:00 PM IST  \n",
       "7  8:00 PM IST  \n",
       "8  8:00 PM IST  "
      ]
     },
     "execution_count": 20,
     "metadata": {},
     "output_type": "execute_result"
    }
   ],
   "source": [
    "df"
   ]
  },
  {
   "cell_type": "code",
   "execution_count": null,
   "id": "d1459001",
   "metadata": {},
   "outputs": [],
   "source": []
  },
  {
   "cell_type": "markdown",
   "id": "4d6c1048",
   "metadata": {},
   "source": [
    "# Scrape the details of State-wise GDP of India from statisticstime.com. \n",
    "Url = http://statisticstimes.com/ \n",
    "You have to find following details:\n",
    "A) Rank \n",
    "B) State \n",
    "C) GSDP(18-19)- at current prices \n",
    "D) GSDP(19-20)- at current prices \n",
    "E) Share(18-19) \n",
    "F) GDP($ billion) \n",
    "Note: - From statisticstimes home page you have to reach to economy page through code"
   ]
  },
  {
   "cell_type": "code",
   "execution_count": 125,
   "id": "e898bddb",
   "metadata": {},
   "outputs": [],
   "source": [
    "driver=webdriver.Chrome()\n",
    "driver.get(\"https://www.statisticstimes.com/\")"
   ]
  },
  {
   "cell_type": "code",
   "execution_count": 126,
   "id": "c9944a18",
   "metadata": {},
   "outputs": [],
   "source": [
    "economy=driver.find_element(By.XPATH,'/html/body/div[2]/div[1]/div[2]/div[2]/button')\n",
    "economy.click()"
   ]
  },
  {
   "cell_type": "code",
   "execution_count": 127,
   "id": "be9e717f",
   "metadata": {},
   "outputs": [],
   "source": [
    "ind = driver.find_element(By.XPATH,'/html/body/div[2]/div[1]/div[2]/div[2]/div/a[3]')\n",
    "ind.click()"
   ]
  },
  {
   "cell_type": "code",
   "execution_count": 129,
   "id": "cf173b51",
   "metadata": {},
   "outputs": [],
   "source": [
    "gdp = driver.find_element(By.XPATH,'/html/body/div[2]/div[2]/div[2]/ul/li[1]/a')\n",
    "gdp.click()\n"
   ]
  },
  {
   "cell_type": "code",
   "execution_count": 148,
   "id": "b61d7605",
   "metadata": {},
   "outputs": [],
   "source": [
    "Rank = []\n",
    "State =[]\n",
    "GSDP_previous = [] \n",
    "GSDP_current = []\n",
    "Share_previousGDP = []\n",
    "GDP_dollarbillion = []"
   ]
  },
  {
   "cell_type": "code",
   "execution_count": 149,
   "id": "1e76f752",
   "metadata": {},
   "outputs": [],
   "source": [
    "rk=driver.find_elements(By.XPATH,'//tr[@class=\"odd\"]/td[1]')\n",
    "for i in rk:\n",
    "    if i.text is None:\n",
    "        Rank.append(\"--\")\n",
    "    else:\n",
    "            Rank.append(i.text)\n",
    "    "
   ]
  },
  {
   "cell_type": "code",
   "execution_count": 150,
   "id": "c655f166",
   "metadata": {},
   "outputs": [
    {
     "data": {
      "text/plain": [
       "34"
      ]
     },
     "execution_count": 150,
     "metadata": {},
     "output_type": "execute_result"
    }
   ],
   "source": [
    "len(Rank)"
   ]
  },
  {
   "cell_type": "code",
   "execution_count": 151,
   "id": "3c2083c7",
   "metadata": {},
   "outputs": [],
   "source": [
    "st=driver.find_elements(By.XPATH,'//tr[@class=\"odd\"]/td[2]')\n",
    "for i in st:\n",
    "    if i.text is None:\n",
    "        State.append(\"--\")\n",
    "    else:\n",
    "            State.append(i.text)"
   ]
  },
  {
   "cell_type": "code",
   "execution_count": 152,
   "id": "38bc8a64",
   "metadata": {},
   "outputs": [
    {
     "data": {
      "text/plain": [
       "34"
      ]
     },
     "execution_count": 152,
     "metadata": {},
     "output_type": "execute_result"
    }
   ],
   "source": [
    "len(State)"
   ]
  },
  {
   "cell_type": "code",
   "execution_count": 153,
   "id": "81d4d2d1",
   "metadata": {},
   "outputs": [],
   "source": [
    "pre_GSDP=driver.find_elements(By.XPATH,'//tr[@class=\"odd\"]/td[4]')\n",
    "for i in pre_GSDP:\n",
    "    if i.text is None:\n",
    "        GSDP_previous.append(\"--\")\n",
    "    else:\n",
    "            GSDP_previous.append(i.text)"
   ]
  },
  {
   "cell_type": "code",
   "execution_count": 154,
   "id": "fbcc94dd",
   "metadata": {},
   "outputs": [
    {
     "data": {
      "text/plain": [
       "34"
      ]
     },
     "execution_count": 154,
     "metadata": {},
     "output_type": "execute_result"
    }
   ],
   "source": [
    "len(GSDP_previous)"
   ]
  },
  {
   "cell_type": "code",
   "execution_count": 155,
   "id": "dab33d8b",
   "metadata": {},
   "outputs": [],
   "source": [
    "cur_GSDP=driver.find_elements(By.XPATH,'//tr[@class=\"odd\"]/td[3]')\n",
    "for i in cur_GSDP:\n",
    "    if i.text is None:\n",
    "        GSDP_current.append(\"--\")\n",
    "    else:\n",
    "            GSDP_current.append(i.text)\n"
   ]
  },
  {
   "cell_type": "code",
   "execution_count": 156,
   "id": "4102cac4",
   "metadata": {},
   "outputs": [
    {
     "data": {
      "text/plain": [
       "34"
      ]
     },
     "execution_count": 156,
     "metadata": {},
     "output_type": "execute_result"
    }
   ],
   "source": [
    "len(GSDP_current)"
   ]
  },
  {
   "cell_type": "code",
   "execution_count": 157,
   "id": "5fa46878",
   "metadata": {},
   "outputs": [],
   "source": [
    "shr_GSDP=driver.find_elements(By.XPATH,'//tr[@class=\"odd\"]/td[5]')\n",
    "for i in shr_GSDP:\n",
    "    if i.text is None:\n",
    "        Share_previousGDP.append(\"--\")\n",
    "    else:\n",
    "            Share_previousGDP.append(i.text)"
   ]
  },
  {
   "cell_type": "code",
   "execution_count": 158,
   "id": "14828016",
   "metadata": {},
   "outputs": [
    {
     "data": {
      "text/plain": [
       "34"
      ]
     },
     "execution_count": 158,
     "metadata": {},
     "output_type": "execute_result"
    }
   ],
   "source": [
    "len(Share_previousGDP)"
   ]
  },
  {
   "cell_type": "code",
   "execution_count": 159,
   "id": "29f1b925",
   "metadata": {},
   "outputs": [],
   "source": [
    "GDP=driver.find_elements(By.XPATH,'//tr[@class=\"odd\"]/td[6]')\n",
    "for i in GDP:\n",
    "    if i.text is None:\n",
    "        GDP_dollarbillion.append(\"--\")\n",
    "    else:\n",
    "            GDP_dollarbillion.append(i.text)\n"
   ]
  },
  {
   "cell_type": "code",
   "execution_count": 160,
   "id": "6bb54516",
   "metadata": {},
   "outputs": [
    {
     "data": {
      "text/plain": [
       "34"
      ]
     },
     "execution_count": 160,
     "metadata": {},
     "output_type": "execute_result"
    }
   ],
   "source": [
    "len(GDP_dollarbillion)"
   ]
  },
  {
   "cell_type": "code",
   "execution_count": 161,
   "id": "df59a3a7",
   "metadata": {},
   "outputs": [],
   "source": [
    "df=pd.DataFrame({'Rank':Rank, 'State': State, 'GSDP_previous': GSDP_previous, 'GSDP_current': GSDP_current, 'Share_previousGDP': Share_previousGDP, 'GDP_dollarbillion' : GDP_dollarbillion})\n"
   ]
  },
  {
   "cell_type": "code",
   "execution_count": 162,
   "id": "5e4be344",
   "metadata": {},
   "outputs": [
    {
     "data": {
      "text/html": [
       "<div>\n",
       "<style scoped>\n",
       "    .dataframe tbody tr th:only-of-type {\n",
       "        vertical-align: middle;\n",
       "    }\n",
       "\n",
       "    .dataframe tbody tr th {\n",
       "        vertical-align: top;\n",
       "    }\n",
       "\n",
       "    .dataframe thead th {\n",
       "        text-align: right;\n",
       "    }\n",
       "</style>\n",
       "<table border=\"1\" class=\"dataframe\">\n",
       "  <thead>\n",
       "    <tr style=\"text-align: right;\">\n",
       "      <th></th>\n",
       "      <th>Rank</th>\n",
       "      <th>State</th>\n",
       "      <th>GSDP_previous</th>\n",
       "      <th>GSDP_current</th>\n",
       "      <th>Share_previousGDP</th>\n",
       "      <th>GDP_dollarbillion</th>\n",
       "    </tr>\n",
       "  </thead>\n",
       "  <tbody>\n",
       "    <tr>\n",
       "      <th>0</th>\n",
       "      <td>1</td>\n",
       "      <td>Maharashtra</td>\n",
       "      <td>3,108,022</td>\n",
       "      <td>-</td>\n",
       "      <td>13.17%</td>\n",
       "      <td>414.928</td>\n",
       "    </tr>\n",
       "    <tr>\n",
       "      <th>1</th>\n",
       "      <td>3</td>\n",
       "      <td>Uttar Pradesh</td>\n",
       "      <td>1,974,532</td>\n",
       "      <td>2,257,575</td>\n",
       "      <td>8.37%</td>\n",
       "      <td>263.605</td>\n",
       "    </tr>\n",
       "    <tr>\n",
       "      <th>2</th>\n",
       "      <td>5</td>\n",
       "      <td>Gujarat</td>\n",
       "      <td>1,937,066</td>\n",
       "      <td>-</td>\n",
       "      <td>8.21%</td>\n",
       "      <td>258.603</td>\n",
       "    </tr>\n",
       "    <tr>\n",
       "      <th>3</th>\n",
       "      <td>7</td>\n",
       "      <td>Rajasthan</td>\n",
       "      <td>1,218,193</td>\n",
       "      <td>1,413,620</td>\n",
       "      <td>5.16%</td>\n",
       "      <td>162.632</td>\n",
       "    </tr>\n",
       "    <tr>\n",
       "      <th>4</th>\n",
       "      <td>9</td>\n",
       "      <td>Andhra Pradesh</td>\n",
       "      <td>1,133,837</td>\n",
       "      <td>1,317,728</td>\n",
       "      <td>4.80%</td>\n",
       "      <td>151.370</td>\n",
       "    </tr>\n",
       "    <tr>\n",
       "      <th>5</th>\n",
       "      <td>11</td>\n",
       "      <td>Kerala</td>\n",
       "      <td>932,470</td>\n",
       "      <td>-</td>\n",
       "      <td>3.95%</td>\n",
       "      <td>124.487</td>\n",
       "    </tr>\n",
       "    <tr>\n",
       "      <th>6</th>\n",
       "      <td>13</td>\n",
       "      <td>Haryana</td>\n",
       "      <td>870,665</td>\n",
       "      <td>994,154</td>\n",
       "      <td>3.69%</td>\n",
       "      <td>116.236</td>\n",
       "    </tr>\n",
       "    <tr>\n",
       "      <th>7</th>\n",
       "      <td>15</td>\n",
       "      <td>Bihar</td>\n",
       "      <td>650,302</td>\n",
       "      <td>751,396</td>\n",
       "      <td>2.76%</td>\n",
       "      <td>86.817</td>\n",
       "    </tr>\n",
       "    <tr>\n",
       "      <th>8</th>\n",
       "      <td>17</td>\n",
       "      <td>Assam</td>\n",
       "      <td>412,612</td>\n",
       "      <td>493,167</td>\n",
       "      <td>1.75%</td>\n",
       "      <td>55.085</td>\n",
       "    </tr>\n",
       "    <tr>\n",
       "      <th>9</th>\n",
       "      <td>19</td>\n",
       "      <td>Jharkhand</td>\n",
       "      <td>358,863</td>\n",
       "      <td>393,722</td>\n",
       "      <td>1.52%</td>\n",
       "      <td>47.909</td>\n",
       "    </tr>\n",
       "    <tr>\n",
       "      <th>10</th>\n",
       "      <td>21</td>\n",
       "      <td>Jammu &amp; Kashmir-UT</td>\n",
       "      <td>199,917</td>\n",
       "      <td>227,927</td>\n",
       "      <td>0.85%</td>\n",
       "      <td>26.689</td>\n",
       "    </tr>\n",
       "    <tr>\n",
       "      <th>11</th>\n",
       "      <td>23</td>\n",
       "      <td>Goa</td>\n",
       "      <td>82,604</td>\n",
       "      <td>-</td>\n",
       "      <td>0.35%</td>\n",
       "      <td>11.028</td>\n",
       "    </tr>\n",
       "    <tr>\n",
       "      <th>12</th>\n",
       "      <td>25</td>\n",
       "      <td>Chandigarh</td>\n",
       "      <td>45,635</td>\n",
       "      <td>-</td>\n",
       "      <td>0.19%</td>\n",
       "      <td>6.092</td>\n",
       "    </tr>\n",
       "    <tr>\n",
       "      <th>13</th>\n",
       "      <td>27</td>\n",
       "      <td>Meghalaya</td>\n",
       "      <td>38,785</td>\n",
       "      <td>42,697</td>\n",
       "      <td>0.16%</td>\n",
       "      <td>5.178</td>\n",
       "    </tr>\n",
       "    <tr>\n",
       "      <th>14</th>\n",
       "      <td>29</td>\n",
       "      <td>Manipur</td>\n",
       "      <td>36,594</td>\n",
       "      <td>-</td>\n",
       "      <td>0.16%</td>\n",
       "      <td>4.885</td>\n",
       "    </tr>\n",
       "    <tr>\n",
       "      <th>15</th>\n",
       "      <td>31</td>\n",
       "      <td>Nagaland</td>\n",
       "      <td>31,913</td>\n",
       "      <td>-</td>\n",
       "      <td>0.14%</td>\n",
       "      <td>4.260</td>\n",
       "    </tr>\n",
       "    <tr>\n",
       "      <th>16</th>\n",
       "      <td>33</td>\n",
       "      <td>Andaman &amp; Nicobar Islands</td>\n",
       "      <td>10,371</td>\n",
       "      <td>-</td>\n",
       "      <td>0.04%</td>\n",
       "      <td>1.385</td>\n",
       "    </tr>\n",
       "    <tr>\n",
       "      <th>17</th>\n",
       "      <td>1</td>\n",
       "      <td>Maharashtra</td>\n",
       "      <td>2,690,525</td>\n",
       "      <td>-</td>\n",
       "      <td>13.03%</td>\n",
       "      <td>-</td>\n",
       "    </tr>\n",
       "    <tr>\n",
       "      <th>18</th>\n",
       "      <td>3</td>\n",
       "      <td>Karnataka</td>\n",
       "      <td>1,782,121</td>\n",
       "      <td>2,036,748</td>\n",
       "      <td>8.63%</td>\n",
       "      <td>1,190,851</td>\n",
       "    </tr>\n",
       "    <tr>\n",
       "      <th>19</th>\n",
       "      <td>5</td>\n",
       "      <td>Gujarat</td>\n",
       "      <td>1,700,504</td>\n",
       "      <td>-</td>\n",
       "      <td>8.23%</td>\n",
       "      <td>-</td>\n",
       "    </tr>\n",
       "    <tr>\n",
       "      <th>20</th>\n",
       "      <td>7</td>\n",
       "      <td>Rajasthan</td>\n",
       "      <td>1,084,845</td>\n",
       "      <td>1,259,527</td>\n",
       "      <td>5.25%</td>\n",
       "      <td>694,771</td>\n",
       "    </tr>\n",
       "    <tr>\n",
       "      <th>21</th>\n",
       "      <td>9</td>\n",
       "      <td>Telangana</td>\n",
       "      <td>1,024,205</td>\n",
       "      <td>1,187,082</td>\n",
       "      <td>4.96%</td>\n",
       "      <td>642,207</td>\n",
       "    </tr>\n",
       "    <tr>\n",
       "      <th>22</th>\n",
       "      <td>11</td>\n",
       "      <td>Kerala</td>\n",
       "      <td>822,970</td>\n",
       "      <td>-</td>\n",
       "      <td>3.98%</td>\n",
       "      <td>-</td>\n",
       "    </tr>\n",
       "    <tr>\n",
       "      <th>23</th>\n",
       "      <td>13</td>\n",
       "      <td>Haryana</td>\n",
       "      <td>779,197</td>\n",
       "      <td>885,308</td>\n",
       "      <td>3.77%</td>\n",
       "      <td>542,972</td>\n",
       "    </tr>\n",
       "    <tr>\n",
       "      <th>24</th>\n",
       "      <td>15</td>\n",
       "      <td>Odisha</td>\n",
       "      <td>587,900</td>\n",
       "      <td>691,888</td>\n",
       "      <td>2.85%</td>\n",
       "      <td>403,222</td>\n",
       "    </tr>\n",
       "    <tr>\n",
       "      <th>25</th>\n",
       "      <td>17</td>\n",
       "      <td>Assam</td>\n",
       "      <td>363,161</td>\n",
       "      <td>427,147</td>\n",
       "      <td>1.76%</td>\n",
       "      <td>251,688</td>\n",
       "    </tr>\n",
       "    <tr>\n",
       "      <th>26</th>\n",
       "      <td>19</td>\n",
       "      <td>Jharkhand</td>\n",
       "      <td>325,830</td>\n",
       "      <td>360,689</td>\n",
       "      <td>1.58%</td>\n",
       "      <td>235,685</td>\n",
       "    </tr>\n",
       "    <tr>\n",
       "      <th>27</th>\n",
       "      <td>21</td>\n",
       "      <td>Jammu &amp; Kashmir-UT</td>\n",
       "      <td>162,644</td>\n",
       "      <td>185,489</td>\n",
       "      <td>0.79%</td>\n",
       "      <td>105,636</td>\n",
       "    </tr>\n",
       "    <tr>\n",
       "      <th>28</th>\n",
       "      <td>23</td>\n",
       "      <td>Goa</td>\n",
       "      <td>73,973</td>\n",
       "      <td>-</td>\n",
       "      <td>0.36%</td>\n",
       "      <td>-</td>\n",
       "    </tr>\n",
       "    <tr>\n",
       "      <th>29</th>\n",
       "      <td>25</td>\n",
       "      <td>Chandigarh</td>\n",
       "      <td>40,573</td>\n",
       "      <td>-</td>\n",
       "      <td>0.20%</td>\n",
       "      <td>-</td>\n",
       "    </tr>\n",
       "    <tr>\n",
       "      <th>30</th>\n",
       "      <td>27</td>\n",
       "      <td>Meghalaya</td>\n",
       "      <td>34,441</td>\n",
       "      <td>37,925</td>\n",
       "      <td>0.17%</td>\n",
       "      <td>21,905</td>\n",
       "    </tr>\n",
       "    <tr>\n",
       "      <th>31</th>\n",
       "      <td>29</td>\n",
       "      <td>Arunachal Pradesh</td>\n",
       "      <td>31,669</td>\n",
       "      <td>-</td>\n",
       "      <td>0.15%</td>\n",
       "      <td>-</td>\n",
       "    </tr>\n",
       "    <tr>\n",
       "      <th>32</th>\n",
       "      <td>31</td>\n",
       "      <td>Nagaland</td>\n",
       "      <td>27,859</td>\n",
       "      <td>-</td>\n",
       "      <td>0.13%</td>\n",
       "      <td>-</td>\n",
       "    </tr>\n",
       "    <tr>\n",
       "      <th>33</th>\n",
       "      <td>33</td>\n",
       "      <td>Andaman &amp; Nicobar Islands</td>\n",
       "      <td>9,209</td>\n",
       "      <td>-</td>\n",
       "      <td>0.04%</td>\n",
       "      <td>-</td>\n",
       "    </tr>\n",
       "  </tbody>\n",
       "</table>\n",
       "</div>"
      ],
      "text/plain": [
       "   Rank                      State GSDP_previous GSDP_current  \\\n",
       "0     1                Maharashtra     3,108,022            -   \n",
       "1     3              Uttar Pradesh     1,974,532    2,257,575   \n",
       "2     5                    Gujarat     1,937,066            -   \n",
       "3     7                  Rajasthan     1,218,193    1,413,620   \n",
       "4     9             Andhra Pradesh     1,133,837    1,317,728   \n",
       "5    11                     Kerala       932,470            -   \n",
       "6    13                    Haryana       870,665      994,154   \n",
       "7    15                      Bihar       650,302      751,396   \n",
       "8    17                      Assam       412,612      493,167   \n",
       "9    19                  Jharkhand       358,863      393,722   \n",
       "10   21         Jammu & Kashmir-UT       199,917      227,927   \n",
       "11   23                        Goa        82,604            -   \n",
       "12   25                 Chandigarh        45,635            -   \n",
       "13   27                  Meghalaya        38,785       42,697   \n",
       "14   29                    Manipur        36,594            -   \n",
       "15   31                   Nagaland        31,913            -   \n",
       "16   33  Andaman & Nicobar Islands        10,371            -   \n",
       "17    1                Maharashtra     2,690,525            -   \n",
       "18    3                  Karnataka     1,782,121    2,036,748   \n",
       "19    5                    Gujarat     1,700,504            -   \n",
       "20    7                  Rajasthan     1,084,845    1,259,527   \n",
       "21    9                  Telangana     1,024,205    1,187,082   \n",
       "22   11                     Kerala       822,970            -   \n",
       "23   13                    Haryana       779,197      885,308   \n",
       "24   15                     Odisha       587,900      691,888   \n",
       "25   17                      Assam       363,161      427,147   \n",
       "26   19                  Jharkhand       325,830      360,689   \n",
       "27   21         Jammu & Kashmir-UT       162,644      185,489   \n",
       "28   23                        Goa        73,973            -   \n",
       "29   25                 Chandigarh        40,573            -   \n",
       "30   27                  Meghalaya        34,441       37,925   \n",
       "31   29          Arunachal Pradesh        31,669            -   \n",
       "32   31                   Nagaland        27,859            -   \n",
       "33   33  Andaman & Nicobar Islands         9,209            -   \n",
       "\n",
       "   Share_previousGDP GDP_dollarbillion  \n",
       "0             13.17%           414.928  \n",
       "1              8.37%           263.605  \n",
       "2              8.21%           258.603  \n",
       "3              5.16%           162.632  \n",
       "4              4.80%           151.370  \n",
       "5              3.95%           124.487  \n",
       "6              3.69%           116.236  \n",
       "7              2.76%            86.817  \n",
       "8              1.75%            55.085  \n",
       "9              1.52%            47.909  \n",
       "10             0.85%            26.689  \n",
       "11             0.35%            11.028  \n",
       "12             0.19%             6.092  \n",
       "13             0.16%             5.178  \n",
       "14             0.16%             4.885  \n",
       "15             0.14%             4.260  \n",
       "16             0.04%             1.385  \n",
       "17            13.03%                 -  \n",
       "18             8.63%         1,190,851  \n",
       "19             8.23%                 -  \n",
       "20             5.25%           694,771  \n",
       "21             4.96%           642,207  \n",
       "22             3.98%                 -  \n",
       "23             3.77%           542,972  \n",
       "24             2.85%           403,222  \n",
       "25             1.76%           251,688  \n",
       "26             1.58%           235,685  \n",
       "27             0.79%           105,636  \n",
       "28             0.36%                 -  \n",
       "29             0.20%                 -  \n",
       "30             0.17%            21,905  \n",
       "31             0.15%                 -  \n",
       "32             0.13%                 -  \n",
       "33             0.04%                 -  "
      ]
     },
     "execution_count": 162,
     "metadata": {},
     "output_type": "execute_result"
    }
   ],
   "source": [
    "df"
   ]
  },
  {
   "cell_type": "code",
   "execution_count": null,
   "id": "e870b52c",
   "metadata": {},
   "outputs": [],
   "source": []
  },
  {
   "cell_type": "markdown",
   "id": "12a7e1b2",
   "metadata": {},
   "source": [
    "# Scrape the details of top 100 songs on billiboard.com. Url = https:/www.billboard.com/ You have to find the \n",
    "following details: \n",
    "A) Song name \n",
    "B) Artist name \n",
    "C) Last week rank \n",
    "D) Peak rank \n",
    "E) Weeks on board \n",
    " Note: - From the home page you have to click on the charts option then hot 100-page link through code."
   ]
  },
  {
   "cell_type": "code",
   "execution_count": 43,
   "id": "1936e2aa",
   "metadata": {},
   "outputs": [],
   "source": [
    "import selenium\n",
    "import pandas as pd\n",
    "import time\n",
    "from bs4 import BeautifulSoup\n",
    "\n",
    "from selenium import webdriver\n",
    "from selenium.common.exceptions import StaleElementReferenceException, NoSuchElementException, ElementNotInteractableException\n",
    "import requests\n",
    "\n",
    "from selenium.webdriver.common.by import By\n",
    "import re\n",
    "from selenium.common.exceptions import TimeoutException"
   ]
  },
  {
   "cell_type": "code",
   "execution_count": 44,
   "id": "3cb2172a",
   "metadata": {},
   "outputs": [],
   "source": [
    "driver=webdriver.Chrome()\n",
    "driver.get(\"https:/www.billboard.com/\") "
   ]
  },
  {
   "cell_type": "code",
   "execution_count": 46,
   "id": "05891c43",
   "metadata": {},
   "outputs": [],
   "source": [
    "charts=driver.find_element(By.XPATH,'/html/body/div[3]/header/div/div[2]/div/div/div[2]/div[2]/div/div/nav/ul/li[1]/a')\n",
    "charts.click()"
   ]
  },
  {
   "cell_type": "code",
   "execution_count": 47,
   "id": "205b48e7",
   "metadata": {},
   "outputs": [],
   "source": [
    "hot100pages=driver.find_element(By.XPATH,'/html/body/div[3]/header/div/div[3]/div/nav/ul/li[1]/a')\n",
    "hot100pages.click()\n"
   ]
  },
  {
   "cell_type": "code",
   "execution_count": 84,
   "id": "cee0603e",
   "metadata": {},
   "outputs": [],
   "source": [
    "Song_name=[] \n",
    "Artist_name=[] \n",
    "Last_weekrank=[] \n",
    "Peak_rank =[]\n",
    "Weeks_onboard=[] "
   ]
  },
  {
   "cell_type": "code",
   "execution_count": 85,
   "id": "92226a72",
   "metadata": {},
   "outputs": [],
   "source": [
    "song=driver.find_elements(By.XPATH,'//li[@class=\"lrv-u-width-100p\"]/ul/li/h3')\n",
    "for i in song:\n",
    "    if i.text is None:\n",
    "        Song_name.append(\"--\")\n",
    "    else:\n",
    "            Song_name.append(i.text)"
   ]
  },
  {
   "cell_type": "code",
   "execution_count": 86,
   "id": "a1ee70ec",
   "metadata": {},
   "outputs": [
    {
     "data": {
      "text/plain": [
       "100"
      ]
     },
     "execution_count": 86,
     "metadata": {},
     "output_type": "execute_result"
    }
   ],
   "source": [
    "len(Song_name)"
   ]
  },
  {
   "cell_type": "code",
   "execution_count": 87,
   "id": "4ee8c16e",
   "metadata": {},
   "outputs": [],
   "source": [
    "Art=driver.find_elements(By.XPATH,'//li[@class=\"lrv-u-width-100p\"]/ul/li[1]/span')\n",
    "for i in Art:\n",
    "    if i.text is None:\n",
    "        Artist_name.append(\"--\")\n",
    "    else:\n",
    "            Artist_name.append(i.text)\n",
    "                    "
   ]
  },
  {
   "cell_type": "code",
   "execution_count": 88,
   "id": "bcffa2af",
   "metadata": {},
   "outputs": [
    {
     "data": {
      "text/plain": [
       "100"
      ]
     },
     "execution_count": 88,
     "metadata": {},
     "output_type": "execute_result"
    }
   ],
   "source": [
    "len(Artist_name)"
   ]
  },
  {
   "cell_type": "code",
   "execution_count": 89,
   "id": "7449d670",
   "metadata": {},
   "outputs": [],
   "source": [
    "Lastwk=driver.find_elements(By.XPATH,'//li[@class=\"lrv-u-width-100p\"]/ul/li[4]/span')\n",
    "for i in Lastwk:\n",
    "    if i.text is None:\n",
    "        Last_weekrank.append(\"--\")\n",
    "    else:\n",
    "            Last_weekrank.append(i.text)\n",
    "            "
   ]
  },
  {
   "cell_type": "code",
   "execution_count": 90,
   "id": "1da03cdc",
   "metadata": {},
   "outputs": [
    {
     "data": {
      "text/plain": [
       "100"
      ]
     },
     "execution_count": 90,
     "metadata": {},
     "output_type": "execute_result"
    }
   ],
   "source": [
    "len(Last_weekrank)"
   ]
  },
  {
   "cell_type": "code",
   "execution_count": 91,
   "id": "d8eb8611",
   "metadata": {},
   "outputs": [],
   "source": [
    "peakwk=driver.find_elements(By.XPATH,'//li[@class=\"lrv-u-width-100p\"]/ul/li[5]/span')\n",
    "for i in peakwk:\n",
    "    if i.text is None:\n",
    "        Peak_rank.append(\"--\")\n",
    "    else:\n",
    "            Peak_rank.append(i.text)"
   ]
  },
  {
   "cell_type": "code",
   "execution_count": 92,
   "id": "3d43cbcf",
   "metadata": {},
   "outputs": [
    {
     "data": {
      "text/plain": [
       "100"
      ]
     },
     "execution_count": 92,
     "metadata": {},
     "output_type": "execute_result"
    }
   ],
   "source": [
    "len(Peak_rank)"
   ]
  },
  {
   "cell_type": "code",
   "execution_count": 93,
   "id": "a9518ba9",
   "metadata": {},
   "outputs": [],
   "source": [
    "Wk=driver.find_elements(By.XPATH,'//li[@class=\"lrv-u-width-100p\"]/ul/li[6]/span')\n",
    "for i in Wk:\n",
    "    if i.text is None:\n",
    "        Weeks_onboard.append(\"--\")\n",
    "    else:\n",
    "            Weeks_onboard.append(i.text)"
   ]
  },
  {
   "cell_type": "code",
   "execution_count": 94,
   "id": "bc62d94a",
   "metadata": {},
   "outputs": [
    {
     "data": {
      "text/plain": [
       "100"
      ]
     },
     "execution_count": 94,
     "metadata": {},
     "output_type": "execute_result"
    }
   ],
   "source": [
    "len(Weeks_onboard)"
   ]
  },
  {
   "cell_type": "code",
   "execution_count": 95,
   "id": "462ab107",
   "metadata": {},
   "outputs": [],
   "source": [
    "df=pd.DataFrame({'Song_name':Song_name, 'Artist_name': Artist_name, 'Last_weekrank': Last_weekrank, 'Peak_rank': Peak_rank, 'Weeks_onboard': Weeks_onboard})"
   ]
  },
  {
   "cell_type": "code",
   "execution_count": 96,
   "id": "8e1c0f5d",
   "metadata": {},
   "outputs": [
    {
     "data": {
      "text/html": [
       "<div>\n",
       "<style scoped>\n",
       "    .dataframe tbody tr th:only-of-type {\n",
       "        vertical-align: middle;\n",
       "    }\n",
       "\n",
       "    .dataframe tbody tr th {\n",
       "        vertical-align: top;\n",
       "    }\n",
       "\n",
       "    .dataframe thead th {\n",
       "        text-align: right;\n",
       "    }\n",
       "</style>\n",
       "<table border=\"1\" class=\"dataframe\">\n",
       "  <thead>\n",
       "    <tr style=\"text-align: right;\">\n",
       "      <th></th>\n",
       "      <th>Song_name</th>\n",
       "      <th>Artist_name</th>\n",
       "      <th>Last_weekrank</th>\n",
       "      <th>Peak_rank</th>\n",
       "      <th>Weeks_onboard</th>\n",
       "    </tr>\n",
       "  </thead>\n",
       "  <tbody>\n",
       "    <tr>\n",
       "      <th>0</th>\n",
       "      <td>Like That</td>\n",
       "      <td>Future, Metro Boomin &amp; Kendrick Lamar</td>\n",
       "      <td>-</td>\n",
       "      <td>1</td>\n",
       "      <td>1</td>\n",
       "    </tr>\n",
       "    <tr>\n",
       "      <th>1</th>\n",
       "      <td>Type Shit</td>\n",
       "      <td>Future, Metro Boomin, Travis Scott &amp; Playboi C...</td>\n",
       "      <td>-</td>\n",
       "      <td>2</td>\n",
       "      <td>1</td>\n",
       "    </tr>\n",
       "    <tr>\n",
       "      <th>2</th>\n",
       "      <td>Beautiful Things</td>\n",
       "      <td>Benson Boone</td>\n",
       "      <td>2</td>\n",
       "      <td>2</td>\n",
       "      <td>10</td>\n",
       "    </tr>\n",
       "    <tr>\n",
       "      <th>3</th>\n",
       "      <td>Lose Control</td>\n",
       "      <td>Teddy Swims</td>\n",
       "      <td>1</td>\n",
       "      <td>1</td>\n",
       "      <td>33</td>\n",
       "    </tr>\n",
       "    <tr>\n",
       "      <th>4</th>\n",
       "      <td>Too Sweet</td>\n",
       "      <td>Hozier</td>\n",
       "      <td>-</td>\n",
       "      <td>5</td>\n",
       "      <td>1</td>\n",
       "    </tr>\n",
       "    <tr>\n",
       "      <th>...</th>\n",
       "      <td>...</td>\n",
       "      <td>...</td>\n",
       "      <td>...</td>\n",
       "      <td>...</td>\n",
       "      <td>...</td>\n",
       "    </tr>\n",
       "    <tr>\n",
       "      <th>95</th>\n",
       "      <td>La Victima</td>\n",
       "      <td>Xavi</td>\n",
       "      <td>77</td>\n",
       "      <td>46</td>\n",
       "      <td>15</td>\n",
       "    </tr>\n",
       "    <tr>\n",
       "      <th>96</th>\n",
       "      <td>Tucson Too Late</td>\n",
       "      <td>Jordan Davis</td>\n",
       "      <td>81</td>\n",
       "      <td>81</td>\n",
       "      <td>4</td>\n",
       "    </tr>\n",
       "    <tr>\n",
       "      <th>97</th>\n",
       "      <td>Empire Now</td>\n",
       "      <td>Hozier</td>\n",
       "      <td>-</td>\n",
       "      <td>98</td>\n",
       "      <td>1</td>\n",
       "    </tr>\n",
       "    <tr>\n",
       "      <th>98</th>\n",
       "      <td>Girl I've Always Been</td>\n",
       "      <td>Olivia Rodrigo</td>\n",
       "      <td>-</td>\n",
       "      <td>99</td>\n",
       "      <td>1</td>\n",
       "    </tr>\n",
       "    <tr>\n",
       "      <th>99</th>\n",
       "      <td>Outskirts</td>\n",
       "      <td>Sam Hunt</td>\n",
       "      <td>92</td>\n",
       "      <td>92</td>\n",
       "      <td>3</td>\n",
       "    </tr>\n",
       "  </tbody>\n",
       "</table>\n",
       "<p>100 rows × 5 columns</p>\n",
       "</div>"
      ],
      "text/plain": [
       "                Song_name                                        Artist_name  \\\n",
       "0               Like That              Future, Metro Boomin & Kendrick Lamar   \n",
       "1               Type Shit  Future, Metro Boomin, Travis Scott & Playboi C...   \n",
       "2        Beautiful Things                                       Benson Boone   \n",
       "3            Lose Control                                        Teddy Swims   \n",
       "4               Too Sweet                                             Hozier   \n",
       "..                    ...                                                ...   \n",
       "95             La Victima                                               Xavi   \n",
       "96        Tucson Too Late                                       Jordan Davis   \n",
       "97             Empire Now                                             Hozier   \n",
       "98  Girl I've Always Been                                     Olivia Rodrigo   \n",
       "99              Outskirts                                           Sam Hunt   \n",
       "\n",
       "   Last_weekrank Peak_rank Weeks_onboard  \n",
       "0              -         1             1  \n",
       "1              -         2             1  \n",
       "2              2         2            10  \n",
       "3              1         1            33  \n",
       "4              -         5             1  \n",
       "..           ...       ...           ...  \n",
       "95            77        46            15  \n",
       "96            81        81             4  \n",
       "97             -        98             1  \n",
       "98             -        99             1  \n",
       "99            92        92             3  \n",
       "\n",
       "[100 rows x 5 columns]"
      ]
     },
     "execution_count": 96,
     "metadata": {},
     "output_type": "execute_result"
    }
   ],
   "source": [
    "df"
   ]
  },
  {
   "cell_type": "code",
   "execution_count": null,
   "id": "b35333c6",
   "metadata": {},
   "outputs": [],
   "source": []
  },
  {
   "cell_type": "markdown",
   "id": "c80c5a35",
   "metadata": {},
   "source": [
    "# Scrape the details of Highest selling novels. \n",
    "A) Book name \n",
    "B) Author name \n",
    "C) Volumes sold \n",
    "D) Publisher \n",
    "E) Genre \n",
    " Url - https://www.theguardian.com/news/datablog/2012/aug/09/best-selling-books-all-time-fifty-shades-grey-compare"
   ]
  },
  {
   "cell_type": "code",
   "execution_count": 4,
   "id": "2d5160db",
   "metadata": {},
   "outputs": [],
   "source": [
    "import selenium\n",
    "import pandas as pd\n",
    "import time\n",
    "from bs4 import BeautifulSoup\n",
    "\n",
    "from selenium import webdriver\n",
    "from selenium.common.exceptions import StaleElementReferenceException, NoSuchElementException, ElementNotInteractableException\n",
    "import requests\n",
    "\n",
    "from selenium.webdriver.common.by import By\n",
    "import re\n",
    "from selenium.common.exceptions import TimeoutException"
   ]
  },
  {
   "cell_type": "code",
   "execution_count": 5,
   "id": "5f81d0f6",
   "metadata": {},
   "outputs": [],
   "source": [
    "driver=webdriver.Chrome()\n",
    "driver.get(\"https://www.theguardian.com/news/datablog/2012/aug/09/best-selling-books-all-time-fifty-shades-grey-compare\")"
   ]
  },
  {
   "cell_type": "code",
   "execution_count": 6,
   "id": "4f47cb52",
   "metadata": {},
   "outputs": [],
   "source": [
    "Book_name=[]\n",
    "Author_name=[] \n",
    "Volumes_sold=[]\n",
    "Publisher=[]\n",
    "Genre=[]"
   ]
  },
  {
   "cell_type": "code",
   "execution_count": 8,
   "id": "8baf2f3f",
   "metadata": {},
   "outputs": [],
   "source": [
    "Bk_name=driver.find_elements(By.XPATH,'//table[@class=\"in-article sortable\"]/tbody/tr/td[2]')\n",
    "for i in Bk_name:\n",
    "    if i.text is None:\n",
    "        Book_name.append(\"--\n",
    "    else:\n",
    "            Book_name.append(i.text)\n"
   ]
  },
  {
   "cell_type": "code",
   "execution_count": 9,
   "id": "7dacdccf",
   "metadata": {},
   "outputs": [
    {
     "data": {
      "text/plain": [
       "100"
      ]
     },
     "execution_count": 9,
     "metadata": {},
     "output_type": "execute_result"
    }
   ],
   "source": [
    "len(Book_name)"
   ]
  },
  {
   "cell_type": "code",
   "execution_count": 10,
   "id": "96450f5f",
   "metadata": {},
   "outputs": [],
   "source": [
    "At_name=driver.find_elements(By.XPATH,'//table[@class=\"in-article sortable\"]/tbody/tr/td[3]')\n",
    "for i in At_name:\n",
    "    if i.text is None:\n",
    "        Author_name.append(\"--\")\n",
    "    else:\n",
    "            Author_name.append(i.text)"
   ]
  },
  {
   "cell_type": "code",
   "execution_count": 11,
   "id": "1325ae72",
   "metadata": {},
   "outputs": [
    {
     "data": {
      "text/plain": [
       "100"
      ]
     },
     "execution_count": 11,
     "metadata": {},
     "output_type": "execute_result"
    }
   ],
   "source": [
    "len(Author_name)"
   ]
  },
  {
   "cell_type": "code",
   "execution_count": 12,
   "id": "e9359ea8",
   "metadata": {},
   "outputs": [],
   "source": [
    "Vol_sold=driver.find_elements(By.XPATH,'//table[@class=\"in-article sortable\"]/tbody/tr/td[4]')\n",
    "for i in Vol_sold:\n",
    "    if i.text is None:\n",
    "        Volumes_sold.append(\"--\")\n",
    "    else:\n",
    "            Volumes_sold.append(i.text)"
   ]
  },
  {
   "cell_type": "code",
   "execution_count": 13,
   "id": "0cac0825",
   "metadata": {},
   "outputs": [
    {
     "data": {
      "text/plain": [
       "100"
      ]
     },
     "execution_count": 13,
     "metadata": {},
     "output_type": "execute_result"
    }
   ],
   "source": [
    "len(Volumes_sold)"
   ]
  },
  {
   "cell_type": "code",
   "execution_count": 14,
   "id": "727c8cb1",
   "metadata": {},
   "outputs": [],
   "source": [
    "Pub=driver.find_elements(By.XPATH,'//table[@class=\"in-article sortable\"]/tbody/tr/td[5]')\n",
    "for i in Pub:\n",
    "    if i.text is None:\n",
    "        Publisher.append(\"--\")\n",
    "    else:\n",
    "            Publisher.append(i.text)"
   ]
  },
  {
   "cell_type": "code",
   "execution_count": 15,
   "id": "c0aa9a81",
   "metadata": {},
   "outputs": [
    {
     "data": {
      "text/plain": [
       "100"
      ]
     },
     "execution_count": 15,
     "metadata": {},
     "output_type": "execute_result"
    }
   ],
   "source": [
    "len(Publisher)"
   ]
  },
  {
   "cell_type": "code",
   "execution_count": 17,
   "id": "7eaf7af4",
   "metadata": {},
   "outputs": [],
   "source": [
    "Gen=driver.find_elements(By.XPATH, '//table[@class=\"in-article sortable\"]/tbody/tr/td[6]')\n",
    "for i in Gen:\n",
    "    if i.text is None:\n",
    "        Genre.append(\"--\")\n",
    "    else:\n",
    "            Genre.append(i.text)"
   ]
  },
  {
   "cell_type": "code",
   "execution_count": 18,
   "id": "eabf1bb0",
   "metadata": {},
   "outputs": [
    {
     "data": {
      "text/plain": [
       "100"
      ]
     },
     "execution_count": 18,
     "metadata": {},
     "output_type": "execute_result"
    }
   ],
   "source": [
    "len(Genre)"
   ]
  },
  {
   "cell_type": "code",
   "execution_count": 19,
   "id": "9068a32d",
   "metadata": {},
   "outputs": [],
   "source": [
    "df=pd.DataFrame({'Book_name':Book_name, 'Author_name': Author_name, 'Volumes_sold': Volumes_sold, 'Publisher': Publisher, 'Genre': Genre})"
   ]
  },
  {
   "cell_type": "code",
   "execution_count": 20,
   "id": "6d4e21d9",
   "metadata": {},
   "outputs": [
    {
     "data": {
      "text/html": [
       "<div>\n",
       "<style scoped>\n",
       "    .dataframe tbody tr th:only-of-type {\n",
       "        vertical-align: middle;\n",
       "    }\n",
       "\n",
       "    .dataframe tbody tr th {\n",
       "        vertical-align: top;\n",
       "    }\n",
       "\n",
       "    .dataframe thead th {\n",
       "        text-align: right;\n",
       "    }\n",
       "</style>\n",
       "<table border=\"1\" class=\"dataframe\">\n",
       "  <thead>\n",
       "    <tr style=\"text-align: right;\">\n",
       "      <th></th>\n",
       "      <th>Book_name</th>\n",
       "      <th>Author_name</th>\n",
       "      <th>Volumes_sold</th>\n",
       "      <th>Publisher</th>\n",
       "      <th>Genre</th>\n",
       "    </tr>\n",
       "  </thead>\n",
       "  <tbody>\n",
       "    <tr>\n",
       "      <th>0</th>\n",
       "      <td>Da Vinci Code,The</td>\n",
       "      <td>Brown, Dan</td>\n",
       "      <td>5,094,805</td>\n",
       "      <td>Transworld</td>\n",
       "      <td>Crime, Thriller &amp; Adventure</td>\n",
       "    </tr>\n",
       "    <tr>\n",
       "      <th>1</th>\n",
       "      <td>Harry Potter and the Deathly Hallows</td>\n",
       "      <td>Rowling, J.K.</td>\n",
       "      <td>4,475,152</td>\n",
       "      <td>Bloomsbury</td>\n",
       "      <td>Children's Fiction</td>\n",
       "    </tr>\n",
       "    <tr>\n",
       "      <th>2</th>\n",
       "      <td>Harry Potter and the Philosopher's Stone</td>\n",
       "      <td>Rowling, J.K.</td>\n",
       "      <td>4,200,654</td>\n",
       "      <td>Bloomsbury</td>\n",
       "      <td>Children's Fiction</td>\n",
       "    </tr>\n",
       "    <tr>\n",
       "      <th>3</th>\n",
       "      <td>Harry Potter and the Order of the Phoenix</td>\n",
       "      <td>Rowling, J.K.</td>\n",
       "      <td>4,179,479</td>\n",
       "      <td>Bloomsbury</td>\n",
       "      <td>Children's Fiction</td>\n",
       "    </tr>\n",
       "    <tr>\n",
       "      <th>4</th>\n",
       "      <td>Fifty Shades of Grey</td>\n",
       "      <td>James, E. L.</td>\n",
       "      <td>3,758,936</td>\n",
       "      <td>Random House</td>\n",
       "      <td>Romance &amp; Sagas</td>\n",
       "    </tr>\n",
       "    <tr>\n",
       "      <th>...</th>\n",
       "      <td>...</td>\n",
       "      <td>...</td>\n",
       "      <td>...</td>\n",
       "      <td>...</td>\n",
       "      <td>...</td>\n",
       "    </tr>\n",
       "    <tr>\n",
       "      <th>95</th>\n",
       "      <td>Ghost,The</td>\n",
       "      <td>Harris, Robert</td>\n",
       "      <td>807,311</td>\n",
       "      <td>Random House</td>\n",
       "      <td>General &amp; Literary Fiction</td>\n",
       "    </tr>\n",
       "    <tr>\n",
       "      <th>96</th>\n",
       "      <td>Happy Days with the Naked Chef</td>\n",
       "      <td>Oliver, Jamie</td>\n",
       "      <td>794,201</td>\n",
       "      <td>Penguin</td>\n",
       "      <td>Food &amp; Drink: General</td>\n",
       "    </tr>\n",
       "    <tr>\n",
       "      <th>97</th>\n",
       "      <td>Hunger Games,The:Hunger Games Trilogy</td>\n",
       "      <td>Collins, Suzanne</td>\n",
       "      <td>792,187</td>\n",
       "      <td>Scholastic Ltd.</td>\n",
       "      <td>Young Adult Fiction</td>\n",
       "    </tr>\n",
       "    <tr>\n",
       "      <th>98</th>\n",
       "      <td>Lost Boy,The:A Foster Child's Search for the L...</td>\n",
       "      <td>Pelzer, Dave</td>\n",
       "      <td>791,507</td>\n",
       "      <td>Orion</td>\n",
       "      <td>Biography: General</td>\n",
       "    </tr>\n",
       "    <tr>\n",
       "      <th>99</th>\n",
       "      <td>Jamie's Ministry of Food:Anyone Can Learn to C...</td>\n",
       "      <td>Oliver, Jamie</td>\n",
       "      <td>791,095</td>\n",
       "      <td>Penguin</td>\n",
       "      <td>Food &amp; Drink: General</td>\n",
       "    </tr>\n",
       "  </tbody>\n",
       "</table>\n",
       "<p>100 rows × 5 columns</p>\n",
       "</div>"
      ],
      "text/plain": [
       "                                            Book_name       Author_name  \\\n",
       "0                                   Da Vinci Code,The        Brown, Dan   \n",
       "1                Harry Potter and the Deathly Hallows     Rowling, J.K.   \n",
       "2            Harry Potter and the Philosopher's Stone     Rowling, J.K.   \n",
       "3           Harry Potter and the Order of the Phoenix     Rowling, J.K.   \n",
       "4                                Fifty Shades of Grey      James, E. L.   \n",
       "..                                                ...               ...   \n",
       "95                                          Ghost,The    Harris, Robert   \n",
       "96                     Happy Days with the Naked Chef     Oliver, Jamie   \n",
       "97              Hunger Games,The:Hunger Games Trilogy  Collins, Suzanne   \n",
       "98  Lost Boy,The:A Foster Child's Search for the L...      Pelzer, Dave   \n",
       "99  Jamie's Ministry of Food:Anyone Can Learn to C...     Oliver, Jamie   \n",
       "\n",
       "   Volumes_sold        Publisher                        Genre  \n",
       "0     5,094,805       Transworld  Crime, Thriller & Adventure  \n",
       "1     4,475,152       Bloomsbury           Children's Fiction  \n",
       "2     4,200,654       Bloomsbury           Children's Fiction  \n",
       "3     4,179,479       Bloomsbury           Children's Fiction  \n",
       "4     3,758,936     Random House              Romance & Sagas  \n",
       "..          ...              ...                          ...  \n",
       "95      807,311     Random House   General & Literary Fiction  \n",
       "96      794,201          Penguin        Food & Drink: General  \n",
       "97      792,187  Scholastic Ltd.          Young Adult Fiction  \n",
       "98      791,507            Orion           Biography: General  \n",
       "99      791,095          Penguin        Food & Drink: General  \n",
       "\n",
       "[100 rows x 5 columns]"
      ]
     },
     "execution_count": 20,
     "metadata": {},
     "output_type": "execute_result"
    }
   ],
   "source": [
    "df"
   ]
  },
  {
   "cell_type": "code",
   "execution_count": null,
   "id": "0a5d730d",
   "metadata": {},
   "outputs": [],
   "source": []
  },
  {
   "cell_type": "markdown",
   "id": "c7ce2119",
   "metadata": {},
   "source": [
    "# . Details of Datasets from UCI machine learning repositories. \n",
    "Url = https://archive.ics.uci.edu/ \n",
    "You have to find the following details: \n",
    "A) Dataset name \n",
    "B) Data type \n",
    "C) Task \n",
    "D) Attribute type \n",
    "E) No of instances \n",
    "F) No of attribute G) Year \n",
    " Note: - from the home page you have to go to the Show All Dataset page through code. "
   ]
  },
  {
   "cell_type": "code",
   "execution_count": 238,
   "id": "c5fee86e",
   "metadata": {},
   "outputs": [],
   "source": [
    "import selenium\n",
    "import pandas as pd\n",
    "import time\n",
    "from bs4 import BeautifulSoup\n",
    "\n",
    "from selenium import webdriver\n",
    "from selenium.common.exceptions import StaleElementReferenceException, NoSuchElementException, ElementNotInteractableException\n",
    "import requests\n",
    "\n",
    "from selenium.webdriver.common.by import By\n",
    "import re\n",
    "from selenium.common.exceptions import TimeoutException"
   ]
  },
  {
   "cell_type": "code",
   "execution_count": 239,
   "id": "7e336c2d",
   "metadata": {},
   "outputs": [],
   "source": [
    "driver=webdriver.Chrome()\n",
    "driver.get(\"https://archive.ics.uci.edu/\") "
   ]
  },
  {
   "cell_type": "code",
   "execution_count": 240,
   "id": "93bc5da0",
   "metadata": {},
   "outputs": [],
   "source": [
    "datasets=driver.find_element(By.XPATH,'/html/body/div/div[1]/div[1]/main/div/div[1]/div/div/div/a[1]')\n",
    "datasets.click()"
   ]
  },
  {
   "cell_type": "code",
   "execution_count": 242,
   "id": "b047b391",
   "metadata": {},
   "outputs": [],
   "source": [
    "expand=driver.find_element(By.XPATH,'/html/body/div/div[1]/div[1]/main/div/div[2]/div[1]/div/label[2]/div[2]/span[2]')\n",
    "expand.click()"
   ]
  },
  {
   "cell_type": "code",
   "execution_count": 243,
   "id": "8501dc63",
   "metadata": {},
   "outputs": [],
   "source": [
    "Dataset_name=[]\n",
    "Data_type=[] \n",
    "Task=[]\n",
    "Attribute_type=[]\n",
    "No_of_instances=[]\n",
    "No_of_attributes=[]\n",
    "year=[]"
   ]
  },
  {
   "cell_type": "code",
   "execution_count": 244,
   "id": "3279a974",
   "metadata": {},
   "outputs": [],
   "source": [
    "Dataset=driver.find_elements(By.XPATH,'//a[@class=\"link-hover link text-xl font-semibold\"]')\n",
    "for i in Dataset:\n",
    "    if i.text is None:\n",
    "        Dataset_name.append(\"--\")\n",
    "    else:\n",
    "            Dataset_name.append(i.text)"
   ]
  },
  {
   "cell_type": "code",
   "execution_count": 245,
   "id": "47db5f3f",
   "metadata": {},
   "outputs": [
    {
     "data": {
      "text/plain": [
       "10"
      ]
     },
     "execution_count": 245,
     "metadata": {},
     "output_type": "execute_result"
    }
   ],
   "source": [
    "len(Dataset_name)"
   ]
  },
  {
   "cell_type": "code",
   "execution_count": 246,
   "id": "60295630",
   "metadata": {},
   "outputs": [],
   "source": [
    "Datatype=driver.find_elements(By.XPATH,'//div[@class=\"my-2 hidden gap-4 md:grid grid-cols-12\"]//div[2]/span')\n",
    "for i in Datatype:\n",
    "    if i.text is None:\n",
    "        Data_type.append(\"--\")\n",
    "    else:\n",
    "            Data_type.append(i.text)"
   ]
  },
  {
   "cell_type": "code",
   "execution_count": 247,
   "id": "1d2ec643",
   "metadata": {},
   "outputs": [
    {
     "data": {
      "text/plain": [
       "10"
      ]
     },
     "execution_count": 247,
     "metadata": {},
     "output_type": "execute_result"
    }
   ],
   "source": [
    "len(Data_type)"
   ]
  },
  {
   "cell_type": "code",
   "execution_count": 248,
   "id": "ccae65f7",
   "metadata": {},
   "outputs": [],
   "source": [
    "Ts=driver.find_elements(By.XPATH,'//div[@class=\"my-2 hidden gap-4 md:grid grid-cols-12\"]/div[1]/span')\n",
    "for i in Ts:\n",
    "    if i.text is None:\n",
    "        Task.append(\"--\")\n",
    "    else:\n",
    "            Task.append(i.text)"
   ]
  },
  {
   "cell_type": "code",
   "execution_count": 249,
   "id": "c850f466",
   "metadata": {},
   "outputs": [
    {
     "data": {
      "text/plain": [
       "10"
      ]
     },
     "execution_count": 249,
     "metadata": {},
     "output_type": "execute_result"
    }
   ],
   "source": [
    "len(Task)"
   ]
  },
  {
   "cell_type": "code",
   "execution_count": 250,
   "id": "ba35f5ab",
   "metadata": {},
   "outputs": [],
   "source": [
    "Atty=driver.find_elements(By.XPATH,'//table[@class=\"col-span-full my-2 table sm:col-start-2\"]/tbody/tr/td[2]')\n",
    "for i in Atty:\n",
    "    if i.text is None:\n",
    "        Attribute_type.append(\"--\")\n",
    "    else:\n",
    "            Attribute_type.append(i.text)"
   ]
  },
  {
   "cell_type": "code",
   "execution_count": 251,
   "id": "29bfd02c",
   "metadata": {},
   "outputs": [
    {
     "data": {
      "text/plain": [
       "10"
      ]
     },
     "execution_count": 251,
     "metadata": {},
     "output_type": "execute_result"
    }
   ],
   "source": [
    "len(Attribute_type)"
   ]
  },
  {
   "cell_type": "code",
   "execution_count": 252,
   "id": "2a972a45",
   "metadata": {},
   "outputs": [],
   "source": [
    "Inst=driver.find_elements(By.XPATH,'//div[@class=\"my-2 hidden gap-4 md:grid grid-cols-12\"]/div[3]/span')\n",
    "for i in Inst:\n",
    "    if i.text is None:\n",
    "        No_of_instances.append(\"--\")\n",
    "    else:\n",
    "            No_of_instances.append(i.text)"
   ]
  },
  {
   "cell_type": "code",
   "execution_count": 253,
   "id": "e4872ba5",
   "metadata": {},
   "outputs": [
    {
     "data": {
      "text/plain": [
       "10"
      ]
     },
     "execution_count": 253,
     "metadata": {},
     "output_type": "execute_result"
    }
   ],
   "source": [
    "len(No_of_instances)"
   ]
  },
  {
   "cell_type": "code",
   "execution_count": 254,
   "id": "ed902c51",
   "metadata": {},
   "outputs": [],
   "source": [
    "attributes=driver.find_elements(By.XPATH,'//div[@class=\"my-2 hidden gap-4 md:grid grid-cols-12\"]/div[4]/span')\n",
    "for i in attributes:\n",
    "    if i.text is None:\n",
    "        No_of_attributes.append(\"--\")\n",
    "    else:\n",
    "            No_of_attributes.append(i.text)"
   ]
  },
  {
   "cell_type": "code",
   "execution_count": 255,
   "id": "9117d11f",
   "metadata": {},
   "outputs": [
    {
     "data": {
      "text/plain": [
       "10"
      ]
     },
     "execution_count": 255,
     "metadata": {},
     "output_type": "execute_result"
    }
   ],
   "source": [
    "len(No_of_attributes)"
   ]
  },
  {
   "cell_type": "code",
   "execution_count": 256,
   "id": "5b57a47c",
   "metadata": {},
   "outputs": [],
   "source": [
    "Yr=driver.find_elements(By.XPATH,'//table[@class=\"col-span-full my-2 table sm:col-start-2\"]/tbody/tr/td[3]')\n",
    "for i in Yr:\n",
    "    if i.text is None:\n",
    "        year.append(\"--\")\n",
    "    else:\n",
    "            year.append(i.text)"
   ]
  },
  {
   "cell_type": "code",
   "execution_count": 257,
   "id": "c401dcb7",
   "metadata": {},
   "outputs": [
    {
     "data": {
      "text/plain": [
       "10"
      ]
     },
     "execution_count": 257,
     "metadata": {},
     "output_type": "execute_result"
    }
   ],
   "source": [
    "len(year)"
   ]
  },
  {
   "cell_type": "code",
   "execution_count": 258,
   "id": "4ca6a13b",
   "metadata": {},
   "outputs": [
    {
     "name": "stdout",
     "output_type": "stream",
     "text": [
      "10 10 10 10 10 10 10\n"
     ]
    }
   ],
   "source": [
    "print(len(Dataset_name), len(Data_type), len(Task), len(Attribute_type), len(No_of_instances),len(No_of_attributes), len(year))"
   ]
  },
  {
   "cell_type": "code",
   "execution_count": 259,
   "id": "b90bf876",
   "metadata": {},
   "outputs": [],
   "source": [
    "df=pd.DataFrame({'Dataset_name':Dataset_name, 'Data_type': Data_type, 'Task': Task, 'Attribute_type': Attribute_type, 'No_of_instances': No_of_instances, 'No_of_attributes':No_of_attributes, 'year': year})"
   ]
  },
  {
   "cell_type": "code",
   "execution_count": 260,
   "id": "38b85906",
   "metadata": {},
   "outputs": [
    {
     "data": {
      "text/html": [
       "<div>\n",
       "<style scoped>\n",
       "    .dataframe tbody tr th:only-of-type {\n",
       "        vertical-align: middle;\n",
       "    }\n",
       "\n",
       "    .dataframe tbody tr th {\n",
       "        vertical-align: top;\n",
       "    }\n",
       "\n",
       "    .dataframe thead th {\n",
       "        text-align: right;\n",
       "    }\n",
       "</style>\n",
       "<table border=\"1\" class=\"dataframe\">\n",
       "  <thead>\n",
       "    <tr style=\"text-align: right;\">\n",
       "      <th></th>\n",
       "      <th>Dataset_name</th>\n",
       "      <th>Data_type</th>\n",
       "      <th>Task</th>\n",
       "      <th>Attribute_type</th>\n",
       "      <th>No_of_instances</th>\n",
       "      <th>No_of_attributes</th>\n",
       "      <th>year</th>\n",
       "    </tr>\n",
       "  </thead>\n",
       "  <tbody>\n",
       "    <tr>\n",
       "      <th>0</th>\n",
       "      <td>Iris</td>\n",
       "      <td>Tabular</td>\n",
       "      <td>Classification</td>\n",
       "      <td>Real</td>\n",
       "      <td>150 Instances</td>\n",
       "      <td>4 Features</td>\n",
       "      <td>7/1/1988</td>\n",
       "    </tr>\n",
       "    <tr>\n",
       "      <th>1</th>\n",
       "      <td>Dry Bean</td>\n",
       "      <td>Multivariate</td>\n",
       "      <td>Classification</td>\n",
       "      <td>Integer, Real</td>\n",
       "      <td>13.61K Instances</td>\n",
       "      <td>16 Features</td>\n",
       "      <td>9/14/2020</td>\n",
       "    </tr>\n",
       "    <tr>\n",
       "      <th>2</th>\n",
       "      <td>Heart Disease</td>\n",
       "      <td>Multivariate</td>\n",
       "      <td>Classification</td>\n",
       "      <td>Categorical, Integer, Real</td>\n",
       "      <td>303 Instances</td>\n",
       "      <td>13 Features</td>\n",
       "      <td>7/1/1988</td>\n",
       "    </tr>\n",
       "    <tr>\n",
       "      <th>3</th>\n",
       "      <td>Rice (Cammeo and Osmancik)</td>\n",
       "      <td>Multivariate</td>\n",
       "      <td>Classification</td>\n",
       "      <td>Real</td>\n",
       "      <td>3.81K Instances</td>\n",
       "      <td>7 Features</td>\n",
       "      <td>10/6/2019</td>\n",
       "    </tr>\n",
       "    <tr>\n",
       "      <th>4</th>\n",
       "      <td>Adult</td>\n",
       "      <td>Multivariate</td>\n",
       "      <td>Classification</td>\n",
       "      <td>Categorical, Integer</td>\n",
       "      <td>48.84K Instances</td>\n",
       "      <td>14 Features</td>\n",
       "      <td>5/1/1996</td>\n",
       "    </tr>\n",
       "    <tr>\n",
       "      <th>5</th>\n",
       "      <td>Raisin</td>\n",
       "      <td>Multivariate</td>\n",
       "      <td>Classification</td>\n",
       "      <td>Real, Integer</td>\n",
       "      <td>900 Instances</td>\n",
       "      <td>8 Features</td>\n",
       "      <td>8/14/2023</td>\n",
       "    </tr>\n",
       "    <tr>\n",
       "      <th>6</th>\n",
       "      <td>Breast Cancer Wisconsin (Diagnostic)</td>\n",
       "      <td>Multivariate</td>\n",
       "      <td>Classification</td>\n",
       "      <td>Real</td>\n",
       "      <td>569 Instances</td>\n",
       "      <td>30 Features</td>\n",
       "      <td>11/1/1995</td>\n",
       "    </tr>\n",
       "    <tr>\n",
       "      <th>7</th>\n",
       "      <td>Wine</td>\n",
       "      <td>Tabular</td>\n",
       "      <td>Classification</td>\n",
       "      <td>Integer, Real</td>\n",
       "      <td>178 Instances</td>\n",
       "      <td>13 Features</td>\n",
       "      <td>7/1/1991</td>\n",
       "    </tr>\n",
       "    <tr>\n",
       "      <th>8</th>\n",
       "      <td>Wine Quality</td>\n",
       "      <td>Multivariate</td>\n",
       "      <td>Classification, Regression</td>\n",
       "      <td>Real</td>\n",
       "      <td>4.9K Instances</td>\n",
       "      <td>12 Features</td>\n",
       "      <td>10/7/2009</td>\n",
       "    </tr>\n",
       "    <tr>\n",
       "      <th>9</th>\n",
       "      <td>Diabetes</td>\n",
       "      <td>Multivariate, Time-Series</td>\n",
       "      <td>Classification</td>\n",
       "      <td>Categorical, Integer</td>\n",
       "      <td>1 Instances</td>\n",
       "      <td>20 Features</td>\n",
       "      <td>N/A</td>\n",
       "    </tr>\n",
       "  </tbody>\n",
       "</table>\n",
       "</div>"
      ],
      "text/plain": [
       "                           Dataset_name                  Data_type  \\\n",
       "0                                  Iris                    Tabular   \n",
       "1                              Dry Bean               Multivariate   \n",
       "2                         Heart Disease               Multivariate   \n",
       "3            Rice (Cammeo and Osmancik)               Multivariate   \n",
       "4                                 Adult               Multivariate   \n",
       "5                                Raisin               Multivariate   \n",
       "6  Breast Cancer Wisconsin (Diagnostic)               Multivariate   \n",
       "7                                  Wine                    Tabular   \n",
       "8                          Wine Quality               Multivariate   \n",
       "9                              Diabetes  Multivariate, Time-Series   \n",
       "\n",
       "                         Task              Attribute_type   No_of_instances  \\\n",
       "0              Classification                        Real     150 Instances   \n",
       "1              Classification               Integer, Real  13.61K Instances   \n",
       "2              Classification  Categorical, Integer, Real     303 Instances   \n",
       "3              Classification                        Real   3.81K Instances   \n",
       "4              Classification        Categorical, Integer  48.84K Instances   \n",
       "5              Classification               Real, Integer     900 Instances   \n",
       "6              Classification                        Real     569 Instances   \n",
       "7              Classification               Integer, Real     178 Instances   \n",
       "8  Classification, Regression                        Real    4.9K Instances   \n",
       "9              Classification        Categorical, Integer       1 Instances   \n",
       "\n",
       "  No_of_attributes       year  \n",
       "0       4 Features   7/1/1988  \n",
       "1      16 Features  9/14/2020  \n",
       "2      13 Features   7/1/1988  \n",
       "3       7 Features  10/6/2019  \n",
       "4      14 Features   5/1/1996  \n",
       "5       8 Features  8/14/2023  \n",
       "6      30 Features  11/1/1995  \n",
       "7      13 Features   7/1/1991  \n",
       "8      12 Features  10/7/2009  \n",
       "9      20 Features        N/A  "
      ]
     },
     "execution_count": 260,
     "metadata": {},
     "output_type": "execute_result"
    }
   ],
   "source": [
    "df"
   ]
  },
  {
   "cell_type": "code",
   "execution_count": null,
   "id": "991ff302",
   "metadata": {},
   "outputs": [],
   "source": []
  },
  {
   "cell_type": "markdown",
   "id": "6d2bbf4f",
   "metadata": {},
   "source": [
    "# Scrape the details of trending repositories on Github.com. \n",
    "Url = https://github.com/ \n",
    "You have to find the following details: \n",
    "A) Repository title \n",
    "B) Repository description \n",
    "C) Contributors count \n",
    "D) Language used \n",
    "Note: - From the home page you have to click on the trending option from Explore menu through code."
   ]
  },
  {
   "cell_type": "code",
   "execution_count": 5,
   "id": "2cdc5783",
   "metadata": {},
   "outputs": [],
   "source": [
    "import selenium\n",
    "import pandas as pd\n",
    "import time\n",
    "from bs4 import BeautifulSoup\n",
    "\n",
    "from selenium import webdriver\n",
    "from selenium.common.exceptions import StaleElementReferenceException, NoSuchElementException, ElementNotInteractableException\n",
    "import requests\n",
    "\n",
    "from selenium.webdriver.common.by import By\n",
    "import re\n",
    "from selenium.common.exceptions import TimeoutException\n"
   ]
  },
  {
   "cell_type": "code",
   "execution_count": 6,
   "id": "9e1f44bd",
   "metadata": {},
   "outputs": [],
   "source": [
    "driver=webdriver.Chrome()\n",
    "driver.get(\"https://github.com/\")"
   ]
  },
  {
   "cell_type": "code",
   "execution_count": 9,
   "id": "f0f372e8",
   "metadata": {},
   "outputs": [],
   "source": [
    "explore=driver.find_element(By.XPATH,'/html/body/div[1]/div[6]/div/div/div/div/div/aside/div[2]/div/a')\n",
    "explore.click()"
   ]
  },
  {
   "cell_type": "code",
   "execution_count": 10,
   "id": "d9bcdf87",
   "metadata": {},
   "outputs": [],
   "source": [
    "trending=driver.find_element(By.XPATH,'/html/body/div[1]/div[6]/main/div[1]/nav/div/a[3]')\n",
    "trending.click()\n"
   ]
  },
  {
   "cell_type": "code",
   "execution_count": 11,
   "id": "53b4fe08",
   "metadata": {},
   "outputs": [],
   "source": [
    "Repository_title=[] \n",
    "Repository_desc=[] \n",
    "Contributors_count=[] \n",
    "Language_used=[] "
   ]
  },
  {
   "cell_type": "code",
   "execution_count": 13,
   "id": "df441d77",
   "metadata": {},
   "outputs": [],
   "source": [
    "Re=driver.find_elements(By.XPATH,'//h2[@class=\"h3 lh-condensed\"]/a')\n",
    "for i in Re:\n",
    "    if i.text is None:\n",
    "        Repository_title.append(\"--\")\n",
    "    else:\n",
    "            Repository_title.append(i.text)"
   ]
  },
  {
   "cell_type": "code",
   "execution_count": 14,
   "id": "fc0f85c4",
   "metadata": {},
   "outputs": [
    {
     "data": {
      "text/plain": [
       "25"
      ]
     },
     "execution_count": 14,
     "metadata": {},
     "output_type": "execute_result"
    }
   ],
   "source": [
    "len(Repository_title)"
   ]
  },
  {
   "cell_type": "code",
   "execution_count": 15,
   "id": "222ce294",
   "metadata": {},
   "outputs": [],
   "source": [
    "Rep_desc=driver.find_elements(By.XPATH, '//h2[@class=\"h3 lh-condensed\"]/a/span')\n",
    "for i in Rep_desc:\n",
    "    if i.text is None:\n",
    "        Repository_desc.append(\"--\")\n",
    "    else:\n",
    "            Repository_desc.append(i.text)"
   ]
  },
  {
   "cell_type": "code",
   "execution_count": 16,
   "id": "61bf697d",
   "metadata": {},
   "outputs": [
    {
     "data": {
      "text/plain": [
       "25"
      ]
     },
     "execution_count": 16,
     "metadata": {},
     "output_type": "execute_result"
    }
   ],
   "source": [
    "len(Repository_desc)"
   ]
  },
  {
   "cell_type": "code",
   "execution_count": 17,
   "id": "98f2ecae",
   "metadata": {},
   "outputs": [],
   "source": [
    "Contri=driver.find_elements(By.XPATH, '//a[2][@class=\"Link Link--muted d-inline-block mr-3\"]')\n",
    "for i in Contri:\n",
    "    if i.text is None:\n",
    "        Contributors_count.append(\"--\")\n",
    "    else:\n",
    "            Contributors_count.append(i.text)"
   ]
  },
  {
   "cell_type": "code",
   "execution_count": 18,
   "id": "eac59f9d",
   "metadata": {},
   "outputs": [
    {
     "data": {
      "text/plain": [
       "25"
      ]
     },
     "execution_count": 18,
     "metadata": {},
     "output_type": "execute_result"
    }
   ],
   "source": [
    "len(Contributors_count)"
   ]
  },
  {
   "cell_type": "code",
   "execution_count": 19,
   "id": "c5b66f2a",
   "metadata": {},
   "outputs": [],
   "source": [
    "Lang=driver.find_elements(By.XPATH, '//div[@class=\"f6 color-fg-muted mt-2\"]/span[1]')\n",
    "for i in Lang:\n",
    "    if i.text is None:\n",
    "        Langauge_used.append(\"--\")\n",
    "    else:\n",
    "            Language_used.append(i.text)"
   ]
  },
  {
   "cell_type": "code",
   "execution_count": 20,
   "id": "4442f41a",
   "metadata": {},
   "outputs": [
    {
     "data": {
      "text/plain": [
       "25"
      ]
     },
     "execution_count": 20,
     "metadata": {},
     "output_type": "execute_result"
    }
   ],
   "source": [
    "len(Language_used)"
   ]
  },
  {
   "cell_type": "code",
   "execution_count": 22,
   "id": "075e64ed",
   "metadata": {},
   "outputs": [],
   "source": [
    "df=pd.DataFrame({'Repository_title':Repository_title, 'Respository_desc': Repository_desc, 'Contributors_count': Contributors_count, 'Language_used': Language_used})\n"
   ]
  },
  {
   "cell_type": "code",
   "execution_count": 23,
   "id": "b8a84451",
   "metadata": {},
   "outputs": [
    {
     "data": {
      "text/html": [
       "<div>\n",
       "<style scoped>\n",
       "    .dataframe tbody tr th:only-of-type {\n",
       "        vertical-align: middle;\n",
       "    }\n",
       "\n",
       "    .dataframe tbody tr th {\n",
       "        vertical-align: top;\n",
       "    }\n",
       "\n",
       "    .dataframe thead th {\n",
       "        text-align: right;\n",
       "    }\n",
       "</style>\n",
       "<table border=\"1\" class=\"dataframe\">\n",
       "  <thead>\n",
       "    <tr style=\"text-align: right;\">\n",
       "      <th></th>\n",
       "      <th>Repository_title</th>\n",
       "      <th>Respository_desc</th>\n",
       "      <th>Contributors_count</th>\n",
       "      <th>Language_used</th>\n",
       "    </tr>\n",
       "  </thead>\n",
       "  <tbody>\n",
       "    <tr>\n",
       "      <th>0</th>\n",
       "      <td>plandex-ai / plandex</td>\n",
       "      <td>plandex-ai /</td>\n",
       "      <td>248</td>\n",
       "      <td>Go</td>\n",
       "    </tr>\n",
       "    <tr>\n",
       "      <th>1</th>\n",
       "      <td>HardhatChad / ore-cli</td>\n",
       "      <td>HardhatChad /</td>\n",
       "      <td>261</td>\n",
       "      <td>Rust</td>\n",
       "    </tr>\n",
       "    <tr>\n",
       "      <th>2</th>\n",
       "      <td>PKUFlyingPig / cs-self-learning</td>\n",
       "      <td>PKUFlyingPig /</td>\n",
       "      <td>5,858</td>\n",
       "      <td>HTML</td>\n",
       "    </tr>\n",
       "    <tr>\n",
       "      <th>3</th>\n",
       "      <td>HardhatChad / ore</td>\n",
       "      <td>HardhatChad /</td>\n",
       "      <td>87</td>\n",
       "      <td>Rust</td>\n",
       "    </tr>\n",
       "    <tr>\n",
       "      <th>4</th>\n",
       "      <td>AstroNvim / AstroNvim</td>\n",
       "      <td>AstroNvim /</td>\n",
       "      <td>870</td>\n",
       "      <td>Lua</td>\n",
       "    </tr>\n",
       "    <tr>\n",
       "      <th>5</th>\n",
       "      <td>freeCodeCamp / freeCodeCamp</td>\n",
       "      <td>freeCodeCamp /</td>\n",
       "      <td>35,114</td>\n",
       "      <td>TypeScript</td>\n",
       "    </tr>\n",
       "    <tr>\n",
       "      <th>6</th>\n",
       "      <td>EbookFoundation / free-programming-books</td>\n",
       "      <td>EbookFoundation /</td>\n",
       "      <td>59,618</td>\n",
       "      <td>Built by</td>\n",
       "    </tr>\n",
       "    <tr>\n",
       "      <th>7</th>\n",
       "      <td>public-apis / public-apis</td>\n",
       "      <td>public-apis /</td>\n",
       "      <td>31,545</td>\n",
       "      <td>Python</td>\n",
       "    </tr>\n",
       "    <tr>\n",
       "      <th>8</th>\n",
       "      <td>aurora-develop / aurora</td>\n",
       "      <td>aurora-develop /</td>\n",
       "      <td>356</td>\n",
       "      <td>Go</td>\n",
       "    </tr>\n",
       "    <tr>\n",
       "      <th>9</th>\n",
       "      <td>myshell-ai / JetMoE</td>\n",
       "      <td>myshell-ai /</td>\n",
       "      <td>28</td>\n",
       "      <td>Python</td>\n",
       "    </tr>\n",
       "    <tr>\n",
       "      <th>10</th>\n",
       "      <td>ixartz / SaaS-Boilerplate</td>\n",
       "      <td>ixartz /</td>\n",
       "      <td>166</td>\n",
       "      <td>TypeScript</td>\n",
       "    </tr>\n",
       "    <tr>\n",
       "      <th>11</th>\n",
       "      <td>dockur / windows</td>\n",
       "      <td>dockur /</td>\n",
       "      <td>820</td>\n",
       "      <td>Shell</td>\n",
       "    </tr>\n",
       "    <tr>\n",
       "      <th>12</th>\n",
       "      <td>kamranahmedse / developer-roadmap</td>\n",
       "      <td>kamranahmedse /</td>\n",
       "      <td>36,700</td>\n",
       "      <td>TypeScript</td>\n",
       "    </tr>\n",
       "    <tr>\n",
       "      <th>13</th>\n",
       "      <td>searxng / searxng</td>\n",
       "      <td>searxng /</td>\n",
       "      <td>934</td>\n",
       "      <td>Python</td>\n",
       "    </tr>\n",
       "    <tr>\n",
       "      <th>14</th>\n",
       "      <td>cloudflare / orange</td>\n",
       "      <td>cloudflare /</td>\n",
       "      <td>30</td>\n",
       "      <td>TypeScript</td>\n",
       "    </tr>\n",
       "    <tr>\n",
       "      <th>15</th>\n",
       "      <td>availproject / avail-light</td>\n",
       "      <td>availproject /</td>\n",
       "      <td>844</td>\n",
       "      <td>Rust</td>\n",
       "    </tr>\n",
       "    <tr>\n",
       "      <th>16</th>\n",
       "      <td>neovim / neovim</td>\n",
       "      <td>neovim /</td>\n",
       "      <td>5,228</td>\n",
       "      <td>Vim Script</td>\n",
       "    </tr>\n",
       "    <tr>\n",
       "      <th>17</th>\n",
       "      <td>availproject / avail</td>\n",
       "      <td>availproject /</td>\n",
       "      <td>394</td>\n",
       "      <td>Rust</td>\n",
       "    </tr>\n",
       "    <tr>\n",
       "      <th>18</th>\n",
       "      <td>ossu / computer-science</td>\n",
       "      <td>ossu /</td>\n",
       "      <td>20,297</td>\n",
       "      <td>Built by</td>\n",
       "    </tr>\n",
       "    <tr>\n",
       "      <th>19</th>\n",
       "      <td>FoundationVision / VAR</td>\n",
       "      <td>FoundationVision /</td>\n",
       "      <td>41</td>\n",
       "      <td>Python</td>\n",
       "    </tr>\n",
       "    <tr>\n",
       "      <th>20</th>\n",
       "      <td>pagefaultgames / pokerogue</td>\n",
       "      <td>pagefaultgames /</td>\n",
       "      <td>26</td>\n",
       "      <td>TypeScript</td>\n",
       "    </tr>\n",
       "    <tr>\n",
       "      <th>21</th>\n",
       "      <td>donnemartin / system-design-primer</td>\n",
       "      <td>donnemartin /</td>\n",
       "      <td>43,003</td>\n",
       "      <td>Python</td>\n",
       "    </tr>\n",
       "    <tr>\n",
       "      <th>22</th>\n",
       "      <td>refinedev / refine</td>\n",
       "      <td>refinedev /</td>\n",
       "      <td>1,741</td>\n",
       "      <td>TypeScript</td>\n",
       "    </tr>\n",
       "    <tr>\n",
       "      <th>23</th>\n",
       "      <td>jrouwe / JoltPhysics</td>\n",
       "      <td>jrouwe /</td>\n",
       "      <td>318</td>\n",
       "      <td>C++</td>\n",
       "    </tr>\n",
       "    <tr>\n",
       "      <th>24</th>\n",
       "      <td>logspace-ai / langflow</td>\n",
       "      <td>logspace-ai /</td>\n",
       "      <td>2,381</td>\n",
       "      <td>JavaScript</td>\n",
       "    </tr>\n",
       "  </tbody>\n",
       "</table>\n",
       "</div>"
      ],
      "text/plain": [
       "                            Repository_title    Respository_desc  \\\n",
       "0                       plandex-ai / plandex        plandex-ai /   \n",
       "1                      HardhatChad / ore-cli       HardhatChad /   \n",
       "2            PKUFlyingPig / cs-self-learning      PKUFlyingPig /   \n",
       "3                          HardhatChad / ore       HardhatChad /   \n",
       "4                      AstroNvim / AstroNvim         AstroNvim /   \n",
       "5                freeCodeCamp / freeCodeCamp      freeCodeCamp /   \n",
       "6   EbookFoundation / free-programming-books   EbookFoundation /   \n",
       "7                  public-apis / public-apis       public-apis /   \n",
       "8                    aurora-develop / aurora    aurora-develop /   \n",
       "9                        myshell-ai / JetMoE        myshell-ai /   \n",
       "10                 ixartz / SaaS-Boilerplate            ixartz /   \n",
       "11                          dockur / windows            dockur /   \n",
       "12         kamranahmedse / developer-roadmap     kamranahmedse /   \n",
       "13                         searxng / searxng           searxng /   \n",
       "14                       cloudflare / orange        cloudflare /   \n",
       "15                availproject / avail-light      availproject /   \n",
       "16                           neovim / neovim            neovim /   \n",
       "17                      availproject / avail      availproject /   \n",
       "18                   ossu / computer-science              ossu /   \n",
       "19                    FoundationVision / VAR  FoundationVision /   \n",
       "20                pagefaultgames / pokerogue    pagefaultgames /   \n",
       "21        donnemartin / system-design-primer       donnemartin /   \n",
       "22                        refinedev / refine         refinedev /   \n",
       "23                      jrouwe / JoltPhysics            jrouwe /   \n",
       "24                    logspace-ai / langflow       logspace-ai /   \n",
       "\n",
       "   Contributors_count Language_used  \n",
       "0                 248            Go  \n",
       "1                 261          Rust  \n",
       "2               5,858          HTML  \n",
       "3                  87          Rust  \n",
       "4                 870           Lua  \n",
       "5              35,114    TypeScript  \n",
       "6              59,618      Built by  \n",
       "7              31,545        Python  \n",
       "8                 356            Go  \n",
       "9                  28        Python  \n",
       "10                166    TypeScript  \n",
       "11                820         Shell  \n",
       "12             36,700    TypeScript  \n",
       "13                934        Python  \n",
       "14                 30    TypeScript  \n",
       "15                844          Rust  \n",
       "16              5,228    Vim Script  \n",
       "17                394          Rust  \n",
       "18             20,297      Built by  \n",
       "19                 41        Python  \n",
       "20                 26    TypeScript  \n",
       "21             43,003        Python  \n",
       "22              1,741    TypeScript  \n",
       "23                318           C++  \n",
       "24              2,381    JavaScript  "
      ]
     },
     "execution_count": 23,
     "metadata": {},
     "output_type": "execute_result"
    }
   ],
   "source": [
    "df"
   ]
  },
  {
   "cell_type": "code",
   "execution_count": null,
   "id": "7e8db97d",
   "metadata": {},
   "outputs": [],
   "source": []
  }
 ],
 "metadata": {
  "kernelspec": {
   "display_name": "Python 3 (ipykernel)",
   "language": "python",
   "name": "python3"
  },
  "language_info": {
   "codemirror_mode": {
    "name": "ipython",
    "version": 3
   },
   "file_extension": ".py",
   "mimetype": "text/x-python",
   "name": "python",
   "nbconvert_exporter": "python",
   "pygments_lexer": "ipython3",
   "version": "3.11.4"
  }
 },
 "nbformat": 4,
 "nbformat_minor": 5
}
