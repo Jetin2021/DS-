{
 "cells": [
  {
   "cell_type": "code",
   "execution_count": 1,
   "id": "c953e120",
   "metadata": {},
   "outputs": [
    {
     "name": "stdout",
     "output_type": "stream",
     "text": [
      "Requirement already satisfied: bs4 in c:\\users\\divya rekha\\anaconda3\\lib\\site-packages (0.0.2)\n",
      "Requirement already satisfied: beautifulsoup4 in c:\\users\\divya rekha\\anaconda3\\lib\\site-packages (from bs4) (4.12.2)\n",
      "Requirement already satisfied: soupsieve>1.2 in c:\\users\\divya rekha\\anaconda3\\lib\\site-packages (from beautifulsoup4->bs4) (2.4)\n",
      "Requirement already satisfied: requests in c:\\users\\divya rekha\\anaconda3\\lib\\site-packages (2.31.0)\n",
      "Requirement already satisfied: charset-normalizer<4,>=2 in c:\\users\\divya rekha\\anaconda3\\lib\\site-packages (from requests) (2.0.4)\n",
      "Requirement already satisfied: idna<4,>=2.5 in c:\\users\\divya rekha\\anaconda3\\lib\\site-packages (from requests) (3.4)\n",
      "Requirement already satisfied: urllib3<3,>=1.21.1 in c:\\users\\divya rekha\\anaconda3\\lib\\site-packages (from requests) (1.26.16)\n",
      "Requirement already satisfied: certifi>=2017.4.17 in c:\\users\\divya rekha\\anaconda3\\lib\\site-packages (from requests) (2023.7.22)\n"
     ]
    }
   ],
   "source": [
    "!pip install bs4\n",
    "!pip install requests"
   ]
  },
  {
   "cell_type": "code",
   "execution_count": 3,
   "id": "11f8741a",
   "metadata": {},
   "outputs": [],
   "source": [
    "from bs4 import BeautifulSoup\n",
    "import requests"
   ]
  },
  {
   "cell_type": "code",
   "execution_count": 12,
   "id": "ca291217",
   "metadata": {},
   "outputs": [],
   "source": [
    "page = requests.get('https://www.imdb.com/chart/top')"
   ]
  },
  {
   "cell_type": "code",
   "execution_count": 14,
   "id": "2c0e3124",
   "metadata": {},
   "outputs": [
    {
     "data": {
      "text/plain": [
       "<Response [404]>"
      ]
     },
     "execution_count": 14,
     "metadata": {},
     "output_type": "execute_result"
    }
   ],
   "source": [
    "page"
   ]
  },
  {
   "cell_type": "code",
   "execution_count": 15,
   "id": "8588961d",
   "metadata": {},
   "outputs": [],
   "source": [
    "soup = BeautifulSoup(page.content)"
   ]
  },
  {
   "cell_type": "code",
   "execution_count": 16,
   "id": "11e47d94",
   "metadata": {},
   "outputs": [
    {
     "data": {
      "text/plain": [
       "<!DOCTYPE html>\n",
       "<html lang=\"en\">\n",
       "<head>\n",
       "<meta charset=\"utf-8\"/>\n",
       "<title>404 Error - IMDb</title>\n",
       "<style>\n",
       "html, body {\n",
       "  height: 100%;\n",
       "}\n",
       "body {\n",
       "  margin: auto;\n",
       "  width: 1008px;\n",
       "  background-color: #D4D9DD;\n",
       "  font-family: Verdana, Arial, sans-serif;\n",
       "}\n",
       "a {\n",
       "  text-decoration: none;\n",
       "}\n",
       "a:hover {\n",
       "  text-decoration: underline;\n",
       "}\n",
       "a:link, a:hover, a:visited {\n",
       "  color: #136CB2;\n",
       "}\n",
       "a:active {\n",
       "  color: #E7BE00;\n",
       "}\n",
       "#error {\n",
       "  height: 100%;\n",
       "  background-color: white;\n",
       "  border-left: 1px solid #999999;\n",
       "  border-right: 1px solid #999999;\n",
       "  box-shadow: 0 0 5px 5px #C5CACD;\n",
       "}\n",
       ".error_message {\n",
       "  color: #999999;\n",
       "  font-size: 17.5px;\n",
       "  padding: 30px 70px 20px;\n",
       "}\n",
       ".error_bubble {\n",
       "  font-family: Arial, helvetica, sans-serif;\n",
       "  font-weight: bold;\n",
       "  border-radius: 8px;\n",
       "  -moz-border-radius: 8px;\n",
       "  margin: 0 70px 0 70px;\n",
       "  padding: 50px;\n",
       "}\n",
       ".error_bubble div {\n",
       "  display: inline-block;\n",
       "  vertical-align: middle;\n",
       "}\n",
       ".error_quote {\n",
       "  color: #FFFFFF;\n",
       "  font-size: 30px;\n",
       "  line-height: 1.35em;\n",
       "  padding-left: 50px;\n",
       "  width: 500px;\n",
       "}\n",
       ".error_code {\n",
       "  font-size: 100px;\n",
       "  line-height: 50px;\n",
       "  margin-top:8px\n",
       "}\n",
       ".error_arrow {\n",
       "  border-color: #DECA16 transparent transparent transparent;\n",
       "  border-style: solid;\n",
       "  border-width: 21px 0px 0px 32px;\n",
       "  height: 0;\n",
       "  left: 700px;\n",
       "  line-height: 0;\n",
       "  position: relative;\n",
       "  top: -1px;\n",
       "  width: 0;\n",
       "}\n",
       ".error_code > span {\n",
       "  font-size: 50px;\n",
       "}\n",
       ".error_attrib {\n",
       "  color: #999999;\n",
       "  float: right;\n",
       "  font-size: 14px;\n",
       "  font-style: italic;\n",
       "  padding: 10px 70px 36px;\n",
       "}\n",
       ".error_code_403 .error_bubble,\n",
       ".error_code_404 .error_bubble,\n",
       ".error_code_400 .error_bubble,\n",
       ".error_code_409 .error_bubble  {\n",
       "  background: none repeat scroll 0% 0% #DECA16;\n",
       "  border: 1px solid #DECA16;\n",
       "}\n",
       ".error_code_403 .error_code,\n",
       ".error_code_404 .error_code,\n",
       ".error_code_400 .error_code,\n",
       ".error_code_409 .error_code {\n",
       "  color: #BFAD13;\n",
       "}\n",
       ".error_code_500 .error_bubble {\n",
       "  background: none repeat scroll 0% 0% #EDCA24;\n",
       "  border: 1px solid #EDCA24;\n",
       "}\n",
       ".error_code_500 .error_code {\n",
       "  color: #CCAD1F;\n",
       "}\n",
       ".error_code_500 .error_arrow{\n",
       "  border-color: #EDCA24 transparent transparent transparent;\n",
       "}\n",
       ".error_code_503 .error_bubble {\n",
       "  background: none repeat scroll 0% 0% #2E9CEA;\n",
       "  border: 1px solid #2E9CEA;\n",
       "}\n",
       ".error_code_503 .error_code {\n",
       "  color: #2173B2;\n",
       "}\n",
       ".error_code_503 .error_arrow {\n",
       "  border-color: #2E9CEA transparent transparent transparent;\n",
       "}\n",
       "a.btn {\n",
       "  background-repeat: repeat-x; \n",
       "  background-color: #ECE2C6;\n",
       "  background-image: linear-gradient(rgba(255,255,255,.8) 5%, rgba(255,255,255,0.0) 70%, rgba(255,255,255,0.8) 100%); \n",
       "  background-image: -moz-linear-gradient(rgba(255,255,255,.8) 5%, rgba(255,255,255,0.0) 70%, rgba(255,255,255,0.8) 100%); \n",
       "  background-image: -webkit-linear-gradient(rgba(255,255,255,.8) 5%, rgba(255,255,255,0.0) 70%, rgba(255,255,255,0.8) 100%); \n",
       "  background-image: -ms-linear-gradient(rgba(255,255,255,.8) 5%, rgba(255,255,255,0.0) 70%, rgba(255,255,255,0.8) 100%); \n",
       "  border-color: #E0E0E0 #C0C0C0 #C0C0C0 #E0E0E0;\n",
       "  border-radius: 3px 3px 3px 3px;\n",
       "  border-style: solid;\n",
       "  border-width: 1px;\n",
       "  color: #000000;\n",
       "  cursor: pointer;\n",
       "  float: right;\n",
       "  margin-right: 70px;\n",
       "  margin-top: 26px;\n",
       "  padding: 0.3em 0.6em;\n",
       "  text-decoration: none;\n",
       "}\n",
       "a.btn:hover {\n",
       "  background-image: none;\n",
       "  border-color: #E6B800;\n",
       "}\n",
       ".clear {\n",
       "  clear: both;\n",
       "}\n",
       "  </style>\n",
       "</head>\n",
       "<body>\n",
       "<div class=\"error_code_404\" id=\"error\">\n",
       "<div class=\"error_message\">\n",
       "        The requested URL was not found on our server.\n",
       "        <a href=\"/\">Go to the homepage</a> »\n",
       "    </div>\n",
       "<div class=\"error_bubble\">\n",
       "<div class=\"error_code\">404<br/><span>ERROR</span></div>\n",
       "<div class=\"error_quote\">Yeah... I'm gonna need you to go ahead and find another page.</div>\n",
       "</div>\n",
       "<div class=\"error_arrow\"></div>\n",
       "<div class=\"error_attrib\">\n",
       "<span>Bill Lumbergh, </span><a href=\"/title/tt0151804/\">Office Space (1999)</a>\n",
       "</div>\n",
       "<div class=\"clear\"></div>\n",
       "</div>\n",
       "<!-- The next level -->\n",
       "</body>\n",
       "</html>"
      ]
     },
     "execution_count": 16,
     "metadata": {},
     "output_type": "execute_result"
    }
   ],
   "source": [
    "soup"
   ]
  },
  {
   "cell_type": "code",
   "execution_count": 36,
   "id": "d3c451b9",
   "metadata": {},
   "outputs": [],
   "source": [
    "movie_name = soup.find('h3',class_=\"ipc-title__text\")"
   ]
  },
  {
   "cell_type": "code",
   "execution_count": 38,
   "id": "c1f014a1",
   "metadata": {},
   "outputs": [],
   "source": [
    "movie_name"
   ]
  },
  {
   "cell_type": "code",
   "execution_count": 39,
   "id": "c26837a6",
   "metadata": {},
   "outputs": [],
   "source": [
    "movie_rating  = soup.find('span',class_=\"ipc-rating-star--rate\")"
   ]
  },
  {
   "cell_type": "code",
   "execution_count": 40,
   "id": "87cc1802",
   "metadata": {},
   "outputs": [],
   "source": [
    "movie_rating"
   ]
  },
  {
   "cell_type": "code",
   "execution_count": 43,
   "id": "2f4b8aec",
   "metadata": {},
   "outputs": [
    {
     "ename": "SyntaxError",
     "evalue": "invalid syntax (1630205751.py, line 1)",
     "output_type": "error",
     "traceback": [
      "\u001b[1;36m  Cell \u001b[1;32mIn[43], line 1\u001b[1;36m\u001b[0m\n\u001b[1;33m    year of release = soup.find ('span',class_=\"title-metadata-item\")\u001b[0m\n\u001b[1;37m         ^\u001b[0m\n\u001b[1;31mSyntaxError\u001b[0m\u001b[1;31m:\u001b[0m invalid syntax\n"
     ]
    }
   ],
   "source": [
    "year of release = soup.find ('span',class_=\"title-metadata-item\")"
   ]
  },
  {
   "cell_type": "code",
   "execution_count": null,
   "id": "ef60819e",
   "metadata": {},
   "outputs": [],
   "source": []
  }
 ],
 "metadata": {
  "kernelspec": {
   "display_name": "Python 3 (ipykernel)",
   "language": "python",
   "name": "python3"
  },
  "language_info": {
   "codemirror_mode": {
    "name": "ipython",
    "version": 3
   },
   "file_extension": ".py",
   "mimetype": "text/x-python",
   "name": "python",
   "nbconvert_exporter": "python",
   "pygments_lexer": "ipython3",
   "version": "3.11.4"
  }
 },
 "nbformat": 4,
 "nbformat_minor": 5
}
