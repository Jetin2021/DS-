{
 "cells": [
  {
   "cell_type": "code",
   "execution_count": 1,
   "id": "2a5bcc5f",
   "metadata": {},
   "outputs": [
    {
     "name": "stdout",
     "output_type": "stream",
     "text": [
      "Requirement already satisfied: selenium in c:\\users\\divya rekha\\anaconda3\\lib\\site-packages (4.18.1)\n",
      "Requirement already satisfied: urllib3[socks]<3,>=1.26 in c:\\users\\divya rekha\\anaconda3\\lib\\site-packages (from selenium) (1.26.16)\n",
      "Requirement already satisfied: trio~=0.17 in c:\\users\\divya rekha\\anaconda3\\lib\\site-packages (from selenium) (0.24.0)\n",
      "Requirement already satisfied: trio-websocket~=0.9 in c:\\users\\divya rekha\\anaconda3\\lib\\site-packages (from selenium) (0.11.1)\n",
      "Requirement already satisfied: certifi>=2021.10.8 in c:\\users\\divya rekha\\anaconda3\\lib\\site-packages (from selenium) (2023.7.22)\n",
      "Requirement already satisfied: typing_extensions>=4.9.0 in c:\\users\\divya rekha\\anaconda3\\lib\\site-packages (from selenium) (4.10.0)\n",
      "Requirement already satisfied: attrs>=20.1.0 in c:\\users\\divya rekha\\anaconda3\\lib\\site-packages (from trio~=0.17->selenium) (22.1.0)\n",
      "Requirement already satisfied: sortedcontainers in c:\\users\\divya rekha\\anaconda3\\lib\\site-packages (from trio~=0.17->selenium) (2.4.0)\n",
      "Requirement already satisfied: idna in c:\\users\\divya rekha\\anaconda3\\lib\\site-packages (from trio~=0.17->selenium) (3.4)\n",
      "Requirement already satisfied: outcome in c:\\users\\divya rekha\\anaconda3\\lib\\site-packages (from trio~=0.17->selenium) (1.3.0.post0)\n",
      "Requirement already satisfied: sniffio>=1.3.0 in c:\\users\\divya rekha\\anaconda3\\lib\\site-packages (from trio~=0.17->selenium) (1.3.1)\n",
      "Requirement already satisfied: cffi>=1.14 in c:\\users\\divya rekha\\anaconda3\\lib\\site-packages (from trio~=0.17->selenium) (1.15.1)\n",
      "Requirement already satisfied: wsproto>=0.14 in c:\\users\\divya rekha\\anaconda3\\lib\\site-packages (from trio-websocket~=0.9->selenium) (1.2.0)\n",
      "Requirement already satisfied: PySocks!=1.5.7,<2.0,>=1.5.6 in c:\\users\\divya rekha\\anaconda3\\lib\\site-packages (from urllib3[socks]<3,>=1.26->selenium) (1.7.1)\n",
      "Requirement already satisfied: pycparser in c:\\users\\divya rekha\\anaconda3\\lib\\site-packages (from cffi>=1.14->trio~=0.17->selenium) (2.21)\n",
      "Requirement already satisfied: h11<1,>=0.9.0 in c:\\users\\divya rekha\\anaconda3\\lib\\site-packages (from wsproto>=0.14->trio-websocket~=0.9->selenium) (0.14.0)\n"
     ]
    }
   ],
   "source": [
    "!pip install selenium"
   ]
  },
  {
   "cell_type": "code",
   "execution_count": 2,
   "id": "be8a4ac0",
   "metadata": {},
   "outputs": [],
   "source": [
    "import selenium\n",
    "import pandas as pd\n",
    "from selenium import webdriver\n",
    "import warnings\n",
    "from selenium.webdriver.common.by import By"
   ]
  },
  {
   "cell_type": "code",
   "execution_count": 3,
   "id": "82d744f2",
   "metadata": {},
   "outputs": [],
   "source": [
    "driver = webdriver.Chrome()"
   ]
  },
  {
   "cell_type": "code",
   "execution_count": 4,
   "id": "6a85ed35",
   "metadata": {},
   "outputs": [],
   "source": [
    "driver.get (\"https://www.shine.com/\")"
   ]
  },
  {
   "cell_type": "code",
   "execution_count": 6,
   "id": "75d4a482",
   "metadata": {},
   "outputs": [],
   "source": [
    "designation=driver.find_element(By.CLASS_NAME,\"form-control\")\n",
    "designation.send_keys('Data Analyst')\n"
   ]
  },
  {
   "cell_type": "code",
   "execution_count": 11,
   "id": "1d027333",
   "metadata": {},
   "outputs": [],
   "source": [
    "location=driver.find_element(By.XPATH, \"/html/body/div/div[4]/div/div[2]/div[2]/div/form/div/div[1]/ul/li[2]/div/input\")\n",
    "location.send_keys('Bangalore')"
   ]
  },
  {
   "cell_type": "code",
   "execution_count": 13,
   "id": "411da437",
   "metadata": {},
   "outputs": [],
   "source": [
    "search=driver.find_element(By.CLASS_NAME,\"searchForm_btnWrap_advance__VYBHN\")\n",
    "search.click()"
   ]
  },
  {
   "cell_type": "code",
   "execution_count": 14,
   "id": "cb6b7c2d",
   "metadata": {},
   "outputs": [],
   "source": [
    "job_title=[][:10]\n",
    "job_location=[][:10]\n",
    "company_name=[][:10]\n",
    "experience_required=[][:10]"
   ]
  },
  {
   "cell_type": "code",
   "execution_count": 15,
   "id": "dbca31b2",
   "metadata": {},
   "outputs": [],
   "source": [
    "title_tags=driver.find_elements(By.XPATH, '//h2[@itemprop=\"name\"]/a') \n",
    "for i in title_tags:\n",
    "    title=i.text\n",
    "    job_title.append(title)"
   ]
  },
  {
   "cell_type": "code",
   "execution_count": 16,
   "id": "75992c05",
   "metadata": {},
   "outputs": [
    {
     "data": {
      "text/plain": [
       "['Data Analyst',\n",
       " 'Clinical Data Analyst',\n",
       " 'Data Analyst',\n",
       " 'Hiring For Data Analyst',\n",
       " 'Clinical Data Analyst',\n",
       " 'Lead Data Analyst',\n",
       " 'Data Analyst',\n",
       " 'Technical Data Architect',\n",
       " 'Oracle Utilities (customer care & Billing) CC&B Busines ...',\n",
       " 'Clinical Data Associate']"
      ]
     },
     "execution_count": 16,
     "metadata": {},
     "output_type": "execute_result"
    }
   ],
   "source": [
    "job_title[:10]"
   ]
  },
  {
   "cell_type": "code",
   "execution_count": 17,
   "id": "56220ecd",
   "metadata": {},
   "outputs": [],
   "source": [
    "location_tags=driver.find_elements(By.XPATH,'//div[@class=\" jobCard_jobCard_lists_item__YxRkV jobCard_locationIcon__zrWt2\"]')\n",
    "for i in location_tags:\n",
    "    location=i.text\n",
    "    job_location.append(location)"
   ]
  },
  {
   "cell_type": "code",
   "execution_count": 23,
   "id": "8a330753",
   "metadata": {},
   "outputs": [
    {
     "data": {
      "text/plain": [
       "['Bangalore\\n+9',\n",
       " 'Bangalore\\n+6',\n",
       " 'Bangalore\\n+9',\n",
       " 'Bangalore\\n+12',\n",
       " 'Bangalore\\n+6',\n",
       " 'Bangalore',\n",
       " 'Bangalore\\n+3',\n",
       " 'Bangalore',\n",
       " 'Bangalore\\n+2',\n",
       " 'Bangalore\\n+6']"
      ]
     },
     "execution_count": 23,
     "metadata": {},
     "output_type": "execute_result"
    }
   ],
   "source": [
    "job_location[:10]\n"
   ]
  },
  {
   "cell_type": "code",
   "execution_count": 24,
   "id": "32be589f",
   "metadata": {},
   "outputs": [],
   "source": [
    "company_tags=driver.find_elements(By.XPATH,'//div[@class=\"jobCard_jobCard_cName__mYnow\"]/span')\n",
    "for i in company_tags:\n",
    "    company=i.text\n",
    "    company_name.append(company)"
   ]
  },
  {
   "cell_type": "code",
   "execution_count": 25,
   "id": "cda64455",
   "metadata": {},
   "outputs": [
    {
     "data": {
      "text/plain": [
       "['sahast sales corporation',\n",
       " 'techno endura',\n",
       " 'sahast sales corporation',\n",
       " 'radhika enterprises',\n",
       " 'techno endura',\n",
       " 'ara resources private limited',\n",
       " 'diraa hr services hiring for mncs',\n",
       " 'uprighthc solutions private limited',\n",
       " 'ltimindtree limited',\n",
       " 'techno endura']"
      ]
     },
     "execution_count": 25,
     "metadata": {},
     "output_type": "execute_result"
    }
   ],
   "source": [
    "company_name[:10]"
   ]
  },
  {
   "cell_type": "code",
   "execution_count": 26,
   "id": "4e72ba17",
   "metadata": {},
   "outputs": [],
   "source": [
    "experience_tags=driver.find_elements(By.XPATH, '//div[@class=\" jobCard_jobCard_lists_item__YxRkV jobCard_jobIcon__3FB1t\"]')\n",
    "for i in experience_tags:\n",
    "    exp=i.text\n",
    "    experience_required.append(exp)"
   ]
  },
  {
   "cell_type": "code",
   "execution_count": 27,
   "id": "7114e2c5",
   "metadata": {},
   "outputs": [
    {
     "data": {
      "text/plain": [
       "['12 to 22 Yrs',\n",
       " '0 to 1 Yr',\n",
       " '12 to 22 Yrs',\n",
       " '0 to 4 Yrs',\n",
       " '0 to 1 Yr',\n",
       " '4 to 9 Yrs',\n",
       " '0 to 1 Yr',\n",
       " '10 to 20 Yrs',\n",
       " '5 to 9 Yrs',\n",
       " '0 to 1 Yr']"
      ]
     },
     "execution_count": 27,
     "metadata": {},
     "output_type": "execute_result"
    }
   ],
   "source": [
    "experience_required[:10]"
   ]
  },
  {
   "cell_type": "markdown",
   "id": "ea673f85",
   "metadata": {},
   "source": [
    "print(len(job_title[:10]),len(job_location[:10]),len(company_name[:10]),len(experience_required[:10]))"
   ]
  },
  {
   "cell_type": "code",
   "execution_count": 29,
   "id": "16fdb7a9",
   "metadata": {},
   "outputs": [],
   "source": [
    "import pandas as pd\n",
    "df=pd.DataFrame({'Title':job_title[:10], 'Location': job_location[:10], 'Company_name': company_name[:10], 'Experience': experience_required[:10]})"
   ]
  },
  {
   "cell_type": "code",
   "execution_count": 30,
   "id": "ba0539eb",
   "metadata": {},
   "outputs": [
    {
     "data": {
      "text/html": [
       "<div>\n",
       "<style scoped>\n",
       "    .dataframe tbody tr th:only-of-type {\n",
       "        vertical-align: middle;\n",
       "    }\n",
       "\n",
       "    .dataframe tbody tr th {\n",
       "        vertical-align: top;\n",
       "    }\n",
       "\n",
       "    .dataframe thead th {\n",
       "        text-align: right;\n",
       "    }\n",
       "</style>\n",
       "<table border=\"1\" class=\"dataframe\">\n",
       "  <thead>\n",
       "    <tr style=\"text-align: right;\">\n",
       "      <th></th>\n",
       "      <th>Title</th>\n",
       "      <th>Location</th>\n",
       "      <th>Company_name</th>\n",
       "      <th>Experience</th>\n",
       "    </tr>\n",
       "  </thead>\n",
       "  <tbody>\n",
       "    <tr>\n",
       "      <th>0</th>\n",
       "      <td>Data Analyst</td>\n",
       "      <td>Bangalore\\n+9</td>\n",
       "      <td>sahast sales corporation</td>\n",
       "      <td>12 to 22 Yrs</td>\n",
       "    </tr>\n",
       "    <tr>\n",
       "      <th>1</th>\n",
       "      <td>Clinical Data Analyst</td>\n",
       "      <td>Bangalore\\n+6</td>\n",
       "      <td>techno endura</td>\n",
       "      <td>0 to 1 Yr</td>\n",
       "    </tr>\n",
       "    <tr>\n",
       "      <th>2</th>\n",
       "      <td>Data Analyst</td>\n",
       "      <td>Bangalore\\n+9</td>\n",
       "      <td>sahast sales corporation</td>\n",
       "      <td>12 to 22 Yrs</td>\n",
       "    </tr>\n",
       "    <tr>\n",
       "      <th>3</th>\n",
       "      <td>Hiring For Data Analyst</td>\n",
       "      <td>Bangalore\\n+12</td>\n",
       "      <td>radhika enterprises</td>\n",
       "      <td>0 to 4 Yrs</td>\n",
       "    </tr>\n",
       "    <tr>\n",
       "      <th>4</th>\n",
       "      <td>Clinical Data Analyst</td>\n",
       "      <td>Bangalore\\n+6</td>\n",
       "      <td>techno endura</td>\n",
       "      <td>0 to 1 Yr</td>\n",
       "    </tr>\n",
       "    <tr>\n",
       "      <th>5</th>\n",
       "      <td>Lead Data Analyst</td>\n",
       "      <td>Bangalore</td>\n",
       "      <td>ara resources private limited</td>\n",
       "      <td>4 to 9 Yrs</td>\n",
       "    </tr>\n",
       "    <tr>\n",
       "      <th>6</th>\n",
       "      <td>Data Analyst</td>\n",
       "      <td>Bangalore\\n+3</td>\n",
       "      <td>diraa hr services hiring for mncs</td>\n",
       "      <td>0 to 1 Yr</td>\n",
       "    </tr>\n",
       "    <tr>\n",
       "      <th>7</th>\n",
       "      <td>Technical Data Architect</td>\n",
       "      <td>Bangalore</td>\n",
       "      <td>uprighthc solutions private limited</td>\n",
       "      <td>10 to 20 Yrs</td>\n",
       "    </tr>\n",
       "    <tr>\n",
       "      <th>8</th>\n",
       "      <td>Oracle Utilities (customer care &amp; Billing) CC&amp;...</td>\n",
       "      <td>Bangalore\\n+2</td>\n",
       "      <td>ltimindtree limited</td>\n",
       "      <td>5 to 9 Yrs</td>\n",
       "    </tr>\n",
       "    <tr>\n",
       "      <th>9</th>\n",
       "      <td>Clinical Data Associate</td>\n",
       "      <td>Bangalore\\n+6</td>\n",
       "      <td>techno endura</td>\n",
       "      <td>0 to 1 Yr</td>\n",
       "    </tr>\n",
       "  </tbody>\n",
       "</table>\n",
       "</div>"
      ],
      "text/plain": [
       "                                               Title        Location  \\\n",
       "0                                       Data Analyst   Bangalore\\n+9   \n",
       "1                              Clinical Data Analyst   Bangalore\\n+6   \n",
       "2                                       Data Analyst   Bangalore\\n+9   \n",
       "3                            Hiring For Data Analyst  Bangalore\\n+12   \n",
       "4                              Clinical Data Analyst   Bangalore\\n+6   \n",
       "5                                  Lead Data Analyst       Bangalore   \n",
       "6                                       Data Analyst   Bangalore\\n+3   \n",
       "7                           Technical Data Architect       Bangalore   \n",
       "8  Oracle Utilities (customer care & Billing) CC&...   Bangalore\\n+2   \n",
       "9                            Clinical Data Associate   Bangalore\\n+6   \n",
       "\n",
       "                          Company_name    Experience  \n",
       "0             sahast sales corporation  12 to 22 Yrs  \n",
       "1                        techno endura     0 to 1 Yr  \n",
       "2             sahast sales corporation  12 to 22 Yrs  \n",
       "3                  radhika enterprises    0 to 4 Yrs  \n",
       "4                        techno endura     0 to 1 Yr  \n",
       "5        ara resources private limited    4 to 9 Yrs  \n",
       "6    diraa hr services hiring for mncs     0 to 1 Yr  \n",
       "7  uprighthc solutions private limited  10 to 20 Yrs  \n",
       "8                  ltimindtree limited    5 to 9 Yrs  \n",
       "9                        techno endura     0 to 1 Yr  "
      ]
     },
     "execution_count": 30,
     "metadata": {},
     "output_type": "execute_result"
    }
   ],
   "source": [
    "df"
   ]
  },
  {
   "cell_type": "code",
   "execution_count": null,
   "id": "6b81c061",
   "metadata": {},
   "outputs": [],
   "source": []
  }
 ],
 "metadata": {
  "kernelspec": {
   "display_name": "Python 3 (ipykernel)",
   "language": "python",
   "name": "python3"
  },
  "language_info": {
   "codemirror_mode": {
    "name": "ipython",
    "version": 3
   },
   "file_extension": ".py",
   "mimetype": "text/x-python",
   "name": "python",
   "nbconvert_exporter": "python",
   "pygments_lexer": "ipython3",
   "version": "3.11.4"
  }
 },
 "nbformat": 4,
 "nbformat_minor": 5
}
