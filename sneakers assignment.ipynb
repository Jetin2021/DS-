{
 "cells": [
  {
   "cell_type": "code",
   "execution_count": 1,
   "id": "70c98618",
   "metadata": {},
   "outputs": [
    {
     "name": "stdout",
     "output_type": "stream",
     "text": [
      "Requirement already satisfied: selenium in c:\\users\\divya rekha\\anaconda3\\lib\\site-packages (4.18.1)\n",
      "Requirement already satisfied: urllib3[socks]<3,>=1.26 in c:\\users\\divya rekha\\anaconda3\\lib\\site-packages (from selenium) (1.26.16)\n",
      "Requirement already satisfied: trio~=0.17 in c:\\users\\divya rekha\\anaconda3\\lib\\site-packages (from selenium) (0.24.0)\n",
      "Requirement already satisfied: trio-websocket~=0.9 in c:\\users\\divya rekha\\anaconda3\\lib\\site-packages (from selenium) (0.11.1)\n",
      "Requirement already satisfied: certifi>=2021.10.8 in c:\\users\\divya rekha\\anaconda3\\lib\\site-packages (from selenium) (2023.7.22)\n",
      "Requirement already satisfied: typing_extensions>=4.9.0 in c:\\users\\divya rekha\\anaconda3\\lib\\site-packages (from selenium) (4.10.0)\n",
      "Requirement already satisfied: attrs>=20.1.0 in c:\\users\\divya rekha\\anaconda3\\lib\\site-packages (from trio~=0.17->selenium) (22.1.0)\n",
      "Requirement already satisfied: sortedcontainers in c:\\users\\divya rekha\\anaconda3\\lib\\site-packages (from trio~=0.17->selenium) (2.4.0)\n",
      "Requirement already satisfied: idna in c:\\users\\divya rekha\\anaconda3\\lib\\site-packages (from trio~=0.17->selenium) (3.4)\n",
      "Requirement already satisfied: outcome in c:\\users\\divya rekha\\anaconda3\\lib\\site-packages (from trio~=0.17->selenium) (1.3.0.post0)\n",
      "Requirement already satisfied: sniffio>=1.3.0 in c:\\users\\divya rekha\\anaconda3\\lib\\site-packages (from trio~=0.17->selenium) (1.3.1)\n",
      "Requirement already satisfied: cffi>=1.14 in c:\\users\\divya rekha\\anaconda3\\lib\\site-packages (from trio~=0.17->selenium) (1.15.1)\n",
      "Requirement already satisfied: wsproto>=0.14 in c:\\users\\divya rekha\\anaconda3\\lib\\site-packages (from trio-websocket~=0.9->selenium) (1.2.0)\n",
      "Requirement already satisfied: PySocks!=1.5.7,<2.0,>=1.5.6 in c:\\users\\divya rekha\\anaconda3\\lib\\site-packages (from urllib3[socks]<3,>=1.26->selenium) (1.7.1)\n",
      "Requirement already satisfied: pycparser in c:\\users\\divya rekha\\anaconda3\\lib\\site-packages (from cffi>=1.14->trio~=0.17->selenium) (2.21)\n",
      "Requirement already satisfied: h11<1,>=0.9.0 in c:\\users\\divya rekha\\anaconda3\\lib\\site-packages (from wsproto>=0.14->trio-websocket~=0.9->selenium) (0.14.0)\n"
     ]
    }
   ],
   "source": [
    "!pip install selenium"
   ]
  },
  {
   "cell_type": "code",
   "execution_count": 2,
   "id": "4eda722d",
   "metadata": {},
   "outputs": [],
   "source": [
    "import selenium\n",
    "import pandas as pd\n",
    "from selenium import webdriver\n",
    "import warnings\n",
    "warnings.filterwarnings('ignore')\n",
    "from selenium.webdriver.common.by import By"
   ]
  },
  {
   "cell_type": "code",
   "execution_count": 3,
   "id": "80271602",
   "metadata": {},
   "outputs": [],
   "source": [
    "driver = webdriver.Chrome()"
   ]
  },
  {
   "cell_type": "code",
   "execution_count": 4,
   "id": "662774af",
   "metadata": {},
   "outputs": [],
   "source": [
    "driver.get (\"https://www.flipkart.com/\")"
   ]
  },
  {
   "cell_type": "code",
   "execution_count": 5,
   "id": "c308ea7e",
   "metadata": {},
   "outputs": [],
   "source": [
    "search_s=driver.find_element(By.XPATH, '//input[@type=\"text\"]')\n",
    "search_s.send_keys('sneakers')\n"
   ]
  },
  {
   "cell_type": "code",
   "execution_count": 6,
   "id": "31f9d175",
   "metadata": {},
   "outputs": [],
   "source": [
    "search_btn=driver.find_element(By.CLASS_NAME,\"_2iLD__\")      \n",
    "search_btn.click()"
   ]
  },
  {
   "cell_type": "code",
   "execution_count": 7,
   "id": "4fe42c51",
   "metadata": {},
   "outputs": [],
   "source": [
    "Brand_name=[]\n",
    "Product_price=[]\n",
    "Product_desc=[]\n"
   ]
  },
  {
   "cell_type": "code",
   "execution_count": 8,
   "id": "afeb637e",
   "metadata": {},
   "outputs": [],
   "source": [
    "Brand_name_tags=driver.find_elements(By.XPATH, '//div[@class=\"_2WkVRV\"]')\n",
    "for i in Brand_name_tags:\n",
    "    Brand=i.text\n",
    "    Brand_name.append(Brand)"
   ]
  },
  {
   "cell_type": "code",
   "execution_count": 9,
   "id": "6536312b",
   "metadata": {},
   "outputs": [
    {
     "data": {
      "text/plain": [
       "['BRUTON',\n",
       " 'asian',\n",
       " 'URBANBOX',\n",
       " 'Deals4you',\n",
       " 'RED TAPE',\n",
       " 'PUMA',\n",
       " 'asian',\n",
       " 'MOZAFIA',\n",
       " 'TR',\n",
       " 'BIRDE',\n",
       " 'asian',\n",
       " 'RUN SEVEN',\n",
       " 'RED TAPE',\n",
       " 'BIRDE',\n",
       " 'TR',\n",
       " 'Labbin',\n",
       " 'RUN SEVEN',\n",
       " 'UNDER ARMOUR',\n",
       " 'RED TAPE',\n",
       " 'TR',\n",
       " 'New Balance',\n",
       " 'asian',\n",
       " 'BIRDE',\n",
       " 'Ego by NS',\n",
       " 'asian',\n",
       " 'RED TAPE',\n",
       " 'PUMA',\n",
       " 'HIGHLANDER',\n",
       " 'BIRDE',\n",
       " 'PUMA',\n",
       " 'PUMA',\n",
       " 'ADIDAS',\n",
       " 'BRUTON',\n",
       " 'HIGHLANDER',\n",
       " 'aadi',\n",
       " 'PUMA',\n",
       " 'New Balance',\n",
       " 'ADIDAS',\n",
       " 'asian',\n",
       " 'HOTSTYLE']"
      ]
     },
     "execution_count": 9,
     "metadata": {},
     "output_type": "execute_result"
    }
   ],
   "source": [
    "Brand_name"
   ]
  },
  {
   "cell_type": "code",
   "execution_count": 10,
   "id": "a82f08a5",
   "metadata": {},
   "outputs": [],
   "source": [
    "Product_price_tags=driver.find_elements(By.XPATH,'//div[@class=\"_30jeq3\"]')\n",
    "for i in Product_price_tags:\n",
    "    price=i.text\n",
    "    Product_price.append(price)\n",
    "    "
   ]
  },
  {
   "cell_type": "code",
   "execution_count": 11,
   "id": "0e47100e",
   "metadata": {},
   "outputs": [
    {
     "data": {
      "text/plain": [
       "['₹294',\n",
       " '₹688',\n",
       " '₹299',\n",
       " '₹439',\n",
       " '₹1,179',\n",
       " '₹1,047',\n",
       " '₹982',\n",
       " '₹679',\n",
       " '₹399',\n",
       " '₹299',\n",
       " '₹688',\n",
       " '₹1,050',\n",
       " '₹1,079',\n",
       " '₹549',\n",
       " '₹399',\n",
       " '₹539',\n",
       " '₹1,050',\n",
       " '₹5,499',\n",
       " '₹1,179',\n",
       " '₹399',\n",
       " '₹5,590',\n",
       " '₹982',\n",
       " '₹544',\n",
       " '₹291',\n",
       " '₹769',\n",
       " '₹1,079',\n",
       " '₹4,299',\n",
       " '₹719',\n",
       " '₹299',\n",
       " '₹1,381',\n",
       " '₹1,707',\n",
       " '₹3,167',\n",
       " '₹295',\n",
       " '₹629',\n",
       " '₹389',\n",
       " '₹1,379',\n",
       " '₹3,929',\n",
       " '₹3,167',\n",
       " '₹982',\n",
       " '₹342']"
      ]
     },
     "execution_count": 11,
     "metadata": {},
     "output_type": "execute_result"
    }
   ],
   "source": [
    "Product_price"
   ]
  },
  {
   "cell_type": "code",
   "execution_count": 12,
   "id": "480104d0",
   "metadata": {},
   "outputs": [],
   "source": [
    "Product_desc_tags=driver.find_elements(By.XPATH, '//a[@class=\"IRpwTa\"]')\n",
    "for i in Product_desc_tags:\n",
    "    Product=i.text\n",
    "    Product_desc.append(Product)\n",
    "    \n",
    "      "
   ]
  },
  {
   "cell_type": "code",
   "execution_count": 13,
   "id": "503def62",
   "metadata": {},
   "outputs": [
    {
     "data": {
      "text/plain": [
       "['Modern Trendy Shoes Sneakers For Men',\n",
       " 'Tarzan-03 Black Sneakers,Canvas,Loafers,Stylish Sneaker...',\n",
       " 'Trending Stylish Casual Outdoor Shoes Sneakers For Men',\n",
       " 'Sneakers For Women',\n",
       " 'Casual Sneakers Shoes for Men | Soft Cushioned Insole, ...',\n",
       " 'Carnival-02 Mens High Top Casual Chunky Sneakers Sneake...',\n",
       " 'Modern Trendy Sneakers For Men Sneakers For Men',\n",
       " 'Premium Casual Shoes for Women Sneakers For Women',\n",
       " 'Sneaker Casual Shoes for Men | Soft Cushioned Insole, S...',\n",
       " '( by GO21 ) Soft Insole, Slip-Resistance|Walking Casual...',\n",
       " 'Sneaker Casual Shoes For Men | Soft Cushion Insole, Sli...',\n",
       " 'Premium Men Casual Shoes For Men Pack Of 2 Sneakers For...',\n",
       " 'Modern Trendy Sneakers For Men Sneakers For Men',\n",
       " 'Casual Sneakers ColourFul Block Shoes For Boys And Men ...',\n",
       " '( by GO21 ) Soft Insole, Slip-Resistance|Walking Casual...',\n",
       " 'Sneakers For Men',\n",
       " 'Casual Sneakers Shoes for Men | Soft Cushioned Insole, ...',\n",
       " 'Modern Trendy Sneakers For Men Sneakers For Men',\n",
       " 'Carnival-02 Mens High Top Casual Chunky Fashion Sneaker...',\n",
       " 'Combo Pack of 2 Casual Shoes Sneakers For Men',\n",
       " 'Boston-01 Chunky Sneakers,Loafers,Walking Shoes Sneaker...',\n",
       " 'Sneaker Casual Shoes For Men | Soft Cushion Insole, Sli...',\n",
       " 'GEN G RS-X Sneakers For Men',\n",
       " 'Premium Casual Shoes for Women Sneakers For Women',\n",
       " 'DAILY 3.0 Sneakers For Men',\n",
       " 'Modern Trendy Sneakers Shoes Sneakers For Men',\n",
       " 'Sneakers For Men',\n",
       " 'Sneakers For Men',\n",
       " 'Seattle Sneakers For Men',\n",
       " '574 Sneakers For Men',\n",
       " 'Carnival-02 Mens High Top Casual Chunky Sneakers For Me...']"
      ]
     },
     "execution_count": 13,
     "metadata": {},
     "output_type": "execute_result"
    }
   ],
   "source": [
    "Product_desc"
   ]
  },
  {
   "cell_type": "code",
   "execution_count": 16,
   "id": "8d79f021",
   "metadata": {},
   "outputs": [
    {
     "name": "stdout",
     "output_type": "stream",
     "text": [
      "40\n",
      "40\n",
      "31\n"
     ]
    },
    {
     "data": {
      "text/plain": [
       "(None, None, None)"
      ]
     },
     "execution_count": 16,
     "metadata": {},
     "output_type": "execute_result"
    }
   ],
   "source": [
    "print(len(Brand_name)),print(len(Product_price)),print(len(Product_desc))"
   ]
  },
  {
   "cell_type": "code",
   "execution_count": 17,
   "id": "048b9c43",
   "metadata": {},
   "outputs": [
    {
     "ename": "ValueError",
     "evalue": "All arrays must be of the same length",
     "output_type": "error",
     "traceback": [
      "\u001b[1;31m---------------------------------------------------------------------------\u001b[0m",
      "\u001b[1;31mValueError\u001b[0m                                Traceback (most recent call last)",
      "Cell \u001b[1;32mIn[17], line 2\u001b[0m\n\u001b[0;32m      1\u001b[0m \u001b[38;5;28;01mimport\u001b[39;00m \u001b[38;5;21;01mpandas\u001b[39;00m \u001b[38;5;28;01mas\u001b[39;00m \u001b[38;5;21;01mpd\u001b[39;00m\n\u001b[1;32m----> 2\u001b[0m df\u001b[38;5;241m=\u001b[39mpd\u001b[38;5;241m.\u001b[39mDataFrame({\u001b[38;5;124m'\u001b[39m\u001b[38;5;124mBrand\u001b[39m\u001b[38;5;124m'\u001b[39m:Brand_name[:\u001b[38;5;241m100\u001b[39m], \u001b[38;5;124m'\u001b[39m\u001b[38;5;124mProduct\u001b[39m\u001b[38;5;124m'\u001b[39m: Product_price[:\u001b[38;5;241m100\u001b[39m], \u001b[38;5;124m'\u001b[39m\u001b[38;5;124mProduct\u001b[39m\u001b[38;5;124m'\u001b[39m: Product_desc[:\u001b[38;5;241m100\u001b[39m]})\n",
      "File \u001b[1;32m~\\anaconda3\\Lib\\site-packages\\pandas\\core\\frame.py:664\u001b[0m, in \u001b[0;36mDataFrame.__init__\u001b[1;34m(self, data, index, columns, dtype, copy)\u001b[0m\n\u001b[0;32m    658\u001b[0m     mgr \u001b[38;5;241m=\u001b[39m \u001b[38;5;28mself\u001b[39m\u001b[38;5;241m.\u001b[39m_init_mgr(\n\u001b[0;32m    659\u001b[0m         data, axes\u001b[38;5;241m=\u001b[39m{\u001b[38;5;124m\"\u001b[39m\u001b[38;5;124mindex\u001b[39m\u001b[38;5;124m\"\u001b[39m: index, \u001b[38;5;124m\"\u001b[39m\u001b[38;5;124mcolumns\u001b[39m\u001b[38;5;124m\"\u001b[39m: columns}, dtype\u001b[38;5;241m=\u001b[39mdtype, copy\u001b[38;5;241m=\u001b[39mcopy\n\u001b[0;32m    660\u001b[0m     )\n\u001b[0;32m    662\u001b[0m \u001b[38;5;28;01melif\u001b[39;00m \u001b[38;5;28misinstance\u001b[39m(data, \u001b[38;5;28mdict\u001b[39m):\n\u001b[0;32m    663\u001b[0m     \u001b[38;5;66;03m# GH#38939 de facto copy defaults to False only in non-dict cases\u001b[39;00m\n\u001b[1;32m--> 664\u001b[0m     mgr \u001b[38;5;241m=\u001b[39m dict_to_mgr(data, index, columns, dtype\u001b[38;5;241m=\u001b[39mdtype, copy\u001b[38;5;241m=\u001b[39mcopy, typ\u001b[38;5;241m=\u001b[39mmanager)\n\u001b[0;32m    665\u001b[0m \u001b[38;5;28;01melif\u001b[39;00m \u001b[38;5;28misinstance\u001b[39m(data, ma\u001b[38;5;241m.\u001b[39mMaskedArray):\n\u001b[0;32m    666\u001b[0m     \u001b[38;5;28;01mimport\u001b[39;00m \u001b[38;5;21;01mnumpy\u001b[39;00m\u001b[38;5;21;01m.\u001b[39;00m\u001b[38;5;21;01mma\u001b[39;00m\u001b[38;5;21;01m.\u001b[39;00m\u001b[38;5;21;01mmrecords\u001b[39;00m \u001b[38;5;28;01mas\u001b[39;00m \u001b[38;5;21;01mmrecords\u001b[39;00m\n",
      "File \u001b[1;32m~\\anaconda3\\Lib\\site-packages\\pandas\\core\\internals\\construction.py:493\u001b[0m, in \u001b[0;36mdict_to_mgr\u001b[1;34m(data, index, columns, dtype, typ, copy)\u001b[0m\n\u001b[0;32m    489\u001b[0m     \u001b[38;5;28;01melse\u001b[39;00m:\n\u001b[0;32m    490\u001b[0m         \u001b[38;5;66;03m# dtype check to exclude e.g. range objects, scalars\u001b[39;00m\n\u001b[0;32m    491\u001b[0m         arrays \u001b[38;5;241m=\u001b[39m [x\u001b[38;5;241m.\u001b[39mcopy() \u001b[38;5;28;01mif\u001b[39;00m \u001b[38;5;28mhasattr\u001b[39m(x, \u001b[38;5;124m\"\u001b[39m\u001b[38;5;124mdtype\u001b[39m\u001b[38;5;124m\"\u001b[39m) \u001b[38;5;28;01melse\u001b[39;00m x \u001b[38;5;28;01mfor\u001b[39;00m x \u001b[38;5;129;01min\u001b[39;00m arrays]\n\u001b[1;32m--> 493\u001b[0m \u001b[38;5;28;01mreturn\u001b[39;00m arrays_to_mgr(arrays, columns, index, dtype\u001b[38;5;241m=\u001b[39mdtype, typ\u001b[38;5;241m=\u001b[39mtyp, consolidate\u001b[38;5;241m=\u001b[39mcopy)\n",
      "File \u001b[1;32m~\\anaconda3\\Lib\\site-packages\\pandas\\core\\internals\\construction.py:118\u001b[0m, in \u001b[0;36marrays_to_mgr\u001b[1;34m(arrays, columns, index, dtype, verify_integrity, typ, consolidate)\u001b[0m\n\u001b[0;32m    115\u001b[0m \u001b[38;5;28;01mif\u001b[39;00m verify_integrity:\n\u001b[0;32m    116\u001b[0m     \u001b[38;5;66;03m# figure out the index, if necessary\u001b[39;00m\n\u001b[0;32m    117\u001b[0m     \u001b[38;5;28;01mif\u001b[39;00m index \u001b[38;5;129;01mis\u001b[39;00m \u001b[38;5;28;01mNone\u001b[39;00m:\n\u001b[1;32m--> 118\u001b[0m         index \u001b[38;5;241m=\u001b[39m _extract_index(arrays)\n\u001b[0;32m    119\u001b[0m     \u001b[38;5;28;01melse\u001b[39;00m:\n\u001b[0;32m    120\u001b[0m         index \u001b[38;5;241m=\u001b[39m ensure_index(index)\n",
      "File \u001b[1;32m~\\anaconda3\\Lib\\site-packages\\pandas\\core\\internals\\construction.py:666\u001b[0m, in \u001b[0;36m_extract_index\u001b[1;34m(data)\u001b[0m\n\u001b[0;32m    664\u001b[0m lengths \u001b[38;5;241m=\u001b[39m \u001b[38;5;28mlist\u001b[39m(\u001b[38;5;28mset\u001b[39m(raw_lengths))\n\u001b[0;32m    665\u001b[0m \u001b[38;5;28;01mif\u001b[39;00m \u001b[38;5;28mlen\u001b[39m(lengths) \u001b[38;5;241m>\u001b[39m \u001b[38;5;241m1\u001b[39m:\n\u001b[1;32m--> 666\u001b[0m     \u001b[38;5;28;01mraise\u001b[39;00m \u001b[38;5;167;01mValueError\u001b[39;00m(\u001b[38;5;124m\"\u001b[39m\u001b[38;5;124mAll arrays must be of the same length\u001b[39m\u001b[38;5;124m\"\u001b[39m)\n\u001b[0;32m    668\u001b[0m \u001b[38;5;28;01mif\u001b[39;00m have_dicts:\n\u001b[0;32m    669\u001b[0m     \u001b[38;5;28;01mraise\u001b[39;00m \u001b[38;5;167;01mValueError\u001b[39;00m(\n\u001b[0;32m    670\u001b[0m         \u001b[38;5;124m\"\u001b[39m\u001b[38;5;124mMixing dicts with non-Series may lead to ambiguous ordering.\u001b[39m\u001b[38;5;124m\"\u001b[39m\n\u001b[0;32m    671\u001b[0m     )\n",
      "\u001b[1;31mValueError\u001b[0m: All arrays must be of the same length"
     ]
    }
   ],
   "source": [
    "import pandas as pd\n",
    "df=pd.DataFrame({'Brand':Brand_name[:100], 'Product': Product_price[:100], 'Product': Product_desc[:100]})"
   ]
  },
  {
   "cell_type": "code",
   "execution_count": null,
   "id": "ada229e9",
   "metadata": {},
   "outputs": [],
   "source": []
  }
 ],
 "metadata": {
  "kernelspec": {
   "display_name": "Python 3 (ipykernel)",
   "language": "python",
   "name": "python3"
  },
  "language_info": {
   "codemirror_mode": {
    "name": "ipython",
    "version": 3
   },
   "file_extension": ".py",
   "mimetype": "text/x-python",
   "name": "python",
   "nbconvert_exporter": "python",
   "pygments_lexer": "ipython3",
   "version": "3.11.4"
  }
 },
 "nbformat": 4,
 "nbformat_minor": 5
}
