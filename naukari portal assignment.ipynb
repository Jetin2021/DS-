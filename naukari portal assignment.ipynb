{
 "cells": [
  {
   "cell_type": "code",
   "execution_count": 1,
   "id": "c6927cf0",
   "metadata": {},
   "outputs": [
    {
     "name": "stdout",
     "output_type": "stream",
     "text": [
      "Requirement already satisfied: selenium in c:\\users\\divya rekha\\anaconda3\\lib\\site-packages (4.18.1)\n",
      "Requirement already satisfied: urllib3[socks]<3,>=1.26 in c:\\users\\divya rekha\\anaconda3\\lib\\site-packages (from selenium) (1.26.16)\n",
      "Requirement already satisfied: trio~=0.17 in c:\\users\\divya rekha\\anaconda3\\lib\\site-packages (from selenium) (0.24.0)\n",
      "Requirement already satisfied: trio-websocket~=0.9 in c:\\users\\divya rekha\\anaconda3\\lib\\site-packages (from selenium) (0.11.1)\n",
      "Requirement already satisfied: certifi>=2021.10.8 in c:\\users\\divya rekha\\anaconda3\\lib\\site-packages (from selenium) (2023.7.22)\n",
      "Requirement already satisfied: typing_extensions>=4.9.0 in c:\\users\\divya rekha\\anaconda3\\lib\\site-packages (from selenium) (4.10.0)\n",
      "Requirement already satisfied: attrs>=20.1.0 in c:\\users\\divya rekha\\anaconda3\\lib\\site-packages (from trio~=0.17->selenium) (22.1.0)\n",
      "Requirement already satisfied: sortedcontainers in c:\\users\\divya rekha\\anaconda3\\lib\\site-packages (from trio~=0.17->selenium) (2.4.0)\n",
      "Requirement already satisfied: idna in c:\\users\\divya rekha\\anaconda3\\lib\\site-packages (from trio~=0.17->selenium) (3.4)\n",
      "Requirement already satisfied: outcome in c:\\users\\divya rekha\\anaconda3\\lib\\site-packages (from trio~=0.17->selenium) (1.3.0.post0)\n",
      "Requirement already satisfied: sniffio>=1.3.0 in c:\\users\\divya rekha\\anaconda3\\lib\\site-packages (from trio~=0.17->selenium) (1.3.1)\n",
      "Requirement already satisfied: cffi>=1.14 in c:\\users\\divya rekha\\anaconda3\\lib\\site-packages (from trio~=0.17->selenium) (1.15.1)\n",
      "Requirement already satisfied: wsproto>=0.14 in c:\\users\\divya rekha\\anaconda3\\lib\\site-packages (from trio-websocket~=0.9->selenium) (1.2.0)\n",
      "Requirement already satisfied: PySocks!=1.5.7,<2.0,>=1.5.6 in c:\\users\\divya rekha\\anaconda3\\lib\\site-packages (from urllib3[socks]<3,>=1.26->selenium) (1.7.1)\n",
      "Requirement already satisfied: pycparser in c:\\users\\divya rekha\\anaconda3\\lib\\site-packages (from cffi>=1.14->trio~=0.17->selenium) (2.21)\n",
      "Requirement already satisfied: h11<1,>=0.9.0 in c:\\users\\divya rekha\\anaconda3\\lib\\site-packages (from wsproto>=0.14->trio-websocket~=0.9->selenium) (0.14.0)\n"
     ]
    }
   ],
   "source": [
    "!pip install selenium"
   ]
  },
  {
   "cell_type": "code",
   "execution_count": 2,
   "id": "f8c2aa15",
   "metadata": {},
   "outputs": [],
   "source": [
    "import selenium\n",
    "import pandas as pd\n",
    "from selenium import webdriver\n",
    "import warnings\n",
    "from selenium.webdriver.common.by import By"
   ]
  },
  {
   "cell_type": "code",
   "execution_count": 3,
   "id": "7b67a12f",
   "metadata": {},
   "outputs": [],
   "source": [
    "driver = webdriver.Chrome()"
   ]
  },
  {
   "cell_type": "code",
   "execution_count": 4,
   "id": "484d4a5f",
   "metadata": {},
   "outputs": [],
   "source": [
    "driver.get (\"https://www.naukri.com/\")"
   ]
  },
  {
   "cell_type": "code",
   "execution_count": 5,
   "id": "0b5de4e3",
   "metadata": {},
   "outputs": [],
   "source": [
    "designation=driver.find_element(By.CLASS_NAME,\"suggestor-input\")\n",
    "designation.send_keys('Data Scientist')"
   ]
  },
  {
   "cell_type": "code",
   "execution_count": 6,
   "id": "2ed10a96",
   "metadata": {},
   "outputs": [],
   "source": [
    "location=driver.find_element(By.XPATH,\"/html/body/div[1]/div[7]/div/div/div[5]/div/div/div/div[1]/div/input\")\n",
    "location.send_keys('Bangalore')"
   ]
  },
  {
   "cell_type": "code",
   "execution_count": 7,
   "id": "2f073a10",
   "metadata": {},
   "outputs": [],
   "source": [
    "search=driver.find_element(By.CLASS_NAME,\"qsbSubmit\")\n",
    "search.click()"
   ]
  },
  {
   "cell_type": "code",
   "execution_count": 23,
   "id": "e68dcdbb",
   "metadata": {},
   "outputs": [],
   "source": [
    "job_title=[]\n",
    "job_location=[]\n",
    "company_name=[]\n",
    "experience_required=[]"
   ]
  },
  {
   "cell_type": "code",
   "execution_count": 24,
   "id": "a054ab92",
   "metadata": {},
   "outputs": [],
   "source": [
    "title_tags=driver.find_elements(By.XPATH, '//div[@class=\"cust-job-tuple layout-wrapper lay-2 sjw__tuple \"]/div/a')       \n",
    "for i in title_tags:\n",
    "    title=i.text\n",
    "    job_title.append(title)"
   ]
  },
  {
   "cell_type": "code",
   "execution_count": 25,
   "id": "49693081",
   "metadata": {},
   "outputs": [
    {
     "data": {
      "text/plain": [
       "['Senior Data Scientist, Reporting',\n",
       " 'Data Scientist, Marketing',\n",
       " 'HCL Hiring||Senior Data Scientist Role||Location Bangalore & Pune',\n",
       " 'Data Scientist',\n",
       " 'Data Scientist',\n",
       " 'AI Data Scientist',\n",
       " 'GenAI Data Scientist',\n",
       " 'Data Scientist HTHD',\n",
       " 'Data Scientist-Senior Associate - P&T Labs',\n",
       " 'Data Scientist',\n",
       " 'Data Scientist',\n",
       " 'Data Scientist',\n",
       " 'Data Scientist AI / ML - Senior Associate',\n",
       " 'Xoriant is hiring Senior Generative AI Engineer !',\n",
       " 'DS - NLP Expert',\n",
       " 'Generative AI Data Scientist',\n",
       " 'Data Scientist-Senior Associate-P&T Labs',\n",
       " 'Data Scientist',\n",
       " 'Data Science',\n",
       " 'Experienced Data Scientist']"
      ]
     },
     "execution_count": 25,
     "metadata": {},
     "output_type": "execute_result"
    }
   ],
   "source": [
    "job_title"
   ]
  },
  {
   "cell_type": "code",
   "execution_count": 29,
   "id": "642522dc",
   "metadata": {},
   "outputs": [],
   "source": [
    "location_tags=driver.find_elements(By.XPATH,'//span[@class=\"locWdth\"]')\n",
    "for i in location_tags:\n",
    "    location=i.text\n",
    "    job_location.append(location)\n"
   ]
  },
  {
   "cell_type": "code",
   "execution_count": 30,
   "id": "d3b8c840",
   "metadata": {},
   "outputs": [
    {
     "data": {
      "text/plain": [
       "['Bangalore/Bengaluru, Kolkata, Mumbai, New Delhi, Hyderabad/Secunderabad, Pune, Chennai',\n",
       " 'Bangalore/Bengaluru, Kolkata, Mumbai, New Delhi, Hyderabad/Secunderabad, Pune, Chennai',\n",
       " 'Hybrid - Bangalore Rural, Karnataka, Pune, Maharashtra',\n",
       " 'Hybrid - Bangalore Rural, Karnataka, Mumbai (All Areas)',\n",
       " 'Kolkata, Mumbai, New Delhi, Hyderabad, Pune, Chennai, Bengaluru',\n",
       " 'Kolkata, Mumbai, New Delhi, Hyderabad, Pune, Chennai, Bengaluru',\n",
       " 'Kolkata, Mumbai, New Delhi, Hyderabad, Pune, Chennai, Bengaluru',\n",
       " 'Kolkata, Mumbai, New Delhi, Hyderabad, Pune, Chennai, Bengaluru',\n",
       " 'Mumbai, Hyderabad, Bengaluru',\n",
       " 'Bengaluru',\n",
       " 'Bengaluru',\n",
       " 'Hybrid - Bengaluru, Karnataka',\n",
       " 'Bengaluru',\n",
       " 'Hybrid - Bangalore Rural, Karnataka, Pune, Maharashtra, Mumbai (All Areas)',\n",
       " 'Bangalore/ Bengaluru, Karnataka, Hyderabad, Telangana, Gurugram, Haryana',\n",
       " 'Hyderabad, Gurugram, Bengaluru',\n",
       " 'Hyderabad, Bengaluru',\n",
       " 'Remote',\n",
       " 'Hybrid - Bangalore Rural, Karnataka, Chennai, Delhi / NCR',\n",
       " 'Bengaluru']"
      ]
     },
     "execution_count": 30,
     "metadata": {},
     "output_type": "execute_result"
    }
   ],
   "source": [
    "job_location"
   ]
  },
  {
   "cell_type": "code",
   "execution_count": 31,
   "id": "fe881da9",
   "metadata": {},
   "outputs": [],
   "source": [
    "company_tags=driver.find_elements(By.XPATH,'//div[@class=\" row2\"]/span/a[1]')\n",
    "for i in company_tags:\n",
    "    company=i.text\n",
    "    company_name.append(company)\n"
   ]
  },
  {
   "cell_type": "code",
   "execution_count": 32,
   "id": "6085cc88",
   "metadata": {},
   "outputs": [
    {
     "data": {
      "text/plain": [
       "['Coursera',\n",
       " 'Coursera',\n",
       " 'HCLTech',\n",
       " 'Birlasoft',\n",
       " 'Ford',\n",
       " 'Ford',\n",
       " 'Ford',\n",
       " 'Ford',\n",
       " 'PwC Service Delivery Center',\n",
       " 'Applied Materials',\n",
       " 'Applied Materials',\n",
       " 'Oracle',\n",
       " 'PwC Service Delivery Center',\n",
       " 'Xoriant',\n",
       " 'Genpact',\n",
       " 'Genpact',\n",
       " 'PwC Service Delivery Center',\n",
       " 'Brace Infotech',\n",
       " 'Sopra Steria',\n",
       " 'Volvo Financial Services']"
      ]
     },
     "execution_count": 32,
     "metadata": {},
     "output_type": "execute_result"
    }
   ],
   "source": [
    "company_name"
   ]
  },
  {
   "cell_type": "code",
   "execution_count": 33,
   "id": "fb6feb03",
   "metadata": {},
   "outputs": [],
   "source": [
    "experience_tags=driver.find_elements(By.XPATH, '//span[@class=\"expwdth\"]')\n",
    "for i in experience_tags:\n",
    "    exp=i.text\n",
    "    experience_required.append(exp)"
   ]
  },
  {
   "cell_type": "code",
   "execution_count": 34,
   "id": "637f1fd8",
   "metadata": {},
   "outputs": [
    {
     "data": {
      "text/plain": [
       "['6-7 Yrs',\n",
       " '4-6 Yrs',\n",
       " '10-20 Yrs',\n",
       " '8-12 Yrs',\n",
       " '3-6 Yrs',\n",
       " '2-6 Yrs',\n",
       " '5-6 Yrs',\n",
       " '1-4 Yrs',\n",
       " '4-6 Yrs',\n",
       " '4-7 Yrs',\n",
       " '4-7 Yrs',\n",
       " '5-10 Yrs',\n",
       " '5-10 Yrs',\n",
       " '5-10 Yrs',\n",
       " '6-11 Yrs',\n",
       " '8-13 Yrs',\n",
       " '4-6 Yrs',\n",
       " '3-8 Yrs',\n",
       " '4-8 Yrs',\n",
       " '3-8 Yrs']"
      ]
     },
     "execution_count": 34,
     "metadata": {},
     "output_type": "execute_result"
    }
   ],
   "source": [
    "experience_required"
   ]
  },
  {
   "cell_type": "code",
   "execution_count": 35,
   "id": "1b40bfb4",
   "metadata": {},
   "outputs": [
    {
     "name": "stdout",
     "output_type": "stream",
     "text": [
      "20 20 20 20\n"
     ]
    }
   ],
   "source": [
    "print(len(job_title),len(job_location),len(company_name),len(experience_required))"
   ]
  },
  {
   "cell_type": "code",
   "execution_count": 36,
   "id": "bf15bf01",
   "metadata": {},
   "outputs": [],
   "source": [
    "import pandas as pd\n",
    "df=pd.DataFrame({'Title':job_title[:10], 'Location': job_location[:10], 'Company_name': company_name[:10], 'Experience': experience_required[:10]})"
   ]
  },
  {
   "cell_type": "code",
   "execution_count": 37,
   "id": "88e963d6",
   "metadata": {},
   "outputs": [
    {
     "data": {
      "text/html": [
       "<div>\n",
       "<style scoped>\n",
       "    .dataframe tbody tr th:only-of-type {\n",
       "        vertical-align: middle;\n",
       "    }\n",
       "\n",
       "    .dataframe tbody tr th {\n",
       "        vertical-align: top;\n",
       "    }\n",
       "\n",
       "    .dataframe thead th {\n",
       "        text-align: right;\n",
       "    }\n",
       "</style>\n",
       "<table border=\"1\" class=\"dataframe\">\n",
       "  <thead>\n",
       "    <tr style=\"text-align: right;\">\n",
       "      <th></th>\n",
       "      <th>Title</th>\n",
       "      <th>Location</th>\n",
       "      <th>Company_name</th>\n",
       "      <th>Experience</th>\n",
       "    </tr>\n",
       "  </thead>\n",
       "  <tbody>\n",
       "    <tr>\n",
       "      <th>0</th>\n",
       "      <td>Senior Data Scientist, Reporting</td>\n",
       "      <td>Bangalore/Bengaluru, Kolkata, Mumbai, New Delh...</td>\n",
       "      <td>Coursera</td>\n",
       "      <td>6-7 Yrs</td>\n",
       "    </tr>\n",
       "    <tr>\n",
       "      <th>1</th>\n",
       "      <td>Data Scientist, Marketing</td>\n",
       "      <td>Bangalore/Bengaluru, Kolkata, Mumbai, New Delh...</td>\n",
       "      <td>Coursera</td>\n",
       "      <td>4-6 Yrs</td>\n",
       "    </tr>\n",
       "    <tr>\n",
       "      <th>2</th>\n",
       "      <td>HCL Hiring||Senior Data Scientist Role||Locati...</td>\n",
       "      <td>Hybrid - Bangalore Rural, Karnataka, Pune, Mah...</td>\n",
       "      <td>HCLTech</td>\n",
       "      <td>10-20 Yrs</td>\n",
       "    </tr>\n",
       "    <tr>\n",
       "      <th>3</th>\n",
       "      <td>Data Scientist</td>\n",
       "      <td>Hybrid - Bangalore Rural, Karnataka, Mumbai (A...</td>\n",
       "      <td>Birlasoft</td>\n",
       "      <td>8-12 Yrs</td>\n",
       "    </tr>\n",
       "    <tr>\n",
       "      <th>4</th>\n",
       "      <td>Data Scientist</td>\n",
       "      <td>Kolkata, Mumbai, New Delhi, Hyderabad, Pune, C...</td>\n",
       "      <td>Ford</td>\n",
       "      <td>3-6 Yrs</td>\n",
       "    </tr>\n",
       "    <tr>\n",
       "      <th>5</th>\n",
       "      <td>AI Data Scientist</td>\n",
       "      <td>Kolkata, Mumbai, New Delhi, Hyderabad, Pune, C...</td>\n",
       "      <td>Ford</td>\n",
       "      <td>2-6 Yrs</td>\n",
       "    </tr>\n",
       "    <tr>\n",
       "      <th>6</th>\n",
       "      <td>GenAI Data Scientist</td>\n",
       "      <td>Kolkata, Mumbai, New Delhi, Hyderabad, Pune, C...</td>\n",
       "      <td>Ford</td>\n",
       "      <td>5-6 Yrs</td>\n",
       "    </tr>\n",
       "    <tr>\n",
       "      <th>7</th>\n",
       "      <td>Data Scientist HTHD</td>\n",
       "      <td>Kolkata, Mumbai, New Delhi, Hyderabad, Pune, C...</td>\n",
       "      <td>Ford</td>\n",
       "      <td>1-4 Yrs</td>\n",
       "    </tr>\n",
       "    <tr>\n",
       "      <th>8</th>\n",
       "      <td>Data Scientist-Senior Associate - P&amp;T Labs</td>\n",
       "      <td>Mumbai, Hyderabad, Bengaluru</td>\n",
       "      <td>PwC Service Delivery Center</td>\n",
       "      <td>4-6 Yrs</td>\n",
       "    </tr>\n",
       "    <tr>\n",
       "      <th>9</th>\n",
       "      <td>Data Scientist</td>\n",
       "      <td>Bengaluru</td>\n",
       "      <td>Applied Materials</td>\n",
       "      <td>4-7 Yrs</td>\n",
       "    </tr>\n",
       "  </tbody>\n",
       "</table>\n",
       "</div>"
      ],
      "text/plain": [
       "                                               Title  \\\n",
       "0                   Senior Data Scientist, Reporting   \n",
       "1                          Data Scientist, Marketing   \n",
       "2  HCL Hiring||Senior Data Scientist Role||Locati...   \n",
       "3                                     Data Scientist   \n",
       "4                                     Data Scientist   \n",
       "5                                  AI Data Scientist   \n",
       "6                               GenAI Data Scientist   \n",
       "7                                Data Scientist HTHD   \n",
       "8         Data Scientist-Senior Associate - P&T Labs   \n",
       "9                                     Data Scientist   \n",
       "\n",
       "                                            Location  \\\n",
       "0  Bangalore/Bengaluru, Kolkata, Mumbai, New Delh...   \n",
       "1  Bangalore/Bengaluru, Kolkata, Mumbai, New Delh...   \n",
       "2  Hybrid - Bangalore Rural, Karnataka, Pune, Mah...   \n",
       "3  Hybrid - Bangalore Rural, Karnataka, Mumbai (A...   \n",
       "4  Kolkata, Mumbai, New Delhi, Hyderabad, Pune, C...   \n",
       "5  Kolkata, Mumbai, New Delhi, Hyderabad, Pune, C...   \n",
       "6  Kolkata, Mumbai, New Delhi, Hyderabad, Pune, C...   \n",
       "7  Kolkata, Mumbai, New Delhi, Hyderabad, Pune, C...   \n",
       "8                       Mumbai, Hyderabad, Bengaluru   \n",
       "9                                          Bengaluru   \n",
       "\n",
       "                  Company_name Experience  \n",
       "0                     Coursera    6-7 Yrs  \n",
       "1                     Coursera    4-6 Yrs  \n",
       "2                      HCLTech  10-20 Yrs  \n",
       "3                    Birlasoft   8-12 Yrs  \n",
       "4                         Ford    3-6 Yrs  \n",
       "5                         Ford    2-6 Yrs  \n",
       "6                         Ford    5-6 Yrs  \n",
       "7                         Ford    1-4 Yrs  \n",
       "8  PwC Service Delivery Center    4-6 Yrs  \n",
       "9            Applied Materials    4-7 Yrs  "
      ]
     },
     "execution_count": 37,
     "metadata": {},
     "output_type": "execute_result"
    }
   ],
   "source": [
    "df"
   ]
  },
  {
   "cell_type": "code",
   "execution_count": null,
   "id": "f24c9bb1",
   "metadata": {},
   "outputs": [],
   "source": []
  },
  {
   "cell_type": "code",
   "execution_count": null,
   "id": "6e3d2bbf",
   "metadata": {},
   "outputs": [],
   "source": []
  }
 ],
 "metadata": {
  "kernelspec": {
   "display_name": "Python 3 (ipykernel)",
   "language": "python",
   "name": "python3"
  },
  "language_info": {
   "codemirror_mode": {
    "name": "ipython",
    "version": 3
   },
   "file_extension": ".py",
   "mimetype": "text/x-python",
   "name": "python",
   "nbconvert_exporter": "python",
   "pygments_lexer": "ipython3",
   "version": "3.11.4"
  }
 },
 "nbformat": 4,
 "nbformat_minor": 5
}
